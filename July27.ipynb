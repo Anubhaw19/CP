{
 "cells": [
  {
   "cell_type": "code",
   "execution_count": null,
   "id": "b75a3a12",
   "metadata": {},
   "outputs": [],
   "source": [
    "#In Python a function is some reusable code that takes arguments(s) as input, does some computation,\n",
    "#and then returns a result or results\n",
    "#def <function_name>(parameters):\n",
    "   # <statments 1>\n",
    "   # <statment 2>\n",
    "   # return"
   ]
  },
  {
   "cell_type": "code",
   "execution_count": null,
   "id": "7c5455f6",
   "metadata": {},
   "outputs": [],
   "source": [
    "#Datatypes\n",
    "#Lists\n",
    "#Dictionaries\n",
    "#Function basics\n",
    "#Arithmetic and logical operations"
   ]
  },
  {
   "cell_type": "code",
   "execution_count": null,
   "id": "1b80fe73",
   "metadata": {},
   "outputs": [],
   "source": [
    "#tuples are immutable"
   ]
  },
  {
   "cell_type": "code",
   "execution_count": 2,
   "id": "7b52b15a",
   "metadata": {},
   "outputs": [
    {
     "data": {
      "text/plain": [
       "[1, 2, 3, 4, 5]"
      ]
     },
     "execution_count": 2,
     "metadata": {},
     "output_type": "execute_result"
    }
   ],
   "source": [
    "ls = [1,2,3,3,4,5,5,5]\n",
    "list(set(ls))"
   ]
  },
  {
   "cell_type": "code",
   "execution_count": null,
   "id": "e5d5e0a2",
   "metadata": {},
   "outputs": [],
   "source": []
  },
  {
   "cell_type": "code",
   "execution_count": 1,
   "id": "831aca8e",
   "metadata": {},
   "outputs": [],
   "source": []
  },
  {
   "cell_type": "code",
   "execution_count": 3,
   "id": "8a94f074",
   "metadata": {},
   "outputs": [],
   "source": [
    "#Merge two Python dictionaries into one\n",
    "dict1 = {'one': 1, 'Two': 2, 'Three': 3}\n",
    "dict2 = {'Four': 4, 'Five': 5, 'Six': 6}\n",
    "newdict = {'one': 1, 'Two': 2, 'Three': 3,'Four': 4, 'Five': 5, 'Six': 6}"
   ]
  },
  {
   "cell_type": "code",
   "execution_count": 11,
   "id": "ddeed87e",
   "metadata": {},
   "outputs": [
    {
     "data": {
      "text/plain": [
       "{'one': 1, 'Two': 2, 'Three': 3, 'Four': 4, 'Five': 5, 'Six': 6}"
      ]
     },
     "execution_count": 11,
     "metadata": {},
     "output_type": "execute_result"
    }
   ],
   "source": [
    "dict1.update(dict2)\n",
    "dict1"
   ]
  },
  {
   "cell_type": "code",
   "execution_count": 14,
   "id": "b8943ad1",
   "metadata": {},
   "outputs": [
    {
     "data": {
      "text/plain": [
       "['__class__',\n",
       " '__contains__',\n",
       " '__delattr__',\n",
       " '__delitem__',\n",
       " '__dir__',\n",
       " '__doc__',\n",
       " '__eq__',\n",
       " '__format__',\n",
       " '__ge__',\n",
       " '__getattribute__',\n",
       " '__getitem__',\n",
       " '__gt__',\n",
       " '__hash__',\n",
       " '__init__',\n",
       " '__init_subclass__',\n",
       " '__iter__',\n",
       " '__le__',\n",
       " '__len__',\n",
       " '__lt__',\n",
       " '__ne__',\n",
       " '__new__',\n",
       " '__reduce__',\n",
       " '__reduce_ex__',\n",
       " '__repr__',\n",
       " '__reversed__',\n",
       " '__setattr__',\n",
       " '__setitem__',\n",
       " '__sizeof__',\n",
       " '__str__',\n",
       " '__subclasshook__',\n",
       " 'clear',\n",
       " 'copy',\n",
       " 'fromkeys',\n",
       " 'get',\n",
       " 'items',\n",
       " 'keys',\n",
       " 'pop',\n",
       " 'popitem',\n",
       " 'setdefault',\n",
       " 'update',\n",
       " 'values']"
      ]
     },
     "execution_count": 14,
     "metadata": {},
     "output_type": "execute_result"
    }
   ],
   "source": [
    "dir(dict)"
   ]
  },
  {
   "cell_type": "code",
   "execution_count": 9,
   "id": "c5db158d",
   "metadata": {},
   "outputs": [
    {
     "data": {
      "text/plain": [
       "['one', 1, 'Two', 2, 'Three', 3, 'Four', 4, 'Five', 5, 'Six', 6]"
      ]
     },
     "execution_count": 9,
     "metadata": {},
     "output_type": "execute_result"
    }
   ],
   "source": [
    "ls1 = ['one', 1, 'Two', 2, 'Three', 3]\n",
    "ls2 = ['Four', 4, 'Five', 5, 'Six',6]\n",
    "ls1.extend(ls2)\n",
    "ls1"
   ]
  },
  {
   "cell_type": "code",
   "execution_count": null,
   "id": "ce441f18",
   "metadata": {},
   "outputs": [],
   "source": []
  },
  {
   "cell_type": "code",
   "execution_count": 21,
   "id": "65617314",
   "metadata": {},
   "outputs": [],
   "source": [
    "#Extract a list of first letters of each word from a sentence\n",
    "sent = 'We are learning Python'\n",
    "#Expected output = ['W','a','l','P']\n",
    "# Expected o/p = 'WalP' --- Homework"
   ]
  },
  {
   "cell_type": "code",
   "execution_count": 16,
   "id": "94447ce9",
   "metadata": {},
   "outputs": [
    {
     "data": {
      "text/plain": [
       "['we', 'are', 'learning', 'python']"
      ]
     },
     "execution_count": 16,
     "metadata": {},
     "output_type": "execute_result"
    }
   ],
   "source": [
    "sent.split()"
   ]
  },
  {
   "cell_type": "code",
   "execution_count": 15,
   "id": "cebcf84a",
   "metadata": {},
   "outputs": [
    {
     "name": "stdout",
     "output_type": "stream",
     "text": [
      "['w', 'a', 'l', 'p']\n"
     ]
    }
   ],
   "source": [
    "sent = 'we are learning python'\n",
    "list1 = sent.split()\n",
    "list2 = []\n",
    "for word in list1:\n",
    "    list2.append(word[0])\n",
    "print(list2)"
   ]
  },
  {
   "cell_type": "code",
   "execution_count": 22,
   "id": "567cb2de",
   "metadata": {},
   "outputs": [],
   "source": [
    "def extractfirst(sentence):\n",
    "    return [i[0] for i in sentence.split()]"
   ]
  },
  {
   "cell_type": "code",
   "execution_count": 23,
   "id": "278b5580",
   "metadata": {},
   "outputs": [
    {
     "data": {
      "text/plain": [
       "['H', 'H', 'a', 'y']"
      ]
     },
     "execution_count": 23,
     "metadata": {},
     "output_type": "execute_result"
    }
   ],
   "source": [
    "# list comprehension\n",
    "extractfirst('Hai How are you')"
   ]
  },
  {
   "cell_type": "code",
   "execution_count": null,
   "id": "38c55430",
   "metadata": {},
   "outputs": [],
   "source": []
  },
  {
   "cell_type": "code",
   "execution_count": null,
   "id": "5b3bb93a",
   "metadata": {},
   "outputs": [],
   "source": [
    "#Given a sentence, return a sentence with the words reversed\n",
    "#'We are ready' --> 'ready are We'"
   ]
  },
  {
   "cell_type": "code",
   "execution_count": 30,
   "id": "fcd3ec85",
   "metadata": {},
   "outputs": [
    {
     "data": {
      "text/plain": [
       "'ready are We'"
      ]
     },
     "execution_count": 30,
     "metadata": {},
     "output_type": "execute_result"
    }
   ],
   "source": [
    "s = 'We are ready'\n",
    "\" \".join(s.split()[::-1])"
   ]
  },
  {
   "cell_type": "code",
   "execution_count": 28,
   "id": "59576786",
   "metadata": {},
   "outputs": [
    {
     "data": {
      "text/plain": [
       "['ready', 'are', 'We']"
      ]
     },
     "execution_count": 28,
     "metadata": {},
     "output_type": "execute_result"
    }
   ],
   "source": [
    "s.split()[::-1]"
   ]
  },
  {
   "cell_type": "code",
   "execution_count": null,
   "id": "fb3e582f",
   "metadata": {},
   "outputs": [],
   "source": [
    "#Write a Python program to find palindromes in a given list of strings using Lambda."
   ]
  },
  {
   "cell_type": "code",
   "execution_count": null,
   "id": "c64e94e1",
   "metadata": {},
   "outputs": [],
   "source": []
  },
  {
   "cell_type": "code",
   "execution_count": null,
   "id": "1f276bb2",
   "metadata": {},
   "outputs": [],
   "source": []
  },
  {
   "cell_type": "code",
   "execution_count": 32,
   "id": "e893a9cb",
   "metadata": {},
   "outputs": [],
   "source": [
    "#Suppose we want to create a list from x and y such that it looks like the following:\n",
    "x =[1,2,3,4]\n",
    "y =['a','b','c','d']\n",
    "#[[1,'a'],[2,'b'],[3,'c'],[4,'d']]"
   ]
  },
  {
   "cell_type": "code",
   "execution_count": 33,
   "id": "457de39b",
   "metadata": {},
   "outputs": [
    {
     "data": {
      "text/plain": [
       "[[1, 'a'], [2, 'b'], [3, 'c'], [4, 'd']]"
      ]
     },
     "execution_count": 33,
     "metadata": {},
     "output_type": "execute_result"
    }
   ],
   "source": [
    "[[x[i], y[i]] for i in range(0, len(x))]"
   ]
  },
  {
   "cell_type": "code",
   "execution_count": 43,
   "id": "3b580da3",
   "metadata": {},
   "outputs": [
    {
     "data": {
      "text/plain": [
       "[(1, 'a'), (2, 'b'), (3, 'c'), (4, 'd')]"
      ]
     },
     "execution_count": 43,
     "metadata": {},
     "output_type": "execute_result"
    }
   ],
   "source": [
    "list(zip(x,y))"
   ]
  },
  {
   "cell_type": "code",
   "execution_count": 39,
   "id": "06f539af",
   "metadata": {},
   "outputs": [
    {
     "data": {
      "text/plain": [
       "[[1, 'a'], [2, 'b'], [3, 'c'], [4, 'd']]"
      ]
     },
     "execution_count": 39,
     "metadata": {},
     "output_type": "execute_result"
    }
   ],
   "source": [
    "[list(i) for i in zip(x,y)]\n"
   ]
  },
  {
   "cell_type": "code",
   "execution_count": 40,
   "id": "42491202",
   "metadata": {},
   "outputs": [],
   "source": [
    "#Convert two lists into a dictionary\n",
    "a = ['one','two','three']\n",
    "b = [1,2,3]"
   ]
  },
  {
   "cell_type": "code",
   "execution_count": 42,
   "id": "d413455e",
   "metadata": {},
   "outputs": [
    {
     "data": {
      "text/plain": [
       "[('one', 1), ('two', 2), ('three', 3)]"
      ]
     },
     "execution_count": 42,
     "metadata": {},
     "output_type": "execute_result"
    }
   ],
   "source": [
    "dict(zip(a,b))"
   ]
  },
  {
   "cell_type": "code",
   "execution_count": 44,
   "id": "9fb57158",
   "metadata": {},
   "outputs": [
    {
     "data": {
      "text/plain": [
       "3"
      ]
     },
     "execution_count": 44,
     "metadata": {},
     "output_type": "execute_result"
    }
   ],
   "source": [
    "a = lambda x,y:x+y\n",
    "a(1,2)"
   ]
  },
  {
   "cell_type": "code",
   "execution_count": 45,
   "id": "3c51c8a8",
   "metadata": {},
   "outputs": [],
   "source": [
    "lst = [10,20,-5,7,9,-90,100]\n",
    "#clean this list such that -ve numbers are removed and replaced by 0. Write a function to replace negative nos. and use it here."
   ]
  },
  {
   "cell_type": "code",
   "execution_count": 47,
   "id": "f054d6f0",
   "metadata": {},
   "outputs": [
    {
     "data": {
      "text/plain": [
       "[10, 20, 0, 7, 9, 0, 100]"
      ]
     },
     "execution_count": 47,
     "metadata": {},
     "output_type": "execute_result"
    }
   ],
   "source": [
    "#output : [10,20,0,7,9,0,100]\n",
    "#to check if number is -ve, if -ve replace by 0 else as it is\n",
    "list(map(lambda x : 0 if x < 0 else x,lst))"
   ]
  },
  {
   "cell_type": "code",
   "execution_count": 50,
   "id": "81104a7e",
   "metadata": {},
   "outputs": [
    {
     "data": {
      "text/plain": [
       "[10, 20, 7, 9, 100]"
      ]
     },
     "execution_count": 50,
     "metadata": {},
     "output_type": "execute_result"
    }
   ],
   "source": [
    "# Only +ve numbers in my list\n",
    "# Output: [10,20,7,9,100]\n",
    "list(filter(lambda x:x>0,lst))"
   ]
  },
  {
   "cell_type": "code",
   "execution_count": 54,
   "id": "82fe10b5",
   "metadata": {},
   "outputs": [],
   "source": [
    "#List comprehension\n",
    "#List Comprehension - Conditions on output expression -only str\n",
    "list1 = ['P', 6, 1, 'Q', 5, 'R']  \n",
    "#output : ['P','Q','R']"
   ]
  },
  {
   "cell_type": "code",
   "execution_count": 56,
   "id": "85977e5d",
   "metadata": {},
   "outputs": [
    {
     "data": {
      "text/plain": [
       "['P', 'Q', 'R']"
      ]
     },
     "execution_count": 56,
     "metadata": {},
     "output_type": "execute_result"
    }
   ],
   "source": [
    "list(filter(lambda s:type(s)== str,list1))\n"
   ]
  },
  {
   "cell_type": "code",
   "execution_count": 52,
   "id": "c58947ff",
   "metadata": {},
   "outputs": [],
   "source": [
    "#anonymous function -lambda -functions without a name. "
   ]
  },
  {
   "cell_type": "code",
   "execution_count": 53,
   "id": "422b48cb",
   "metadata": {},
   "outputs": [],
   "source": [
    "#Map – to apply some operations effectively on lists without loops and list comprehension\n",
    "#Filter – to filter the elements of a list conditionally"
   ]
  },
  {
   "cell_type": "code",
   "execution_count": 58,
   "id": "c1718685",
   "metadata": {},
   "outputs": [],
   "source": [
    "#Find out the occurence of each word in text string and store it in dictionary\n",
    "mobileReview = '''  pictures are all blur, poorer than a 4MP one.\n",
    "Amazon didn't allow to write a review until they sold most of the stock, something very fishy.\n",
    "No return policy, you will have to live with the phone you didn't like. Now you decide.\n",
    "I have been using this phone for more than a week and below is my feedback.\n",
    "'''"
   ]
  },
  {
   "cell_type": "code",
   "execution_count": 60,
   "id": "8fe18c75",
   "metadata": {},
   "outputs": [
    {
     "name": "stdout",
     "output_type": "stream",
     "text": [
      "{'pictures': 1, 'are': 1, 'all': 1, 'blur,': 1, 'poorer': 1, 'than': 2, 'a': 3, '4MP': 1, 'one.': 1, 'Amazon': 1, \"didn't\": 2, 'allow': 1, 'to': 2, 'write': 1, 'review': 1, 'until': 1, 'they': 1, 'sold': 1, 'most': 1, 'of': 1, 'the': 2, 'stock,': 1, 'something': 1, 'very': 1, 'fishy.': 1, 'No': 1, 'return': 1, 'policy,': 1, 'you': 3, 'will': 1, 'have': 2, 'live': 1, 'with': 1, 'phone': 2, 'like.': 1, 'Now': 1, 'decide.': 1, 'I': 1, 'been': 1, 'using': 1, 'this': 1, 'for': 1, 'more': 1, 'week': 1, 'and': 1, 'below': 1, 'is': 1, 'my': 1, 'feedback.': 1}\n"
     ]
    }
   ],
   "source": [
    "#output : d = {\"pictures\":1,\"are\":1,\"all\":2...}\n",
    "d = dict()\n",
    "for w in mobileReview.split():\n",
    "    if w in d:\n",
    "        d[w] = d[w] + 1\n",
    "    else:\n",
    "        d[w] = 1\n",
    "print(d)    "
   ]
  },
  {
   "cell_type": "code",
   "execution_count": null,
   "id": "98316a10",
   "metadata": {},
   "outputs": [],
   "source": [
    "#How to Open a Text File in Python"
   ]
  },
  {
   "attachments": {
    "image.png": {
     "image/png": "[encoded data removed]"
    }
   },
   "cell_type": "markdown",
   "id": "3ce8b708",
   "metadata": {},
   "source": [
    "![image.png](attachment:image.png)"
   ]
  },
  {
   "cell_type": "code",
   "execution_count": 61,
   "id": "69a910ca",
   "metadata": {},
   "outputs": [],
   "source": [
    "f1 = open('new.txt','w')\n",
    "for i in range(8):\n",
    "    sq = i*i\n",
    "    f1.write(str(sq)+\"\\t\")\n",
    "f1.close()"
   ]
  },
  {
   "cell_type": "code",
   "execution_count": 62,
   "id": "3ddb7f70",
   "metadata": {},
   "outputs": [
    {
     "name": "stdout",
     "output_type": "stream",
     "text": [
      "0\t1\t4\t9\t16\t25\t36\t49\t\n"
     ]
    }
   ],
   "source": [
    "f2 = open('new.txt','r')\n",
    "contents = f2.read()\n",
    "print(contents)\n",
    "f2.close()"
   ]
  },
  {
   "cell_type": "code",
   "execution_count": 64,
   "id": "f2eba2dd",
   "metadata": {},
   "outputs": [],
   "source": [
    "# Modules and Packages\n",
    "import math as mt"
   ]
  },
  {
   "cell_type": "code",
   "execution_count": 65,
   "id": "2583b4d1",
   "metadata": {},
   "outputs": [
    {
     "data": {
      "text/plain": [
       "3.0"
      ]
     },
     "execution_count": 65,
     "metadata": {},
     "output_type": "execute_result"
    }
   ],
   "source": [
    "mt.sqrt(9)"
   ]
  },
  {
   "cell_type": "code",
   "execution_count": 66,
   "id": "1f9c70be",
   "metadata": {},
   "outputs": [
    {
     "data": {
      "text/plain": [
       "['__doc__',\n",
       " '__loader__',\n",
       " '__name__',\n",
       " '__package__',\n",
       " '__spec__',\n",
       " 'acos',\n",
       " 'acosh',\n",
       " 'asin',\n",
       " 'asinh',\n",
       " 'atan',\n",
       " 'atan2',\n",
       " 'atanh',\n",
       " 'ceil',\n",
       " 'comb',\n",
       " 'copysign',\n",
       " 'cos',\n",
       " 'cosh',\n",
       " 'degrees',\n",
       " 'dist',\n",
       " 'e',\n",
       " 'erf',\n",
       " 'erfc',\n",
       " 'exp',\n",
       " 'expm1',\n",
       " 'fabs',\n",
       " 'factorial',\n",
       " 'floor',\n",
       " 'fmod',\n",
       " 'frexp',\n",
       " 'fsum',\n",
       " 'gamma',\n",
       " 'gcd',\n",
       " 'hypot',\n",
       " 'inf',\n",
       " 'isclose',\n",
       " 'isfinite',\n",
       " 'isinf',\n",
       " 'isnan',\n",
       " 'isqrt',\n",
       " 'ldexp',\n",
       " 'lgamma',\n",
       " 'log',\n",
       " 'log10',\n",
       " 'log1p',\n",
       " 'log2',\n",
       " 'modf',\n",
       " 'nan',\n",
       " 'perm',\n",
       " 'pi',\n",
       " 'pow',\n",
       " 'prod',\n",
       " 'radians',\n",
       " 'remainder',\n",
       " 'sin',\n",
       " 'sinh',\n",
       " 'sqrt',\n",
       " 'tan',\n",
       " 'tanh',\n",
       " 'tau',\n",
       " 'trunc']"
      ]
     },
     "execution_count": 66,
     "metadata": {},
     "output_type": "execute_result"
    }
   ],
   "source": [
    "dir(mt)"
   ]
  },
  {
   "cell_type": "code",
   "execution_count": 67,
   "id": "7882dd5f",
   "metadata": {},
   "outputs": [
    {
     "name": "stdout",
     "output_type": "stream",
     "text": [
      "Help on built-in function tanh in module math:\n",
      "\n",
      "tanh(x, /)\n",
      "    Return the hyperbolic tangent of x.\n",
      "\n"
     ]
    }
   ],
   "source": [
    "help(mt.tanh)"
   ]
  },
  {
   "cell_type": "code",
   "execution_count": null,
   "id": "71cc7f37",
   "metadata": {},
   "outputs": [],
   "source": [
    "# Exploring built-in modules\n",
    "#Two very important functions come in handy when exploring modules in Python - the dir and help functions."
   ]
  },
  {
   "cell_type": "code",
   "execution_count": 68,
   "id": "7a14b784",
   "metadata": {},
   "outputs": [],
   "source": [
    "import examplemodule as em"
   ]
  },
  {
   "cell_type": "code",
   "execution_count": 69,
   "id": "18d90135",
   "metadata": {},
   "outputs": [
    {
     "data": {
      "text/plain": [
       "['E', 'b', 'm']"
      ]
     },
     "execution_count": 69,
     "metadata": {},
     "output_type": "execute_result"
    }
   ],
   "source": [
    "em.extractfirst(\"Exploring built-in modules\")"
   ]
  },
  {
   "cell_type": "code",
   "execution_count": 70,
   "id": "b2356525",
   "metadata": {},
   "outputs": [
    {
     "data": {
      "text/plain": [
       "'D:\\\\B2B\\\\TREDENCE\\\\AdvancedTredence\\\\Adv_Tred_Batch2\\\\Python'"
      ]
     },
     "execution_count": 70,
     "metadata": {},
     "output_type": "execute_result"
    }
   ],
   "source": [
    "import os\n",
    "os.getcwd()"
   ]
  },
  {
   "cell_type": "code",
   "execution_count": null,
   "id": "1e6f926f",
   "metadata": {},
   "outputs": [],
   "source": [
    "#In Python, everything is an object.\n",
    "\n",
    "#User defined objects are created using the class keyword. \n",
    "#The class is a blueprint that defines the nature of a future object. \n",
    "#From classes we can construct instances. \n",
    "#An instance is a specific object created from a particular class."
   ]
  },
  {
   "cell_type": "code",
   "execution_count": null,
   "id": "f406f0f5",
   "metadata": {},
   "outputs": [],
   "source": [
    "#An attribute is a characteristic of an object. A method is an operation we can perform with the object.\n",
    "#The syntax for creating an attribute is:\n",
    "\n",
    "#self.attribute = something\n",
    "#There is a special method called:\n",
    "\n",
    "#__init__()\n",
    "#This method is used to initialize the attributes of an object. "
   ]
  },
  {
   "cell_type": "code",
   "execution_count": 1,
   "id": "83cb6bed",
   "metadata": {},
   "outputs": [],
   "source": [
    "class Area:\n",
    "    def __init__(self,side):\n",
    "        self.side = side\n",
    "    def square(self):\n",
    "        return self.side*self.side\n",
    "    def circle(self,radius):\n",
    "        return 3.14*radius*radius"
   ]
  },
  {
   "cell_type": "code",
   "execution_count": 2,
   "id": "0a3998cd",
   "metadata": {},
   "outputs": [
    {
     "data": {
      "text/plain": [
       "100"
      ]
     },
     "execution_count": 2,
     "metadata": {},
     "output_type": "execute_result"
    }
   ],
   "source": [
    "obj1 = Area(10)\n",
    "obj1.square() "
   ]
  },
  {
   "cell_type": "code",
   "execution_count": 3,
   "id": "528eb881",
   "metadata": {},
   "outputs": [
    {
     "data": {
      "text/plain": [
       "10"
      ]
     },
     "execution_count": 3,
     "metadata": {},
     "output_type": "execute_result"
    }
   ],
   "source": [
    "obj1.side"
   ]
  },
  {
   "cell_type": "code",
   "execution_count": 4,
   "id": "5658b31d",
   "metadata": {},
   "outputs": [
    {
     "data": {
      "text/plain": [
       "12.56"
      ]
     },
     "execution_count": 4,
     "metadata": {},
     "output_type": "execute_result"
    }
   ],
   "source": [
    "obj1.circle(2)"
   ]
  },
  {
   "cell_type": "code",
   "execution_count": null,
   "id": "2c20357e",
   "metadata": {},
   "outputs": [],
   "source": []
  },
  {
   "cell_type": "markdown",
   "id": "113954ae",
   "metadata": {},
   "source": [
    "# **Numpy**\n",
    "\n",
    "* NumPy stands for Numerical Python and \n",
    "* Numpy is linear algebra library for python.\n",
    "* Numpy is incredibly fast.\n",
    "* NumPy handles large datasets effectively and efficiently\n",
    "* Provides support for **large multidimensional array objects**.\n",
    "\n",
    "  **Array**\n",
    "  * Arrays are a collection of elements/values, that can have one or more dimensions. \n",
    "    * An array of one dimension is called a **Vector** \n",
    "    * while having two dimensions is called a **Matrix**.\n",
    "\n",
    "* NumPy arrays are called **ndarray** or **N-dimensional arrays** and \n",
    "\n",
    "                    **They store elements of the same type**\n",
    "\n",
    "Note:\n",
    "> Numpy is know for **high-performance** and \n",
    "> provides **efficient storage and data operations** as *arrays grow in size.*\n",
    "\n",
    "-----\n",
    "\n",
    "### **Python Lists vs NumPy Arrays – What’s the Difference?**\n",
    "\n",
    "* When you want list of homogeneous elements of large size and frees memory faster(10x to 100x).\n",
    "    * NumPy arrays is solution not list.\n"
   ]
  },
  {
   "cell_type": "markdown",
   "id": "9436905b",
   "metadata": {},
   "source": [
    "#### Creating ndarrays\n",
    "\n",
    "- 1D arrays can be be described simply by the number of values they contain.\n",
    "- The dimensions of a 2D array are described by the number of rows and columns in the array.numpy describes 2D arrays by first listing the number of rows then the number columns.\n",
    "- The dimensions of a 3D array are described by the number of layers the array contains, and the number of rows and columns in each layer. All layers must have the same number of rows and columns. numpy reports the shape of 3D arrays in the order layers, rows, column"
   ]
  },
  {
   "cell_type": "markdown",
   "id": "f6a99f2f",
   "metadata": {},
   "source": [
    "###  **Size of NumPy array**\n",
    "* determine how many values there are in the array using the size attribute\n",
    "*  It just multiplies the number of ***rows*** by the number of ***columns*** in the ndarray:\n",
    "\n",
    "![image.png](data:image/png;base64,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)"
   ]
  },
  {
   "cell_type": "code",
   "execution_count": null,
   "id": "6da7866f",
   "metadata": {},
   "outputs": [],
   "source": []
  },
  {
   "cell_type": "code",
   "execution_count": null,
   "id": "bf80c42a",
   "metadata": {},
   "outputs": [],
   "source": []
  },
  {
   "cell_type": "code",
   "execution_count": null,
   "id": "186b8ab6",
   "metadata": {},
   "outputs": [],
   "source": []
  },
  {
   "cell_type": "code",
   "execution_count": null,
   "id": "39bac28b",
   "metadata": {},
   "outputs": [],
   "source": []
  },
  {
   "cell_type": "code",
   "execution_count": null,
   "id": "3e0905d9",
   "metadata": {},
   "outputs": [],
   "source": []
  }
 ],
 "metadata": {
  "kernelspec": {
   "display_name": "Python 3 (ipykernel)",
   "language": "python",
   "name": "python3"
  },
  "language_info": {
   "codemirror_mode": {
    "name": "ipython",
    "version": 3
   },
   "file_extension": ".py",
   "mimetype": "text/x-python",
   "name": "python",
   "nbconvert_exporter": "python",
   "pygments_lexer": "ipython3",
   "version": "3.9.12"
  }
 },
 "nbformat": 4,
 "nbformat_minor": 5
}
