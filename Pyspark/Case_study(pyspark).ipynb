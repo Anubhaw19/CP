{
 "cells": [
  {
   "cell_type": "code",
   "execution_count": 1,
   "id": "f55c952e",
   "metadata": {},
   "outputs": [],
   "source": [
    "import findspark\n",
    "findspark.init()\n",
    "import pyspark\n",
    "sc=pyspark.SparkContext(appName=\"case_study_pyspark\")"
   ]
  },
  {
   "cell_type": "code",
   "execution_count": 2,
   "id": "c34124da",
   "metadata": {},
   "outputs": [],
   "source": [
    "import pyspark.sql as pss\n",
    "spark = pss.SparkSession.builder.appName(\"case_study_pyspark\").getOrCreate()"
   ]
  },
  {
   "cell_type": "code",
   "execution_count": 3,
   "id": "3b96ea04",
   "metadata": {},
   "outputs": [],
   "source": [
    "slines = sc.textFile(r\"C:\\Users\\apurba.mondal\\Documents\\sales_CS.txt\")"
   ]
  },
  {
   "cell_type": "code",
   "execution_count": 4,
   "id": "5a6fbf57",
   "metadata": {},
   "outputs": [
    {
     "data": {
      "text/plain": [
       "['1,6,11,2022-01-01,10,sghdfkrui',\n",
       " '2,9,12,2022-01-01,50,yuehtskam',\n",
       " '3,10,13,2022-01-02,20,wuiodfgfj',\n",
       " '4,7,14,2022-01-02,10,operdfvms',\n",
       " '5,8,15,2022-01-03,30,puerwyysb',\n",
       " '6,10,13,2022-01-03,15,sjdjhhjkj',\n",
       " '7,6,11,2022-01-04,5,dwjdqdmkk',\n",
       " '8,7,14,2022-01-04,15,cxvxnmndk',\n",
       " '9,8,15,2022-01-05,20,reyokqdklk',\n",
       " '10,9,12,2022-01-05,40,qplsmdgf']"
      ]
     },
     "execution_count": 4,
     "metadata": {},
     "output_type": "execute_result"
    }
   ],
   "source": [
    "slines.take(10)"
   ]
  },
  {
   "cell_type": "code",
   "execution_count": 5,
   "id": "593a4d7e",
   "metadata": {},
   "outputs": [],
   "source": [
    "sfield = slines.map(lambda l: l.split(\",\"))"
   ]
  },
  {
   "cell_type": "code",
   "execution_count": 6,
   "id": "c083f7c6",
   "metadata": {},
   "outputs": [
    {
     "data": {
      "text/plain": [
       "[['1', '6', '11', '2022-01-01', '10', 'sghdfkrui'],\n",
       " ['2', '9', '12', '2022-01-01', '50', 'yuehtskam'],\n",
       " ['3', '10', '13', '2022-01-02', '20', 'wuiodfgfj'],\n",
       " ['4', '7', '14', '2022-01-02', '10', 'operdfvms'],\n",
       " ['5', '8', '15', '2022-01-03', '30', 'puerwyysb']]"
      ]
     },
     "execution_count": 6,
     "metadata": {},
     "output_type": "execute_result"
    }
   ],
   "source": [
    "sfield.take(5)"
   ]
  },
  {
   "cell_type": "code",
   "execution_count": 7,
   "id": "38ed6904",
   "metadata": {},
   "outputs": [],
   "source": [
    "rdd_sales = sfield.map(lambda p : pss.Row(order_id=int(p[0]),prod_id=int(p[1]),seller_id=int(p[2]),date=p[3],amount=int(p[4]),bill_text=p[5]))"
   ]
  },
  {
   "cell_type": "code",
   "execution_count": 8,
   "id": "13660202",
   "metadata": {
    "scrolled": false
   },
   "outputs": [
    {
     "data": {
      "text/plain": [
       "[Row(order_id=1, prod_id=6, seller_id=11, date='2022-01-01', amount=10, bill_text='sghdfkrui'),\n",
       " Row(order_id=2, prod_id=9, seller_id=12, date='2022-01-01', amount=50, bill_text='yuehtskam'),\n",
       " Row(order_id=3, prod_id=10, seller_id=13, date='2022-01-02', amount=20, bill_text='wuiodfgfj'),\n",
       " Row(order_id=4, prod_id=7, seller_id=14, date='2022-01-02', amount=10, bill_text='operdfvms'),\n",
       " Row(order_id=5, prod_id=8, seller_id=15, date='2022-01-03', amount=30, bill_text='puerwyysb')]"
      ]
     },
     "execution_count": 8,
     "metadata": {},
     "output_type": "execute_result"
    }
   ],
   "source": [
    "rdd_sales.take(5)"
   ]
  },
  {
   "cell_type": "code",
   "execution_count": 9,
   "id": "394a54d7",
   "metadata": {},
   "outputs": [],
   "source": [
    "sales_df = spark.createDataFrame(rdd_sales)"
   ]
  },
  {
   "cell_type": "code",
   "execution_count": 10,
   "id": "1841ebda",
   "metadata": {},
   "outputs": [
    {
     "name": "stdout",
     "output_type": "stream",
     "text": [
      "+--------+-------+---------+----------+------+----------+\n",
      "|order_id|prod_id|seller_id|      date|amount| bill_text|\n",
      "+--------+-------+---------+----------+------+----------+\n",
      "|       1|      6|       11|2022-01-01|    10| sghdfkrui|\n",
      "|       2|      9|       12|2022-01-01|    50| yuehtskam|\n",
      "|       3|     10|       13|2022-01-02|    20| wuiodfgfj|\n",
      "|       4|      7|       14|2022-01-02|    10| operdfvms|\n",
      "|       5|      8|       15|2022-01-03|    30| puerwyysb|\n",
      "|       6|     10|       13|2022-01-03|    15| sjdjhhjkj|\n",
      "|       7|      6|       11|2022-01-04|     5| dwjdqdmkk|\n",
      "|       8|      7|       14|2022-01-04|    15| cxvxnmndk|\n",
      "|       9|      8|       15|2022-01-05|    20|reyokqdklk|\n",
      "|      10|      9|       12|2022-01-05|    40|  qplsmdgf|\n",
      "+--------+-------+---------+----------+------+----------+\n",
      "\n"
     ]
    }
   ],
   "source": [
    "sales_df.show()"
   ]
  },
  {
   "cell_type": "code",
   "execution_count": 11,
   "id": "2416984d",
   "metadata": {},
   "outputs": [
    {
     "name": "stdout",
     "output_type": "stream",
     "text": [
      "root\n",
      " |-- order_id: long (nullable = true)\n",
      " |-- prod_id: long (nullable = true)\n",
      " |-- seller_id: long (nullable = true)\n",
      " |-- date: string (nullable = true)\n",
      " |-- amount: long (nullable = true)\n",
      " |-- bill_text: string (nullable = true)\n",
      "\n"
     ]
    }
   ],
   "source": [
    "sales_df.printSchema()"
   ]
  },
  {
   "cell_type": "code",
   "execution_count": 12,
   "id": "a2e12d01",
   "metadata": {},
   "outputs": [
    {
     "name": "stdout",
     "output_type": "stream",
     "text": [
      "+------+---------------+-------+\n",
      "|prodid|      prod_name|  price|\n",
      "+------+---------------+-------+\n",
      "|     7|washing machine|25499.0|\n",
      "|     9|     micro oven| 2749.0|\n",
      "|     8|        almirah| 7770.0|\n",
      "|    10|   dining table|15999.0|\n",
      "|     6|          couch|20499.0|\n",
      "+------+---------------+-------+\n",
      "\n",
      "root\n",
      " |-- prodid: long (nullable = true)\n",
      " |-- prod_name: string (nullable = true)\n",
      " |-- price: double (nullable = true)\n",
      "\n"
     ]
    }
   ],
   "source": [
    "plines = sc.textFile(r\"C:\\Users\\apurba.mondal\\Documents\\product_CS.txt\")\n",
    "pfield = plines.map(lambda l : l.split(\",\"))\n",
    "rdd_prod = pfield.map(lambda p : pss.Row(prodid=int(p[0]),prod_name=p[1],price=float(p[2])))\n",
    "product_df = spark.createDataFrame(rdd_prod)\n",
    "product_df.show()\n",
    "product_df.printSchema()"
   ]
  },
  {
   "cell_type": "code",
   "execution_count": 13,
   "id": "e644e231",
   "metadata": {},
   "outputs": [
    {
     "name": "stdout",
     "output_type": "stream",
     "text": [
      "+--------+-----------+------------+\n",
      "|sellerid|seller_name|daily_target|\n",
      "+--------+-----------+------------+\n",
      "|      12|     apurba|          30|\n",
      "|      15|   anukriti|          35|\n",
      "|      11|    anushka|          10|\n",
      "|      13|      zidan|          30|\n",
      "|      14|    anubhaw|          15|\n",
      "+--------+-----------+------------+\n",
      "\n",
      "root\n",
      " |-- sellerid: long (nullable = true)\n",
      " |-- seller_name: string (nullable = true)\n",
      " |-- daily_target: long (nullable = true)\n",
      "\n"
     ]
    }
   ],
   "source": [
    "sslines = sc.textFile(r\"C:\\Users\\apurba.mondal\\Documents\\seller_CS.txt\")\n",
    "ssfield = sslines.map(lambda l : l.split(\",\"))\n",
    "rdd_seller = ssfield.map(lambda p : pss.Row(sellerid=int(p[0]),seller_name=p[1],daily_target=int(p[2])))\n",
    "seller_df = spark.createDataFrame(rdd_seller)\n",
    "seller_df.show()\n",
    "seller_df.printSchema()"
   ]
  },
  {
   "cell_type": "code",
   "execution_count": 14,
   "id": "5451013d",
   "metadata": {},
   "outputs": [
    {
     "name": "stdout",
     "output_type": "stream",
     "text": [
      "+--------+-------+---------+----------+------+----------+------+---------------+-------+\n",
      "|order_id|prod_id|seller_id|      date|amount| bill_text|prodid|      prod_name|  price|\n",
      "+--------+-------+---------+----------+------+----------+------+---------------+-------+\n",
      "|       1|      6|       11|2022-01-01|    10| sghdfkrui|     6|          couch|20499.0|\n",
      "|       7|      6|       11|2022-01-04|     5| dwjdqdmkk|     6|          couch|20499.0|\n",
      "|       4|      7|       14|2022-01-02|    10| operdfvms|     7|washing machine|25499.0|\n",
      "|       8|      7|       14|2022-01-04|    15| cxvxnmndk|     7|washing machine|25499.0|\n",
      "|       5|      8|       15|2022-01-03|    30| puerwyysb|     8|        almirah| 7770.0|\n",
      "|       9|      8|       15|2022-01-05|    20|reyokqdklk|     8|        almirah| 7770.0|\n",
      "|       2|      9|       12|2022-01-01|    50| yuehtskam|     9|     micro oven| 2749.0|\n",
      "|      10|      9|       12|2022-01-05|    40|  qplsmdgf|     9|     micro oven| 2749.0|\n",
      "|       3|     10|       13|2022-01-02|    20| wuiodfgfj|    10|   dining table|15999.0|\n",
      "|       6|     10|       13|2022-01-03|    15| sjdjhhjkj|    10|   dining table|15999.0|\n",
      "+--------+-------+---------+----------+------+----------+------+---------------+-------+\n",
      "\n"
     ]
    }
   ],
   "source": [
    "new_df = sales_df.join(product_df,sales_df.prod_id==product_df.prodid,'outer')\n",
    "new_df.show()"
   ]
  },
  {
   "cell_type": "code",
   "execution_count": 15,
   "id": "1d3e4ce8",
   "metadata": {},
   "outputs": [
    {
     "name": "stdout",
     "output_type": "stream",
     "text": [
      "+--------+-------+---------+----------+------+----------+------+---------------+-------+--------+-----------+------------+\n",
      "|order_id|prod_id|seller_id|      date|amount| bill_text|prodid|      prod_name|  price|sellerid|seller_name|daily_target|\n",
      "+--------+-------+---------+----------+------+----------+------+---------------+-------+--------+-----------+------------+\n",
      "|       1|      6|       11|2022-01-01|    10| sghdfkrui|     6|          couch|20499.0|      11|    anushka|          10|\n",
      "|       7|      6|       11|2022-01-04|     5| dwjdqdmkk|     6|          couch|20499.0|      11|    anushka|          10|\n",
      "|       2|      9|       12|2022-01-01|    50| yuehtskam|     9|     micro oven| 2749.0|      12|     apurba|          30|\n",
      "|      10|      9|       12|2022-01-05|    40|  qplsmdgf|     9|     micro oven| 2749.0|      12|     apurba|          30|\n",
      "|       3|     10|       13|2022-01-02|    20| wuiodfgfj|    10|   dining table|15999.0|      13|      zidan|          30|\n",
      "|       6|     10|       13|2022-01-03|    15| sjdjhhjkj|    10|   dining table|15999.0|      13|      zidan|          30|\n",
      "|       4|      7|       14|2022-01-02|    10| operdfvms|     7|washing machine|25499.0|      14|    anubhaw|          15|\n",
      "|       8|      7|       14|2022-01-04|    15| cxvxnmndk|     7|washing machine|25499.0|      14|    anubhaw|          15|\n",
      "|       5|      8|       15|2022-01-03|    30| puerwyysb|     8|        almirah| 7770.0|      15|   anukriti|          35|\n",
      "|       9|      8|       15|2022-01-05|    20|reyokqdklk|     8|        almirah| 7770.0|      15|   anukriti|          35|\n",
      "+--------+-------+---------+----------+------+----------+------+---------------+-------+--------+-----------+------------+\n",
      "\n"
     ]
    }
   ],
   "source": [
    "new_df = new_df.join(seller_df,new_df.seller_id==seller_df.sellerid,'outer')\n",
    "new_df.show()"
   ]
  },
  {
   "cell_type": "code",
   "execution_count": 16,
   "id": "81f20cec",
   "metadata": {},
   "outputs": [
    {
     "name": "stdout",
     "output_type": "stream",
     "text": [
      "+--------+----------+-------+---------------+-------+------+---------+-----------+------------+----------+\n",
      "|order_id|      date|prod_id|      prod_name|  price|amount|seller_id|seller_name|daily_target| bill_text|\n",
      "+--------+----------+-------+---------------+-------+------+---------+-----------+------------+----------+\n",
      "|       1|2022-01-01|      6|          couch|20499.0|    10|       11|    anushka|          10| sghdfkrui|\n",
      "|       7|2022-01-04|      6|          couch|20499.0|     5|       11|    anushka|          10| dwjdqdmkk|\n",
      "|       2|2022-01-01|      9|     micro oven| 2749.0|    50|       12|     apurba|          30| yuehtskam|\n",
      "|      10|2022-01-05|      9|     micro oven| 2749.0|    40|       12|     apurba|          30|  qplsmdgf|\n",
      "|       3|2022-01-02|     10|   dining table|15999.0|    20|       13|      zidan|          30| wuiodfgfj|\n",
      "|       6|2022-01-03|     10|   dining table|15999.0|    15|       13|      zidan|          30| sjdjhhjkj|\n",
      "|       4|2022-01-02|      7|washing machine|25499.0|    10|       14|    anubhaw|          15| operdfvms|\n",
      "|       8|2022-01-04|      7|washing machine|25499.0|    15|       14|    anubhaw|          15| cxvxnmndk|\n",
      "|       5|2022-01-03|      8|        almirah| 7770.0|    30|       15|   anukriti|          35| puerwyysb|\n",
      "|       9|2022-01-05|      8|        almirah| 7770.0|    20|       15|   anukriti|          35|reyokqdklk|\n",
      "+--------+----------+-------+---------------+-------+------+---------+-----------+------------+----------+\n",
      "\n",
      "root\n",
      " |-- order_id: long (nullable = true)\n",
      " |-- date: string (nullable = true)\n",
      " |-- prod_id: long (nullable = true)\n",
      " |-- prod_name: string (nullable = true)\n",
      " |-- price: double (nullable = true)\n",
      " |-- amount: long (nullable = true)\n",
      " |-- seller_id: long (nullable = true)\n",
      " |-- seller_name: string (nullable = true)\n",
      " |-- daily_target: long (nullable = true)\n",
      " |-- bill_text: string (nullable = true)\n",
      "\n"
     ]
    }
   ],
   "source": [
    "final_df = new_df.select(\"order_id\",\"date\",\"prod_id\",\"prod_name\",\"price\",\"amount\",\"seller_id\",\"seller_name\",\"daily_target\",\\\n",
    "                         \"bill_text\")\n",
    "final_df.show()\n",
    "final_df.printSchema()"
   ]
  },
  {
   "cell_type": "markdown",
   "id": "efc9d820",
   "metadata": {},
   "source": [
    "###  Find out how many orders, how many products and how many sellers are in the data"
   ]
  },
  {
   "cell_type": "code",
   "execution_count": 17,
   "id": "4f57a5b0",
   "metadata": {},
   "outputs": [
    {
     "name": "stdout",
     "output_type": "stream",
     "text": [
      "+------------------+\n",
      "|total_no_of_orders|\n",
      "+------------------+\n",
      "|                10|\n",
      "+------------------+\n",
      "\n",
      "+--------------------+\n",
      "|total_no_of_products|\n",
      "+--------------------+\n",
      "|                   5|\n",
      "+--------------------+\n",
      "\n",
      "+-------------------+\n",
      "|total_no_of_sellers|\n",
      "+-------------------+\n",
      "|                  5|\n",
      "+-------------------+\n",
      "\n"
     ]
    }
   ],
   "source": [
    "import pyspark.sql.functions as psf\n",
    "df1 = final_df.select(psf.countDistinct(\"order_id\")).withColumnRenamed(\"count(DISTINCT order_id)\",\"total_no_of_orders\")\n",
    "df2 = final_df.select(psf.countDistinct(\"prod_id\")).withColumnRenamed(\"count(DISTINCT prod_id)\",\"total_no_of_products\")\n",
    "df3 = final_df.select(psf.countDistinct(\"seller_id\")).withColumnRenamed(\"count(DISTINCT seller_id)\",\"total_no_of_sellers\")\n",
    "df1.show()\n",
    "df2.show()\n",
    "df3.show()"
   ]
  },
  {
   "cell_type": "markdown",
   "id": "67577553",
   "metadata": {},
   "source": [
    "### How many products have been sold at least once?"
   ]
  },
  {
   "cell_type": "code",
   "execution_count": 18,
   "id": "779e444e",
   "metadata": {},
   "outputs": [
    {
     "name": "stdout",
     "output_type": "stream",
     "text": [
      "+--------------------------------+\n",
      "|no_of_products_sold_atleast_once|\n",
      "+--------------------------------+\n",
      "|                               5|\n",
      "+--------------------------------+\n",
      "\n"
     ]
    }
   ],
   "source": [
    "df4 = final_df.filter(final_df[\"amount\"] > 0).select(psf.countDistinct(\"prod_id\")).\\\n",
    "withColumnRenamed(\"count(DISTINCT prod_id)\",\"no_of_products_sold_atleast_once\")\n",
    "df4.show()"
   ]
  },
  {
   "cell_type": "markdown",
   "id": "ed169b4c",
   "metadata": {},
   "source": [
    "### Which product has been ordered most??? "
   ]
  },
  {
   "cell_type": "code",
   "execution_count": 24,
   "id": "0ae4bc5d",
   "metadata": {},
   "outputs": [
    {
     "name": "stdout",
     "output_type": "stream",
     "text": [
      "+----------+-----------+\n",
      "| prod_name|total_sales|\n",
      "+----------+-----------+\n",
      "|micro oven|         90|\n",
      "+----------+-----------+\n",
      "only showing top 1 row\n",
      "\n"
     ]
    }
   ],
   "source": [
    "df5 = final_df.groupBy(\"prod_name\").agg({\"amount\":\"sum\"}).orderBy(psf.col(\"sum(amount)\").desc()).\\\n",
    "withColumnRenamed(\"sum(amount)\",\"total_sales\")\n",
    "df5.show(1)"
   ]
  },
  {
   "cell_type": "markdown",
   "id": "0e7ca96c",
   "metadata": {},
   "source": [
    "### How many distinct products have been sold in each day? "
   ]
  },
  {
   "cell_type": "code",
   "execution_count": 32,
   "id": "a4abad22",
   "metadata": {},
   "outputs": [
    {
     "name": "stdout",
     "output_type": "stream",
     "text": [
      "+----------+-------------------+\n",
      "| prod_name|sales_on_2022-01-01|\n",
      "+----------+-------------------+\n",
      "|micro oven|                 50|\n",
      "|     couch|                 10|\n",
      "+----------+-------------------+\n",
      "\n",
      "+---------------+-------------------+\n",
      "|      prod_name|sales_on_2022-01-02|\n",
      "+---------------+-------------------+\n",
      "|   dining table|                 20|\n",
      "|washing machine|                 10|\n",
      "+---------------+-------------------+\n",
      "\n",
      "+------------+-------------------+\n",
      "|   prod_name|sales_on_2022-01-03|\n",
      "+------------+-------------------+\n",
      "|     almirah|                 30|\n",
      "|dining table|                 15|\n",
      "+------------+-------------------+\n",
      "\n",
      "+---------------+-------------------+\n",
      "|      prod_name|sales_on_2022-01-04|\n",
      "+---------------+-------------------+\n",
      "|washing machine|                 15|\n",
      "|          couch|                  5|\n",
      "+---------------+-------------------+\n",
      "\n",
      "+----------+-------------------+\n",
      "| prod_name|sales_on_2022-01-05|\n",
      "+----------+-------------------+\n",
      "|   almirah|                 20|\n",
      "|micro oven|                 40|\n",
      "+----------+-------------------+\n",
      "\n"
     ]
    }
   ],
   "source": [
    "df6 = final_df.groupBy(\"date\",\"prod_name\").agg({\"amount\":\"sum\"}).orderBy(psf.col(\"date\")).\\\n",
    "withColumnRenamed(\"sum(amount)\",\"sales_on_2022-01-01\").where(final_df.date=='2022-01-01').\\\n",
    "select(\"prod_name\",\"sales_on_2022-01-01\")\n",
    "df6.show()\n",
    "df6 = final_df.groupBy(\"date\",\"prod_name\").agg({\"amount\":\"sum\"}).orderBy(psf.col(\"date\")).\\\n",
    "withColumnRenamed(\"sum(amount)\",\"sales_on_2022-01-02\").where(final_df.date=='2022-01-02').\\\n",
    "select(\"prod_name\",\"sales_on_2022-01-02\")\n",
    "df6.show()\n",
    "df6 = final_df.groupBy(\"date\",\"prod_name\").agg({\"amount\":\"sum\"}).orderBy(psf.col(\"date\")).\\\n",
    "withColumnRenamed(\"sum(amount)\",\"sales_on_2022-01-03\").where(final_df.date=='2022-01-03').\\\n",
    "select(\"prod_name\",\"sales_on_2022-01-03\")\n",
    "df6.show()\n",
    "df6 = final_df.groupBy(\"date\",\"prod_name\").agg({\"amount\":\"sum\"}).orderBy(psf.col(\"date\")).\\\n",
    "withColumnRenamed(\"sum(amount)\",\"sales_on_2022-01-04\").where(final_df.date=='2022-01-04').\\\n",
    "select(\"prod_name\",\"sales_on_2022-01-04\")\n",
    "df6.show()\n",
    "df6 = final_df.groupBy(\"date\",\"prod_name\").agg({\"amount\":\"sum\"}).orderBy(psf.col(\"date\")).\\\n",
    "withColumnRenamed(\"sum(amount)\",\"sales_on_2022-01-05\").where(final_df.date=='2022-01-05').\\\n",
    "select(\"prod_name\",\"sales_on_2022-01-05\")\n",
    "df6.show()"
   ]
  },
  {
   "cell_type": "markdown",
   "id": "3bee0179",
   "metadata": {},
   "source": [
    "### What is the average revenue of the orders???"
   ]
  },
  {
   "cell_type": "code",
   "execution_count": 39,
   "id": "221650e3",
   "metadata": {},
   "outputs": [
    {
     "name": "stdout",
     "output_type": "stream",
     "text": [
      "+--------+----------+-------+---------------+-------+------+---------+-----------+------------+----------+--------+\n",
      "|order_id|      date|prod_id|      prod_name|  price|amount|seller_id|seller_name|daily_target| bill_text| revenue|\n",
      "+--------+----------+-------+---------------+-------+------+---------+-----------+------------+----------+--------+\n",
      "|       1|2022-01-01|      6|          couch|20499.0|    10|       11|    anushka|          10| sghdfkrui|204990.0|\n",
      "|       7|2022-01-04|      6|          couch|20499.0|     5|       11|    anushka|          10| dwjdqdmkk|102495.0|\n",
      "|       2|2022-01-01|      9|     micro oven| 2749.0|    50|       12|     apurba|          30| yuehtskam|137450.0|\n",
      "|      10|2022-01-05|      9|     micro oven| 2749.0|    40|       12|     apurba|          30|  qplsmdgf|109960.0|\n",
      "|       3|2022-01-02|     10|   dining table|15999.0|    20|       13|      zidan|          30| wuiodfgfj|319980.0|\n",
      "|       6|2022-01-03|     10|   dining table|15999.0|    15|       13|      zidan|          30| sjdjhhjkj|239985.0|\n",
      "|       4|2022-01-02|      7|washing machine|25499.0|    10|       14|    anubhaw|          15| operdfvms|254990.0|\n",
      "|       8|2022-01-04|      7|washing machine|25499.0|    15|       14|    anubhaw|          15| cxvxnmndk|382485.0|\n",
      "|       5|2022-01-03|      8|        almirah| 7770.0|    30|       15|   anukriti|          35| puerwyysb|233100.0|\n",
      "|       9|2022-01-05|      8|        almirah| 7770.0|    20|       15|   anukriti|          35|reyokqdklk|155400.0|\n",
      "+--------+----------+-------+---------------+-------+------+---------+-----------+------------+----------+--------+\n",
      "\n"
     ]
    }
   ],
   "source": [
    "final_df = final_df.withColumn(\"revenue\",psf.col(\"price\")*psf.col(\"amount\"))\n",
    "final_df.show()"
   ]
  },
  {
   "cell_type": "code",
   "execution_count": 42,
   "id": "b7cb817c",
   "metadata": {},
   "outputs": [
    {
     "name": "stdout",
     "output_type": "stream",
     "text": [
      "+-------------------------+\n",
      "|average revenue of orders|\n",
      "+-------------------------+\n",
      "|                 214083.5|\n",
      "+-------------------------+\n",
      "\n"
     ]
    }
   ],
   "source": [
    "df7 = final_df.select(psf.avg(\"revenue\")).withColumnRenamed(\"avg(revenue)\",\"average revenue of orders\")\n",
    "df7.show()"
   ]
  },
  {
   "cell_type": "markdown",
   "id": "5b4399f8",
   "metadata": {},
   "source": [
    "### Who is the second most selling persons among sellers(revenue wise)???"
   ]
  },
  {
   "cell_type": "code",
   "execution_count": 66,
   "id": "e1280c59",
   "metadata": {},
   "outputs": [],
   "source": [
    "df8 = final_df.groupBy(\"seller_name\").agg({\"revenue\":\"sum\"}).withColumnRenamed(\"sum(revenue)\",\"total_revenue\")"
   ]
  },
  {
   "cell_type": "code",
   "execution_count": 67,
   "id": "c5903cd7",
   "metadata": {},
   "outputs": [
    {
     "name": "stdout",
     "output_type": "stream",
     "text": [
      "+-----------+-------------------+\n",
      "|seller_name|2nd_highest_revenue|\n",
      "+-----------+-------------------+\n",
      "|      zidan|           559965.0|\n",
      "+-----------+-------------------+\n",
      "\n"
     ]
    }
   ],
   "source": [
    "df8.createOrReplaceTempView(\"revenue\")\n",
    "df9 = spark.sql(\"select seller_name,total_revenue as 2nd_highest_revenue from revenue where total_revenue = \\\n",
    "(select max(total_revenue) as from revenue where total_revenue <>(select max(total_revenue) from revenue))\")\n",
    "df9.show()"
   ]
  },
  {
   "cell_type": "markdown",
   "id": "08c2f97e",
   "metadata": {},
   "source": [
    "### Who is the lowest selling persons among sellers(revenue wise)???"
   ]
  },
  {
   "cell_type": "code",
   "execution_count": 68,
   "id": "45d25080",
   "metadata": {},
   "outputs": [
    {
     "name": "stdout",
     "output_type": "stream",
     "text": [
      "+-----------+--------------+\n",
      "|seller_name|lowest_revenue|\n",
      "+-----------+--------------+\n",
      "|     apurba|      247410.0|\n",
      "+-----------+--------------+\n",
      "\n"
     ]
    }
   ],
   "source": [
    "df10 = spark.sql(\"select seller_name,total_revenue as lowest_revenue from revenue where total_revenue= \\\n",
    "(select min(total_revenue) from revenue)\")\n",
    "df10.show()"
   ]
  },
  {
   "cell_type": "markdown",
   "id": "6f4aad02",
   "metadata": {},
   "source": [
    "### For each seller, what is the percentage contribution of an order to the seller’s daily quota ???"
   ]
  },
  {
   "cell_type": "code",
   "execution_count": 74,
   "id": "f71ae63b",
   "metadata": {},
   "outputs": [
    {
     "name": "stdout",
     "output_type": "stream",
     "text": [
      "+--------+----------+-------+---------------+-------+------+---------+-----------+------------+----------+--------+--------------------+\n",
      "|order_id|      date|prod_id|      prod_name|  price|amount|seller_id|seller_name|daily_target| bill_text| revenue|percent_contribution|\n",
      "+--------+----------+-------+---------------+-------+------+---------+-----------+------------+----------+--------+--------------------+\n",
      "|       1|2022-01-01|      6|          couch|20499.0|    10|       11|    anushka|          10| sghdfkrui|204990.0|               100.0|\n",
      "|       7|2022-01-04|      6|          couch|20499.0|     5|       11|    anushka|          10| dwjdqdmkk|102495.0|                50.0|\n",
      "|       2|2022-01-01|      9|     micro oven| 2749.0|    50|       12|     apurba|          30| yuehtskam|137450.0|              166.67|\n",
      "|      10|2022-01-05|      9|     micro oven| 2749.0|    40|       12|     apurba|          30|  qplsmdgf|109960.0|              133.33|\n",
      "|       3|2022-01-02|     10|   dining table|15999.0|    20|       13|      zidan|          30| wuiodfgfj|319980.0|               66.67|\n",
      "|       6|2022-01-03|     10|   dining table|15999.0|    15|       13|      zidan|          30| sjdjhhjkj|239985.0|                50.0|\n",
      "|       4|2022-01-02|      7|washing machine|25499.0|    10|       14|    anubhaw|          15| operdfvms|254990.0|               66.67|\n",
      "|       8|2022-01-04|      7|washing machine|25499.0|    15|       14|    anubhaw|          15| cxvxnmndk|382485.0|               100.0|\n",
      "|       5|2022-01-03|      8|        almirah| 7770.0|    30|       15|   anukriti|          35| puerwyysb|233100.0|               85.71|\n",
      "|       9|2022-01-05|      8|        almirah| 7770.0|    20|       15|   anukriti|          35|reyokqdklk|155400.0|               57.14|\n",
      "+--------+----------+-------+---------------+-------+------+---------+-----------+------------+----------+--------+--------------------+\n",
      "\n"
     ]
    }
   ],
   "source": [
    "final_df = final_df.withColumn(\"percent_contribution\",psf.round((psf.col(\"amount\")/psf.col(\"daily_target\"))*100,2))\n",
    "final_df.show()"
   ]
  },
  {
   "cell_type": "code",
   "execution_count": 75,
   "id": "dc6eaea7",
   "metadata": {},
   "outputs": [
    {
     "name": "stdout",
     "output_type": "stream",
     "text": [
      "+----------+-----------+------------+--------------------+\n",
      "|      date|seller_name|daily_target|percent_contribution|\n",
      "+----------+-----------+------------+--------------------+\n",
      "|2022-01-01|    anushka|          10|               100.0|\n",
      "|2022-01-04|    anushka|          10|                50.0|\n",
      "|2022-01-01|     apurba|          30|              166.67|\n",
      "|2022-01-05|     apurba|          30|              133.33|\n",
      "|2022-01-02|      zidan|          30|               66.67|\n",
      "|2022-01-03|      zidan|          30|                50.0|\n",
      "|2022-01-02|    anubhaw|          15|               66.67|\n",
      "|2022-01-04|    anubhaw|          15|               100.0|\n",
      "|2022-01-03|   anukriti|          35|               85.71|\n",
      "|2022-01-05|   anukriti|          35|               57.14|\n",
      "+----------+-----------+------------+--------------------+\n",
      "\n"
     ]
    }
   ],
   "source": [
    "df11 = final_df.select(\"date\",\"seller_name\",\"daily_target\",\"percent_contribution\")\n",
    "df11.show()"
   ]
  },
  {
   "cell_type": "code",
   "execution_count": null,
   "id": "4428394e",
   "metadata": {},
   "outputs": [],
   "source": []
  }
 ],
 "metadata": {
  "kernelspec": {
   "display_name": "Python 3 (ipykernel)",
   "language": "python",
   "name": "python3"
  },
  "language_info": {
   "codemirror_mode": {
    "name": "ipython",
    "version": 3
   },
   "file_extension": ".py",
   "mimetype": "text/x-python",
   "name": "python",
   "nbconvert_exporter": "python",
   "pygments_lexer": "ipython3",
   "version": "3.9.12"
  }
 },
 "nbformat": 4,
 "nbformat_minor": 5
}
