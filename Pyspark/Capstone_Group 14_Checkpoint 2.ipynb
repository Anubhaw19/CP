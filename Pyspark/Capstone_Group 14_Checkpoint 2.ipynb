{
 "cells": [
  {
   "cell_type": "code",
   "execution_count": 1,
   "id": "9a9b7288",
   "metadata": {},
   "outputs": [],
   "source": [
    "import findspark\n",
    "findspark.init()\n",
    "import findspark"
   ]
  },
  {
   "cell_type": "code",
   "execution_count": 2,
   "id": "cc9d0fb5",
   "metadata": {},
   "outputs": [],
   "source": [
    "from pyspark.sql import SparkSession\n",
    "spark=SparkSession.builder.appName(\"MyNewApp\").getOrCreate()"
   ]
  },
  {
   "cell_type": "code",
   "execution_count": 3,
   "id": "c8ee24e3",
   "metadata": {},
   "outputs": [
    {
     "data": {
      "text/html": [
       "<style>pre { white-space: pre !important; }</style>"
      ],
      "text/plain": [
       "<IPython.core.display.HTML object>"
      ]
     },
     "metadata": {},
     "output_type": "display_data"
    }
   ],
   "source": [
    "from IPython.core.display import HTML\n",
    "display(HTML(\"<style>pre { white-space: pre !important; }</style>\"))"
   ]
  },
  {
   "cell_type": "code",
   "execution_count": 4,
   "id": "f6f4f3dd",
   "metadata": {},
   "outputs": [
    {
     "name": "stdout",
     "output_type": "stream",
     "text": [
      "+---------+----------+----------+\n",
      "|City_Code| City_Name|State_Code|\n",
      "+---------+----------+----------+\n",
      "|     CT01|    Mumbai|      ST15|\n",
      "|     CT02|      Pune|      ST15|\n",
      "|     CT03|   Chennai|      ST24|\n",
      "|     CT04|Coimbatore|      ST24|\n",
      "|     CT05| Hyderabad|      ST25|\n",
      "+---------+----------+----------+\n",
      "only showing top 5 rows\n",
      "\n"
     ]
    }
   ],
   "source": [
    "df_city=spark.read.csv(r\"C:\\Users\\apurba.mondal\\Documents\\City_Master.csv\",header=True,inferSchema=True)\n",
    "df_city.show(5)"
   ]
  },
  {
   "cell_type": "code",
   "execution_count": 5,
   "id": "8b915d68",
   "metadata": {},
   "outputs": [],
   "source": [
    "df_city=df_city.withColumnRenamed('State_Code','StateCode')"
   ]
  },
  {
   "cell_type": "code",
   "execution_count": 6,
   "id": "aed10af4",
   "metadata": {},
   "outputs": [
    {
     "name": "stdout",
     "output_type": "stream",
     "text": [
      "+---------+----------+---------+\n",
      "|City_Code| City_Name|StateCode|\n",
      "+---------+----------+---------+\n",
      "|     CT01|    Mumbai|     ST15|\n",
      "|     CT02|      Pune|     ST15|\n",
      "|     CT03|   Chennai|     ST24|\n",
      "|     CT04|Coimbatore|     ST24|\n",
      "|     CT05| Hyderabad|     ST25|\n",
      "+---------+----------+---------+\n",
      "only showing top 5 rows\n",
      "\n"
     ]
    }
   ],
   "source": [
    "df_city.show(5)"
   ]
  },
  {
   "cell_type": "code",
   "execution_count": 7,
   "id": "d80b0fc2",
   "metadata": {},
   "outputs": [
    {
     "name": "stdout",
     "output_type": "stream",
     "text": [
      "+--------+----------------------------+----+-------------+---------+---------+----------+-----------+------+-----------+------------+------------+----------+-------+----------+-----+\n",
      "|Sales_ID|Name                        |Year|Selling_Price|km_Driven|City_Code|State_Code|Postal_Code|Fuel  |Seller_Type|Transmission|Owner       |Mileage   |Engine |Max_Power |Seats|\n",
      "+--------+----------------------------+----+-------------+---------+---------+----------+-----------+------+-----------+------------+------------+----------+-------+----------+-----+\n",
      "|1       |Maruti Swift Dzire VDI      |2014|450000       |145500   |CT01     |ST15      |400001     |Diesel|Individual |Manual      |First Owner |23.4 kmpl |1248 CC|74 bhp    |5    |\n",
      "|2       |Skoda Rapid 1.5 TDI Ambition|2014|370000       |120000   |CT28     |ST11      |834001     |Diesel|Individual |Manual      |Second Owner|21.14 kmpl|1498 CC|103.52 bhp|5    |\n",
      "|3       |Honda City 2017-2020 EXi    |2006|158000       |140000   |CT12     |ST28      |201301     |Petrol|Individual |Manual      |Third Owner |17.7 kmpl |1497 CC|78 bhp    |5    |\n",
      "|4       |Hyundai i20 Sportz Diesel   |2010|225000       |127000   |CT21     |ST27      |248001     |Diesel|Individual |Manual      |First Owner |23.0 kmpl |1396 CC|90 bhp    |5    |\n",
      "|5       |Maruti Swift VXI BSIII      |2007|130000       |120000   |CT03     |ST24      |600020     |Petrol|Individual |Manual      |First Owner |16.1 kmpl |1298 CC|88.2 bhp  |5    |\n",
      "+--------+----------------------------+----+-------------+---------+---------+----------+-----------+------+-----------+------------+------------+----------+-------+----------+-----+\n",
      "only showing top 5 rows\n",
      "\n"
     ]
    }
   ],
   "source": [
    "df_sales=spark.read.csv(r\"C:\\Users\\apurba.mondal\\Documents\\Car_sales_transactions.csv\",header=True,inferSchema=True)\n",
    "df_sales.show(5,truncate=False)"
   ]
  },
  {
   "cell_type": "code",
   "execution_count": 8,
   "id": "5d27fa28",
   "metadata": {},
   "outputs": [
    {
     "data": {
      "text/plain": [
       "pyspark.sql.dataframe.DataFrame"
      ]
     },
     "execution_count": 8,
     "metadata": {},
     "output_type": "execute_result"
    }
   ],
   "source": [
    "type(df_sales)"
   ]
  },
  {
   "cell_type": "code",
   "execution_count": 9,
   "id": "b0103464",
   "metadata": {},
   "outputs": [
    {
     "name": "stdout",
     "output_type": "stream",
     "text": [
      "root\n",
      " |-- Sales_ID: integer (nullable = true)\n",
      " |-- Name: string (nullable = true)\n",
      " |-- Year: integer (nullable = true)\n",
      " |-- Selling_Price: integer (nullable = true)\n",
      " |-- km_Driven: integer (nullable = true)\n",
      " |-- City_Code: string (nullable = true)\n",
      " |-- State_Code: string (nullable = true)\n",
      " |-- Postal_Code: integer (nullable = true)\n",
      " |-- Fuel: string (nullable = true)\n",
      " |-- Seller_Type: string (nullable = true)\n",
      " |-- Transmission: string (nullable = true)\n",
      " |-- Owner: string (nullable = true)\n",
      " |-- Mileage: string (nullable = true)\n",
      " |-- Engine: string (nullable = true)\n",
      " |-- Max_Power: string (nullable = true)\n",
      " |-- Seats: integer (nullable = true)\n",
      "\n"
     ]
    }
   ],
   "source": [
    "df_sales.printSchema()"
   ]
  },
  {
   "cell_type": "markdown",
   "id": "5b24d5e2",
   "metadata": {},
   "source": [
    "#### To drop all Null values from dataset"
   ]
  },
  {
   "cell_type": "code",
   "execution_count": 10,
   "id": "bed5ccfd",
   "metadata": {},
   "outputs": [
    {
     "name": "stdout",
     "output_type": "stream",
     "text": [
      "+--------+----------------------------+----+-------------+---------+---------+----------+-----------+------+-----------+------------+------------+----------+-------+----------+-----+\n",
      "|Sales_ID|Name                        |Year|Selling_Price|km_Driven|City_Code|State_Code|Postal_Code|Fuel  |Seller_Type|Transmission|Owner       |Mileage   |Engine |Max_Power |Seats|\n",
      "+--------+----------------------------+----+-------------+---------+---------+----------+-----------+------+-----------+------------+------------+----------+-------+----------+-----+\n",
      "|1       |Maruti Swift Dzire VDI      |2014|450000       |145500   |CT01     |ST15      |400001     |Diesel|Individual |Manual      |First Owner |23.4 kmpl |1248 CC|74 bhp    |5    |\n",
      "|2       |Skoda Rapid 1.5 TDI Ambition|2014|370000       |120000   |CT28     |ST11      |834001     |Diesel|Individual |Manual      |Second Owner|21.14 kmpl|1498 CC|103.52 bhp|5    |\n",
      "|3       |Honda City 2017-2020 EXi    |2006|158000       |140000   |CT12     |ST28      |201301     |Petrol|Individual |Manual      |Third Owner |17.7 kmpl |1497 CC|78 bhp    |5    |\n",
      "|4       |Hyundai i20 Sportz Diesel   |2010|225000       |127000   |CT21     |ST27      |248001     |Diesel|Individual |Manual      |First Owner |23.0 kmpl |1396 CC|90 bhp    |5    |\n",
      "|5       |Maruti Swift VXI BSIII      |2007|130000       |120000   |CT03     |ST24      |600020     |Petrol|Individual |Manual      |First Owner |16.1 kmpl |1298 CC|88.2 bhp  |5    |\n",
      "+--------+----------------------------+----+-------------+---------+---------+----------+-----------+------+-----------+------------+------------+----------+-------+----------+-----+\n",
      "only showing top 5 rows\n",
      "\n"
     ]
    }
   ],
   "source": [
    "df_sales_withoutnull=df_sales.na.drop()\n",
    "df_sales_withoutnull.show(5,truncate=False)"
   ]
  },
  {
   "cell_type": "code",
   "execution_count": 11,
   "id": "d68f1993",
   "metadata": {},
   "outputs": [
    {
     "name": "stdout",
     "output_type": "stream",
     "text": [
      "+-------+----+\n",
      "|SalesID|Sold|\n",
      "+-------+----+\n",
      "|      1|   Y|\n",
      "|      2|   Y|\n",
      "|      3|   Y|\n",
      "|      4|   Y|\n",
      "|      5|   Y|\n",
      "+-------+----+\n",
      "only showing top 5 rows\n",
      "\n"
     ]
    }
   ],
   "source": [
    "df_sales_status=spark.read.csv(r\"C:\\Users\\apurba.mondal\\Documents\\Sales_Status.csv\",header=True,inferSchema=True)\n",
    "df_sales_status=df_sales_status.withColumnRenamed(\"Sales_ID\",\"SalesID\")\n",
    "df_sales_status.show(5)"
   ]
  },
  {
   "cell_type": "code",
   "execution_count": 12,
   "id": "73637a3d",
   "metadata": {},
   "outputs": [
    {
     "name": "stdout",
     "output_type": "stream",
     "text": [
      "+-----------+---------+\n",
      "|Region_Code|StateCode|\n",
      "+-----------+---------+\n",
      "|         R4|     ST01|\n",
      "|         R6|     ST02|\n",
      "|         R6|     ST03|\n",
      "|         R2|     ST04|\n",
      "|         R1|     ST05|\n",
      "+-----------+---------+\n",
      "only showing top 5 rows\n",
      "\n"
     ]
    }
   ],
   "source": [
    "df_Region=spark.read.csv(r\"C:\\Users\\apurba.mondal\\Documents\\Region_State_Mapping.csv\",header=True,inferSchema=True)\n",
    "df_Region=df_Region.withColumnRenamed('State_Code','StateCode')\n",
    "df_Region.show(5)"
   ]
  },
  {
   "cell_type": "code",
   "execution_count": 13,
   "id": "89b08ee8",
   "metadata": {},
   "outputs": [
    {
     "name": "stdout",
     "output_type": "stream",
     "text": [
      "+---------+-----------------+\n",
      "|StateCode|       State_Name|\n",
      "+---------+-----------------+\n",
      "|     ST01|   Andhra Pradesh|\n",
      "|     ST02|Arunachal Pradesh|\n",
      "|     ST03|            Assam|\n",
      "|     ST04|            Bihar|\n",
      "|     ST05|     Chhattisgarh|\n",
      "+---------+-----------------+\n",
      "only showing top 5 rows\n",
      "\n"
     ]
    }
   ],
   "source": [
    "df_State_Master=spark.read.csv(r\"C:\\Users\\apurba.mondal\\Documents\\State_Master.csv\",header=True,inferSchema=True)\n",
    "df_State_Master=df_State_Master.withColumnRenamed('State_Code','StateCode')\n",
    "df_State_Master.show(5)"
   ]
  },
  {
   "cell_type": "code",
   "execution_count": 14,
   "id": "3ad4700b",
   "metadata": {},
   "outputs": [
    {
     "name": "stdout",
     "output_type": "stream",
     "text": [
      "+----------+-------+\n",
      "|RegionCode| Region|\n",
      "+----------+-------+\n",
      "|        R1|Central|\n",
      "|        R2|   East|\n",
      "|        R3|   West|\n",
      "|        R4|  South|\n",
      "|        R5|  North|\n",
      "+----------+-------+\n",
      "only showing top 5 rows\n",
      "\n"
     ]
    }
   ],
   "source": [
    "df_Region_Master=spark.read.csv(r\"C:\\Users\\apurba.mondal\\Documents\\Region_Master.csv\",header=True,inferSchema=True)\n",
    "df_Region_Master = df_Region_Master.withColumnRenamed(\"Region_Code\",\"RegionCode\")\n",
    "df_Region_Master.show(5)"
   ]
  },
  {
   "cell_type": "code",
   "execution_count": 15,
   "id": "14126929",
   "metadata": {},
   "outputs": [
    {
     "name": "stdout",
     "output_type": "stream",
     "text": [
      "+-----------+---------+\n",
      "|Postal_Code|City_Code|\n",
      "+-----------+---------+\n",
      "|     400001|     CT01|\n",
      "|     400053|     CT01|\n",
      "|     400035|     CT01|\n",
      "|     400050|     CT01|\n",
      "|     411002|     CT02|\n",
      "+-----------+---------+\n",
      "only showing top 5 rows\n",
      "\n"
     ]
    }
   ],
   "source": [
    "df_Postal_Code_Master=spark.read.csv(r\"C:\\Users\\apurba.mondal\\Documents\\Postal_Code_Master.csv\",header=True,inferSchema=True)\n",
    "df_Postal_Code_Master.show(5)"
   ]
  },
  {
   "cell_type": "code",
   "execution_count": 16,
   "id": "14bed582",
   "metadata": {},
   "outputs": [
    {
     "name": "stdout",
     "output_type": "stream",
     "text": [
      "+---------+-------+\n",
      "|StateCode| Region|\n",
      "+---------+-------+\n",
      "|     ST05|Central|\n",
      "|     ST14|Central|\n",
      "|     ST27|Central|\n",
      "|     ST28|Central|\n",
      "|     ST04|   East|\n",
      "+---------+-------+\n",
      "only showing top 5 rows\n",
      "\n"
     ]
    }
   ],
   "source": [
    "df1 = df_Region.join(df_Region_Master,df_Region.Region_Code==df_Region_Master.RegionCode,'outer')\n",
    "df1 = df1.select(\"StateCode\",\"Region\")\n",
    "df1.show(5)"
   ]
  },
  {
   "cell_type": "code",
   "execution_count": 17,
   "id": "a03da378",
   "metadata": {},
   "outputs": [
    {
     "name": "stdout",
     "output_type": "stream",
     "text": [
      "+-----------------+----------+\n",
      "|            state|    Region|\n",
      "+-----------------+----------+\n",
      "|   Andhra Pradesh|     South|\n",
      "|Arunachal Pradesh|North East|\n",
      "|            Assam|North East|\n",
      "|            Bihar|      East|\n",
      "|     Chhattisgarh|   Central|\n",
      "+-----------------+----------+\n",
      "only showing top 5 rows\n",
      "\n"
     ]
    }
   ],
   "source": [
    "df2 = df1.join(df_State_Master,df1.StateCode==df_State_Master.StateCode,\"inner\")\n",
    "df2 = df2.select(\"State_Name\",\"Region\").withColumnRenamed(\"State_Name\",\"state\")\n",
    "df2.show(5)"
   ]
  },
  {
   "cell_type": "code",
   "execution_count": 18,
   "id": "acb65357",
   "metadata": {},
   "outputs": [
    {
     "name": "stdout",
     "output_type": "stream",
     "text": [
      "+--------+-----------------------------------+----+-------------+---------+-----------+---------+----------+------+-----------+------------+------------+----------+-------+----------+-----+\n",
      "|Sales_ID|Name                               |Year|Selling_Price|km_Driven|Postal_Code|City_Name|State_Code|Fuel  |Seller_Type|Transmission|Owner       |Mileage   |Engine |Max_Power |Seats|\n",
      "+--------+-----------------------------------+----+-------------+---------+-----------+---------+----------+------+-----------+------------+------------+----------+-------+----------+-----+\n",
      "|1       |Maruti Swift Dzire VDI             |2014|450000       |145500   |400001     |Mumbai   |ST15      |Diesel|Individual |Manual      |First Owner |23.4 kmpl |1248 CC|74 bhp    |5    |\n",
      "|18      |Hyundai i20 1.4 CRDi Asta          |2012|500000       |53000    |400001     |Mumbai   |ST15      |Diesel|Individual |Manual      |Second Owner|23.0 kmpl |1396 CC|90 bhp    |5    |\n",
      "|48      |Toyota Fortuner 4x4 MT             |2014|1500000      |77000    |400001     |Mumbai   |ST15      |Diesel|Dealer     |Manual      |First Owner |12.55 kmpl|2982 CC|168.5 bhp |7    |\n",
      "|71      |Volkswagen Ameo 1.5 TDI Comfortline|2017|500000       |80000    |400001     |Mumbai   |ST15      |Diesel|Individual |Manual      |First Owner |21.66 kmpl|1498 CC|108.62 bhp|5    |\n",
      "|121     |Nissan Terrano XL 85 PS            |2014|400000       |70000    |400001     |Mumbai   |ST15      |Diesel|Individual |Manual      |Third Owner |20.45 kmpl|1461 CC|83.8 bhp  |5    |\n",
      "+--------+-----------------------------------+----+-------------+---------+-----------+---------+----------+------+-----------+------------+------------+----------+-------+----------+-----+\n",
      "only showing top 5 rows\n",
      "\n"
     ]
    }
   ],
   "source": [
    "new_df1=df_sales.join(df_city,df_sales.City_Code==df_city.City_Code,'outer')\n",
    "new_df1 = new_df1.select(\"Sales_ID\",\"Name\",\"Year\",\"Selling_Price\",\"km_Driven\",\"Postal_Code\",\"City_Name\",\"State_Code\",\\\n",
    "                       \"Fuel\",\"Seller_Type\",\"Transmission\",\"Owner\",\"Mileage\",\"Engine\",\"Max_Power\",\"Seats\")\n",
    "new_df1.show(5,truncate=False)"
   ]
  },
  {
   "cell_type": "code",
   "execution_count": 19,
   "id": "346fa72a",
   "metadata": {},
   "outputs": [
    {
     "name": "stdout",
     "output_type": "stream",
     "text": [
      "+--------+-----------------------------------+----+-------------+---------+-----------+---------+--------------+------+-----------+------------+------------+----------+-------+----------+-----+\n",
      "|Sales_ID|Name                               |Year|Selling_Price|km_Driven|Postal_Code|City_Name|State_Name    |Fuel  |Seller_Type|Transmission|Owner       |Mileage   |Engine |Max_Power |Seats|\n",
      "+--------+-----------------------------------+----+-------------+---------+-----------+---------+--------------+------+-----------+------------+------------+----------+-------+----------+-----+\n",
      "|12      |Maruti Zen LX                      |2005|92000        |100000   |524225     |Nellore  |Andhra Pradesh|Petrol|Individual |Manual      |Second Owner|17.3 kmpl |993 CC |60 bhp    |5    |\n",
      "|52      |Mitsubishi Pajero Sport 4X4        |2013|1090000      |151000   |524225     |Nellore  |Andhra Pradesh|Diesel|Dealer     |Manual      |First Owner |13.5 kmpl |2477 CC|175.56 bhp|7    |\n",
      "|84      |Maruti Celerio ZXI MT BSIV         |2017|484999       |10000    |524225     |Nellore  |Andhra Pradesh|Petrol|Dealer     |Manual      |First Owner |23.1 kmpl |998 CC |67.04 bhp |5    |\n",
      "|102     |Tata Manza Aura (ABS) Quadrajet    |2010|200000       |100000   |524225     |Nellore  |Andhra Pradesh|Diesel|Individual |Manual      |Second Owner|18.8 kmpl |1248 CC|90 bhp    |5    |\n",
      "|106     |Mahindra Scorpio VLX AT AIRBAG BSIV|2014|625000       |70000    |524225     |Nellore  |Andhra Pradesh|Diesel|Individual |Automatic   |Second Owner|11.79 kmpl|2179 CC|120 bhp   |8    |\n",
      "+--------+-----------------------------------+----+-------------+---------+-----------+---------+--------------+------+-----------+------------+------------+----------+-------+----------+-----+\n",
      "only showing top 5 rows\n",
      "\n"
     ]
    }
   ],
   "source": [
    "new_df2=new_df1.join(df_State_Master,new_df1.State_Code==df_State_Master.StateCode,'outer')\n",
    "new_df2 = new_df2.select(\"Sales_ID\",\"Name\",\"Year\",\"Selling_Price\",\"km_Driven\",\"Postal_Code\",\"City_Name\",\"State_Name\",\"Fuel\",\\\n",
    "               \"Seller_Type\",\"Transmission\",\"Owner\",\"Mileage\",\"Engine\",\"Max_Power\",\"Seats\")\n",
    "new_df2.show(5,truncate=False)"
   ]
  },
  {
   "cell_type": "code",
   "execution_count": 20,
   "id": "6567ff50",
   "metadata": {},
   "outputs": [
    {
     "name": "stdout",
     "output_type": "stream",
     "text": [
      "+--------+----------------------------+----+-------------+---------+-----------+---------+-------------+------+-----------+------------+------------+----------+-------+----------+-----+----+\n",
      "|Sales_ID|Name                        |Year|Selling_Price|km_Driven|Postal_Code|City_Name|State_Name   |Fuel  |Seller_Type|Transmission|Owner       |Mileage   |Engine |Max_Power |Seats|Sold|\n",
      "+--------+----------------------------+----+-------------+---------+-----------+---------+-------------+------+-----------+------------+------------+----------+-------+----------+-----+----+\n",
      "|1       |Maruti Swift Dzire VDI      |2014|450000       |145500   |400001     |Mumbai   |Maharashtra  |Diesel|Individual |Manual      |First Owner |23.4 kmpl |1248 CC|74 bhp    |5    |Y   |\n",
      "|2       |Skoda Rapid 1.5 TDI Ambition|2014|370000       |120000   |834001     |Ranchi   |Jharkhand    |Diesel|Individual |Manual      |Second Owner|21.14 kmpl|1498 CC|103.52 bhp|5    |Y   |\n",
      "|3       |Honda City 2017-2020 EXi    |2006|158000       |140000   |201301     |Noida    |Uttar Pradesh|Petrol|Individual |Manual      |Third Owner |17.7 kmpl |1497 CC|78 bhp    |5    |Y   |\n",
      "|4       |Hyundai i20 Sportz Diesel   |2010|225000       |127000   |248001     |Dehradun |Uttarakhand  |Diesel|Individual |Manual      |First Owner |23.0 kmpl |1396 CC|90 bhp    |5    |Y   |\n",
      "|5       |Maruti Swift VXI BSIII      |2007|130000       |120000   |600020     |Chennai  |Tamil Nadu   |Petrol|Individual |Manual      |First Owner |16.1 kmpl |1298 CC|88.2 bhp  |5    |Y   |\n",
      "+--------+----------------------------+----+-------------+---------+-----------+---------+-------------+------+-----------+------------+------------+----------+-------+----------+-----+----+\n",
      "only showing top 5 rows\n",
      "\n"
     ]
    }
   ],
   "source": [
    "new_df3=new_df2.join(df_sales_status,new_df2.Sales_ID==df_sales_status.SalesID,'inner')\n",
    "new_df3 = new_df3.select(\"Sales_ID\",\"Name\",\"Year\",\"Selling_Price\",\"km_Driven\",\"Postal_Code\",\"City_Name\",\"State_Name\",\"Fuel\",\\\n",
    "               \"Seller_Type\",\"Transmission\",\"Owner\",\"Mileage\",\"Engine\",\"Max_Power\",\"Seats\",\"Sold\")\n",
    "new_df3.show(5,truncate=False)"
   ]
  },
  {
   "cell_type": "code",
   "execution_count": 21,
   "id": "d1b6ab65",
   "metadata": {
    "scrolled": false
   },
   "outputs": [
    {
     "name": "stdout",
     "output_type": "stream",
     "text": [
      "+--------+----------------------------+----+-------------+---------+-----------+---------+-------------+-------+------+-----------+------------+------------+----------+-------+----------+-----+----+\n",
      "|Sales_ID|Name                        |Year|Selling_Price|km_Driven|Postal_Code|City_Name|State_Name   |Region |Fuel  |Seller_Type|Transmission|Owner       |Mileage   |Engine |Max_Power |Seats|Sold|\n",
      "+--------+----------------------------+----+-------------+---------+-----------+---------+-------------+-------+------+-----------+------------+------------+----------+-------+----------+-----+----+\n",
      "|1       |Maruti Swift Dzire VDI      |2014|450000       |145500   |400001     |Mumbai   |Maharashtra  |West   |Diesel|Individual |Manual      |First Owner |23.4 kmpl |1248 CC|74 bhp    |5    |Y   |\n",
      "|2       |Skoda Rapid 1.5 TDI Ambition|2014|370000       |120000   |834001     |Ranchi   |Jharkhand    |East   |Diesel|Individual |Manual      |Second Owner|21.14 kmpl|1498 CC|103.52 bhp|5    |Y   |\n",
      "|3       |Honda City 2017-2020 EXi    |2006|158000       |140000   |201301     |Noida    |Uttar Pradesh|Central|Petrol|Individual |Manual      |Third Owner |17.7 kmpl |1497 CC|78 bhp    |5    |Y   |\n",
      "|4       |Hyundai i20 Sportz Diesel   |2010|225000       |127000   |248001     |Dehradun |Uttarakhand  |Central|Diesel|Individual |Manual      |First Owner |23.0 kmpl |1396 CC|90 bhp    |5    |Y   |\n",
      "|5       |Maruti Swift VXI BSIII      |2007|130000       |120000   |600020     |Chennai  |Tamil Nadu   |South  |Petrol|Individual |Manual      |First Owner |16.1 kmpl |1298 CC|88.2 bhp  |5    |Y   |\n",
      "+--------+----------------------------+----+-------------+---------+-----------+---------+-------------+-------+------+-----------+------------+------------+----------+-------+----------+-----+----+\n",
      "only showing top 5 rows\n",
      "\n"
     ]
    }
   ],
   "source": [
    "new_df4 = new_df3.join(df2,new_df3.State_Name==df2.state,'inner')\n",
    "new_df4 = new_df4.select(\"Sales_ID\",\"Name\",\"Year\",\"Selling_Price\",\"km_Driven\",\"Postal_Code\",\"City_Name\",\"State_Name\",\"Region\",\\\n",
    "                         \"Fuel\",\"Seller_Type\",\"Transmission\",\"Owner\",\"Mileage\",\"Engine\",\"Max_Power\",\"Seats\",\"Sold\")\n",
    "new_df4.show(5,truncate=False)"
   ]
  },
  {
   "cell_type": "code",
   "execution_count": 22,
   "id": "25f036ae",
   "metadata": {},
   "outputs": [
    {
     "name": "stdout",
     "output_type": "stream",
     "text": [
      "+--------+----------------------------+----+-------------+---------+-----------+---------+-------------+-------+------+-----------+------------+------------+-------+----------+-----+----+-------+\n",
      "|Sales_ID|Name                        |Year|Selling_Price|km_Driven|Postal_Code|City_Name|State_Name   |Region |Fuel  |Seller_Type|Transmission|Owner       |Engine |Max_Power |Seats|Sold|mileage|\n",
      "+--------+----------------------------+----+-------------+---------+-----------+---------+-------------+-------+------+-----------+------------+------------+-------+----------+-----+----+-------+\n",
      "|1       |Maruti Swift Dzire VDI      |2014|450000       |145500   |400001     |Mumbai   |Maharashtra  |West   |Diesel|Individual |Manual      |First Owner |1248 CC|74 bhp    |5    |Y   |23.4   |\n",
      "|2       |Skoda Rapid 1.5 TDI Ambition|2014|370000       |120000   |834001     |Ranchi   |Jharkhand    |East   |Diesel|Individual |Manual      |Second Owner|1498 CC|103.52 bhp|5    |Y   |21.14  |\n",
      "|3       |Honda City 2017-2020 EXi    |2006|158000       |140000   |201301     |Noida    |Uttar Pradesh|Central|Petrol|Individual |Manual      |Third Owner |1497 CC|78 bhp    |5    |Y   |17.7   |\n",
      "|4       |Hyundai i20 Sportz Diesel   |2010|225000       |127000   |248001     |Dehradun |Uttarakhand  |Central|Diesel|Individual |Manual      |First Owner |1396 CC|90 bhp    |5    |Y   |23.0   |\n",
      "|5       |Maruti Swift VXI BSIII      |2007|130000       |120000   |600020     |Chennai  |Tamil Nadu   |South  |Petrol|Individual |Manual      |First Owner |1298 CC|88.2 bhp  |5    |Y   |16.1   |\n",
      "+--------+----------------------------+----+-------------+---------+-----------+---------+-------------+-------+------+-----------+------------+------------+-------+----------+-----+----+-------+\n",
      "only showing top 5 rows\n",
      "\n"
     ]
    }
   ],
   "source": [
    "import pyspark.sql.functions as psf\n",
    "split_col = psf.split(new_df4['Mileage'], ' ')\n",
    "new_df4 = new_df4.withColumn('new_mileage', split_col.getItem(0))\n",
    "new_df4=new_df4.drop('Mileage')\n",
    "new_df4=new_df4.withColumnRenamed('new_mileage','mileage')\n",
    "new_df4.show(5,truncate=False)"
   ]
  },
  {
   "cell_type": "code",
   "execution_count": 23,
   "id": "5f3d620f",
   "metadata": {},
   "outputs": [
    {
     "name": "stdout",
     "output_type": "stream",
     "text": [
      "+--------+----------------------------+----+-------------+---------+-----------+---------+-------------+-------+------+-----------+------------+------------+-------+-----+----+-------+---------+\n",
      "|Sales_ID|Name                        |Year|Selling_Price|km_Driven|Postal_Code|City_Name|State_Name   |Region |Fuel  |Seller_Type|Transmission|Owner       |Engine |Seats|Sold|mileage|max_power|\n",
      "+--------+----------------------------+----+-------------+---------+-----------+---------+-------------+-------+------+-----------+------------+------------+-------+-----+----+-------+---------+\n",
      "|1       |Maruti Swift Dzire VDI      |2014|450000       |145500   |400001     |Mumbai   |Maharashtra  |West   |Diesel|Individual |Manual      |First Owner |1248 CC|5    |Y   |23.4   |74.0     |\n",
      "|2       |Skoda Rapid 1.5 TDI Ambition|2014|370000       |120000   |834001     |Ranchi   |Jharkhand    |East   |Diesel|Individual |Manual      |Second Owner|1498 CC|5    |Y   |21.14  |103.52   |\n",
      "|3       |Honda City 2017-2020 EXi    |2006|158000       |140000   |201301     |Noida    |Uttar Pradesh|Central|Petrol|Individual |Manual      |Third Owner |1497 CC|5    |Y   |17.7   |78.0     |\n",
      "|4       |Hyundai i20 Sportz Diesel   |2010|225000       |127000   |248001     |Dehradun |Uttarakhand  |Central|Diesel|Individual |Manual      |First Owner |1396 CC|5    |Y   |23.0   |90.0     |\n",
      "|5       |Maruti Swift VXI BSIII      |2007|130000       |120000   |600020     |Chennai  |Tamil Nadu   |South  |Petrol|Individual |Manual      |First Owner |1298 CC|5    |Y   |16.1   |88.2     |\n",
      "+--------+----------------------------+----+-------------+---------+-----------+---------+-------------+-------+------+-----------+------------+------------+-------+-----+----+-------+---------+\n",
      "only showing top 5 rows\n",
      "\n"
     ]
    }
   ],
   "source": [
    "split_col1 = psf.split(new_df4['max_power'], ' ')\n",
    "new_df4 = new_df4.withColumn('new_max_power', split_col1.getItem(0))\n",
    "new_df4=new_df4.drop('max_power')\n",
    "new_df4=new_df4.withColumnRenamed('new_max_power','max_power')\n",
    "new_df4 = new_df4.withColumn('max_power',psf.col('max_power').cast('Float'))\n",
    "new_df4.show(5,truncate=False)"
   ]
  },
  {
   "cell_type": "code",
   "execution_count": 24,
   "id": "be039aaf",
   "metadata": {},
   "outputs": [
    {
     "name": "stdout",
     "output_type": "stream",
     "text": [
      "+--------+----------------------------+----+-------------+---------+-----------+---------+-------------+-------+------+-----------+------------+------------+-----+----+-------+---------+------+\n",
      "|Sales_ID|Name                        |Year|Selling_Price|km_Driven|Postal_Code|City_Name|State_Name   |Region |Fuel  |Seller_Type|Transmission|Owner       |Seats|Sold|mileage|max_power|engine|\n",
      "+--------+----------------------------+----+-------------+---------+-----------+---------+-------------+-------+------+-----------+------------+------------+-----+----+-------+---------+------+\n",
      "|1       |Maruti Swift Dzire VDI      |2014|450000       |145500   |400001     |Mumbai   |Maharashtra  |West   |Diesel|Individual |Manual      |First Owner |5    |Y   |23.4   |74.0     |1248  |\n",
      "|2       |Skoda Rapid 1.5 TDI Ambition|2014|370000       |120000   |834001     |Ranchi   |Jharkhand    |East   |Diesel|Individual |Manual      |Second Owner|5    |Y   |21.14  |103.52   |1498  |\n",
      "|3       |Honda City 2017-2020 EXi    |2006|158000       |140000   |201301     |Noida    |Uttar Pradesh|Central|Petrol|Individual |Manual      |Third Owner |5    |Y   |17.7   |78.0     |1497  |\n",
      "|4       |Hyundai i20 Sportz Diesel   |2010|225000       |127000   |248001     |Dehradun |Uttarakhand  |Central|Diesel|Individual |Manual      |First Owner |5    |Y   |23.0   |90.0     |1396  |\n",
      "|5       |Maruti Swift VXI BSIII      |2007|130000       |120000   |600020     |Chennai  |Tamil Nadu   |South  |Petrol|Individual |Manual      |First Owner |5    |Y   |16.1   |88.2     |1298  |\n",
      "+--------+----------------------------+----+-------------+---------+-----------+---------+-------------+-------+------+-----------+------------+------------+-----+----+-------+---------+------+\n",
      "only showing top 5 rows\n",
      "\n"
     ]
    }
   ],
   "source": [
    "split_col2 = psf.split(new_df4['Engine'], ' ')\n",
    "new_df4 = new_df4.withColumn('new_engine', split_col2.getItem(0))\n",
    "new_df4=new_df4.drop('Engine')\n",
    "new_df4=new_df4.withColumnRenamed('new_engine','engine')\n",
    "new_df4 = new_df4.withColumn('engine',psf.col('engine').cast('Integer'))\n",
    "new_df4.show(5,truncate=False)"
   ]
  },
  {
   "cell_type": "code",
   "execution_count": 25,
   "id": "f972c35d",
   "metadata": {},
   "outputs": [
    {
     "name": "stdout",
     "output_type": "stream",
     "text": [
      "+--------+----------------------------+----+-------------+---------+-----------+---------+-------------+-------+------+-----------+------------+------------+-----+----+-------+---------+------+-------+\n",
      "|Sales_ID|Name                        |Year|Selling_Price|km_Driven|Postal_Code|City_Name|State_Name   |Region |Fuel  |Seller_Type|Transmission|Owner       |Seats|Sold|mileage|max_power|engine|brand  |\n",
      "+--------+----------------------------+----+-------------+---------+-----------+---------+-------------+-------+------+-----------+------------+------------+-----+----+-------+---------+------+-------+\n",
      "|1       |Maruti Swift Dzire VDI      |2014|450000       |145500   |400001     |Mumbai   |Maharashtra  |West   |Diesel|Individual |Manual      |First Owner |5    |Y   |23.4   |74.0     |1248  |Maruti |\n",
      "|2       |Skoda Rapid 1.5 TDI Ambition|2014|370000       |120000   |834001     |Ranchi   |Jharkhand    |East   |Diesel|Individual |Manual      |Second Owner|5    |Y   |21.14  |103.52   |1498  |Skoda  |\n",
      "|3       |Honda City 2017-2020 EXi    |2006|158000       |140000   |201301     |Noida    |Uttar Pradesh|Central|Petrol|Individual |Manual      |Third Owner |5    |Y   |17.7   |78.0     |1497  |Honda  |\n",
      "|4       |Hyundai i20 Sportz Diesel   |2010|225000       |127000   |248001     |Dehradun |Uttarakhand  |Central|Diesel|Individual |Manual      |First Owner |5    |Y   |23.0   |90.0     |1396  |Hyundai|\n",
      "|5       |Maruti Swift VXI BSIII      |2007|130000       |120000   |600020     |Chennai  |Tamil Nadu   |South  |Petrol|Individual |Manual      |First Owner |5    |Y   |16.1   |88.2     |1298  |Maruti |\n",
      "+--------+----------------------------+----+-------------+---------+-----------+---------+-------------+-------+------+-----------+------------+------------+-----+----+-------+---------+------+-------+\n",
      "only showing top 5 rows\n",
      "\n",
      "root\n",
      " |-- Sales_ID: integer (nullable = true)\n",
      " |-- Name: string (nullable = true)\n",
      " |-- Year: integer (nullable = true)\n",
      " |-- Selling_Price: integer (nullable = true)\n",
      " |-- km_Driven: integer (nullable = true)\n",
      " |-- Postal_Code: integer (nullable = true)\n",
      " |-- City_Name: string (nullable = true)\n",
      " |-- State_Name: string (nullable = true)\n",
      " |-- Region: string (nullable = true)\n",
      " |-- Fuel: string (nullable = true)\n",
      " |-- Seller_Type: string (nullable = true)\n",
      " |-- Transmission: string (nullable = true)\n",
      " |-- Owner: string (nullable = true)\n",
      " |-- Seats: integer (nullable = true)\n",
      " |-- Sold: string (nullable = true)\n",
      " |-- mileage: string (nullable = true)\n",
      " |-- max_power: float (nullable = true)\n",
      " |-- engine: integer (nullable = true)\n",
      " |-- brand: string (nullable = true)\n",
      "\n"
     ]
    }
   ],
   "source": [
    "split_col2 = psf.split(new_df4['Name'], ' ')\n",
    "final_df = new_df4.withColumn('brand', split_col2.getItem(0))\n",
    "final_df.show(5,truncate=False)\n",
    "final_df.printSchema()"
   ]
  },
  {
   "cell_type": "markdown",
   "id": "7a71534f",
   "metadata": {},
   "source": [
    "## Which Brand is having the most sales?"
   ]
  },
  {
   "cell_type": "code",
   "execution_count": 26,
   "id": "c1aa0051",
   "metadata": {},
   "outputs": [
    {
     "name": "stdout",
     "output_type": "stream",
     "text": [
      "+-------------+-----------+\n",
      "|        brand|no_of_sales|\n",
      "+-------------+-----------+\n",
      "|       Maruti|        597|\n",
      "|      Hyundai|        332|\n",
      "|     Mahindra|        201|\n",
      "|         Tata|        178|\n",
      "|       Toyota|        126|\n",
      "|        Honda|        124|\n",
      "|         Ford|         92|\n",
      "|      Renault|         56|\n",
      "|    Chevrolet|         56|\n",
      "|   Volkswagen|         39|\n",
      "|       Nissan|         33|\n",
      "|          BMW|         29|\n",
      "|       Jaguar|         21|\n",
      "|        Skoda|         20|\n",
      "|        Volvo|         19|\n",
      "|Mercedes-Benz|         16|\n",
      "|       Datsun|         16|\n",
      "|        Lexus|         11|\n",
      "|         Jeep|          9|\n",
      "|         Audi|          9|\n",
      "+-------------+-----------+\n",
      "only showing top 20 rows\n",
      "\n"
     ]
    }
   ],
   "source": [
    "df_brand_count = final_df.filter(final_df['Sold'] == 'Y')\n",
    "df_brand_count = df_brand_count.groupBy(\"brand\").agg({'Sales_ID' : 'count' }).\\\n",
    "withColumnRenamed(\"count(Sales_ID)\",\"no_of_sales\").orderBy(psf.col(\"no_of_sales\").desc())\n",
    "df_brand_count.show()            "
   ]
  },
  {
   "cell_type": "markdown",
   "id": "6dc0b984",
   "metadata": {},
   "source": [
    "##  Which specific location are having more sales?"
   ]
  },
  {
   "cell_type": "code",
   "execution_count": 27,
   "id": "9b7eedd2",
   "metadata": {},
   "outputs": [
    {
     "name": "stdout",
     "output_type": "stream",
     "text": [
      "+-------+-------------+---------+-----------+\n",
      "| Region|   State_Name|City_Name|no_of_sales|\n",
      "+-------+-------------+---------+-----------+\n",
      "|  South|    Karnataka|   Mysore|         83|\n",
      "|  South|   Tamil Nadu|  Vellore|         81|\n",
      "|Central|Uttar Pradesh|    Noida|         80|\n",
      "|  North|        Delhi|    Delhi|         80|\n",
      "|   West|  Maharashtra|   Mumbai|         77|\n",
      "+-------+-------------+---------+-----------+\n",
      "only showing top 5 rows\n",
      "\n",
      "+------+-----------+----------+-----------+\n",
      "|Region| State_Name| City_Name|no_of_sales|\n",
      "+------+-----------+----------+-----------+\n",
      "|  West|Maharashtra|      Pune|         52|\n",
      "| North|  Rajasthan|    Jaipur|         55|\n",
      "|  West|Maharashtra|Aurangabad|         60|\n",
      "|  East|  Jharkhand|    Ranchi|         62|\n",
      "| South|     Kerala|     Kochi|         62|\n",
      "+------+-----------+----------+-----------+\n",
      "only showing top 5 rows\n",
      "\n"
     ]
    }
   ],
   "source": [
    "df_count = final_df.filter(final_df['Sold'] == 'Y')\n",
    "df_count = df_count.groupBy([\"Region\",\"State_Name\",\"City_Name\"]).agg({'Sales_ID' : 'count'}).\\\n",
    "withColumnRenamed(\"count(Sales_ID)\",\"no_of_sales\").orderBy(psf.col(\"no_of_sales\").desc())\n",
    "df_count.show(5)\n",
    "\n",
    "df_count = final_df.filter(final_df['Sold'] == 'Y')\n",
    "df_count = df_count.groupBy([\"Region\",\"State_Name\",\"City_Name\"]).agg({'Sales_ID' : 'count'}).\\\n",
    "withColumnRenamed(\"count(Sales_ID)\",\"no_of_sales\").orderBy(psf.col(\"no_of_sales\"))\n",
    "df_count.show(5)"
   ]
  },
  {
   "cell_type": "code",
   "execution_count": 28,
   "id": "baac792a",
   "metadata": {},
   "outputs": [
    {
     "name": "stdout",
     "output_type": "stream",
     "text": [
      "+----------+-----------+\n",
      "|    Region|no_of_sales|\n",
      "+----------+-----------+\n",
      "|     South|        723|\n",
      "|      West|        397|\n",
      "|      East|        329|\n",
      "|   Central|        284|\n",
      "|     North|        198|\n",
      "|North East|         69|\n",
      "+----------+-----------+\n",
      "\n"
     ]
    }
   ],
   "source": [
    "df_region_count1 = final_df.filter(final_df['Sold'] == 'Y')\n",
    "df_region_count1 = df_region_count1.groupBy(\"Region\").agg({'Sales_ID' : 'count'}).\\\n",
    "withColumnRenamed(\"count(Sales_ID)\",\"no_of_sales\").orderBy(psf.col(\"no_of_sales\").desc())\n",
    "df_region_count1.show()\n",
    "\n"
   ]
  },
  {
   "cell_type": "code",
   "execution_count": 29,
   "id": "740afd51",
   "metadata": {},
   "outputs": [
    {
     "name": "stdout",
     "output_type": "stream",
     "text": [
      "+-------------+----------------------------+\n",
      "|   State_Name|no_of_sales(for top 5 state)|\n",
      "+-------------+----------------------------+\n",
      "|   Tamil Nadu|                         230|\n",
      "|    Karnataka|                         223|\n",
      "|      Gujarat|                         208|\n",
      "|  Maharashtra|                         189|\n",
      "|Uttar Pradesh|                         145|\n",
      "+-------------+----------------------------+\n",
      "only showing top 5 rows\n",
      "\n",
      "+--------------+--------------------------------+\n",
      "|    State_Name|no_of_sales(for bottom 5 states)|\n",
      "+--------------+--------------------------------+\n",
      "|     Rajasthan|                              55|\n",
      "|        Punjab|                              63|\n",
      "|        Odisha|                              64|\n",
      "|Andhra Pradesh|                              68|\n",
      "|Madhya Pradesh|                              69|\n",
      "+--------------+--------------------------------+\n",
      "only showing top 5 rows\n",
      "\n"
     ]
    }
   ],
   "source": [
    "df_region_count2 = final_df.filter(final_df['Sold'] == 'Y')\n",
    "df_region_count2 = df_region_count2.groupBy(\"State_Name\").agg({'Sales_ID' : 'count'}).\\\n",
    "withColumnRenamed(\"count(Sales_ID)\",\"no_of_sales(for top 5 state)\").orderBy(psf.col(\"no_of_sales(for top 5 state)\").desc())\n",
    "df_region_count2.show(5)\n",
    "\n",
    "\n",
    "df_region_count2 = final_df.filter(final_df['Sold'] == 'Y')\n",
    "df_region_count2 = df_region_count2.groupBy(\"State_Name\").agg({'Sales_ID' : 'count'}).\\\n",
    "withColumnRenamed(\"count(Sales_ID)\",\"no_of_sales(for bottom 5 states)\").orderBy(psf.col(\"no_of_sales(for bottom 5 states)\"))\n",
    "df_region_count2.show(5)\n"
   ]
  },
  {
   "cell_type": "code",
   "execution_count": 30,
   "id": "d26c10b7",
   "metadata": {},
   "outputs": [
    {
     "name": "stdout",
     "output_type": "stream",
     "text": [
      "+---------+---------------------------+\n",
      "|City_Name|no_of_sales(for top 5 city)|\n",
      "+---------+---------------------------+\n",
      "|   Mysore|                         83|\n",
      "|  Vellore|                         81|\n",
      "|    Delhi|                         80|\n",
      "|    Noida|                         80|\n",
      "|   Mumbai|                         77|\n",
      "+---------+---------------------------+\n",
      "only showing top 5 rows\n",
      "\n",
      "+----------+------------------------------+\n",
      "| City_Name|no_of_sales(for bottom 5 city)|\n",
      "+----------+------------------------------+\n",
      "|      Pune|                            52|\n",
      "|    Jaipur|                            55|\n",
      "|Aurangabad|                            60|\n",
      "|    Ranchi|                            62|\n",
      "|     Kochi|                            62|\n",
      "+----------+------------------------------+\n",
      "only showing top 5 rows\n",
      "\n"
     ]
    }
   ],
   "source": [
    "df_region_count3 = final_df.filter(final_df['Sold'] == 'Y')\n",
    "df_region_count3 = df_region_count3.groupBy(\"City_Name\").agg({'Sales_ID' : 'count'}).\\\n",
    "withColumnRenamed(\"count(Sales_ID)\",\"no_of_sales(for top 5 city)\").orderBy(psf.col(\"no_of_sales(for top 5 city)\").desc())\n",
    "df_region_count3.show(5)\n",
    "\n",
    "\n",
    "df_region_count3 = final_df.filter(final_df['Sold'] == 'Y')\n",
    "df_region_count3 = df_region_count3.groupBy(\"City_Name\").agg({'Sales_ID' : 'count'}).\\\n",
    "withColumnRenamed(\"count(Sales_ID)\",\"no_of_sales(for bottom 5 city)\").orderBy(psf.col(\"no_of_sales(for bottom 5 city)\"))\n",
    "df_region_count3.show(5)"
   ]
  },
  {
   "cell_type": "markdown",
   "id": "ddec44eb",
   "metadata": {},
   "source": [
    "## Trend in sales of the top 5 brands at an interval of 5 years starting from 2000"
   ]
  },
  {
   "cell_type": "code",
   "execution_count": 31,
   "id": "9fde9f4a",
   "metadata": {
    "scrolled": false
   },
   "outputs": [
    {
     "name": "stdout",
     "output_type": "stream",
     "text": [
      "+--------+-------------------------------+\n",
      "|   brand|count_of_sold_car(2000 to 2005)|\n",
      "+--------+-------------------------------+\n",
      "|  Maruti|                             42|\n",
      "| Hyundai|                              7|\n",
      "|   Honda|                              4|\n",
      "|Mahindra|                              3|\n",
      "|    Tata|                              2|\n",
      "+--------+-------------------------------+\n",
      "only showing top 5 rows\n",
      "\n",
      "+--------+-------------------------------+\n",
      "|   brand|count_of_sold_car(2006 to 2010)|\n",
      "+--------+-------------------------------+\n",
      "|  Maruti|                             79|\n",
      "| Hyundai|                             56|\n",
      "|    Tata|                             36|\n",
      "|Mahindra|                             29|\n",
      "|   Honda|                             20|\n",
      "+--------+-------------------------------+\n",
      "only showing top 5 rows\n",
      "\n",
      "+--------+-------------------------------+\n",
      "|   brand|count_of_sold_car(2011 to 2015)|\n",
      "+--------+-------------------------------+\n",
      "|  Maruti|                            231|\n",
      "| Hyundai|                            131|\n",
      "|Mahindra|                            105|\n",
      "|    Tata|                             85|\n",
      "|  Toyota|                             60|\n",
      "+--------+-------------------------------+\n",
      "only showing top 5 rows\n",
      "\n",
      "+--------+-------------------------------+\n",
      "|   brand|count_of_sold_car(2016 to 2020)|\n",
      "+--------+-------------------------------+\n",
      "|  Maruti|                            241|\n",
      "| Hyundai|                            138|\n",
      "|Mahindra|                             64|\n",
      "|   Honda|                             63|\n",
      "|    Tata|                             55|\n",
      "+--------+-------------------------------+\n",
      "only showing top 5 rows\n",
      "\n"
     ]
    }
   ],
   "source": [
    "df5 = final_df.filter((final_df['Sold'] == 'Y') & (final_df['Year']>1999) & (final_df['Year']<2006)).groupBy(\"brand\").\\\n",
    "agg({'Sales_ID' : 'count'}).withColumnRenamed(\"count(Sales_ID)\",\"count_of_sold_car(2000 to 2005)\")\n",
    "df5 = df5.sort(psf.col(\"count_of_sold_car(2000 to 2005)\").desc())\n",
    "df5.show(5)\n",
    "\n",
    "df6 = final_df.filter((final_df['Sold'] == 'Y') & (final_df['Year']>2005) & (final_df['Year']<2011)).groupBy(\"brand\").\\\n",
    "agg({'Sales_ID' : 'count'}).withColumnRenamed(\"count(Sales_ID)\",\"count_of_sold_car(2006 to 2010)\")\n",
    "df6 = df6.sort(psf.col(\"count_of_sold_car(2006 to 2010)\").desc())\n",
    "df6.show(5)\n",
    "\n",
    "df7 = final_df.filter((final_df['Sold'] == 'Y') & (final_df['Year']>2010) & (final_df['Year']<2016)).groupBy(\"brand\").\\\n",
    "agg({'Sales_ID' : 'count'}).withColumnRenamed(\"count(Sales_ID)\",\"count_of_sold_car(2011 to 2015)\")\n",
    "df7 = df7.sort(psf.col(\"count_of_sold_car(2011 to 2015)\").desc())\n",
    "df7.show(5)\n",
    "\n",
    "df8 = final_df.filter((final_df['Sold'] == 'Y') & (final_df['Year']>2015) & (final_df['Year']<2021)).groupBy(\"brand\").\\\n",
    "agg({'Sales_ID' : 'count'}).withColumnRenamed(\"count(Sales_ID)\",\"count_of_sold_car(2016 to 2020)\")\n",
    "df8 = df8.sort(psf.col(\"count_of_sold_car(2016 to 2020)\").desc())\n",
    "df8.show(5)"
   ]
  },
  {
   "cell_type": "markdown",
   "id": "00868a15",
   "metadata": {},
   "source": [
    "## Comparison between the sales of `automatic` and `manual` cars with respect to year"
   ]
  },
  {
   "cell_type": "code",
   "execution_count": 32,
   "id": "fe721a8e",
   "metadata": {},
   "outputs": [
    {
     "name": "stdout",
     "output_type": "stream",
     "text": [
      "+----+-----------------------------+\n",
      "|Year|no_of_sales for Automatic car|\n",
      "+----+-----------------------------+\n",
      "|2004|                            1|\n",
      "|2005|                            1|\n",
      "|2006|                            1|\n",
      "|2007|                            2|\n",
      "|2008|                            1|\n",
      "|2009|                            5|\n",
      "|2010|                            5|\n",
      "|2011|                            9|\n",
      "|2012|                            5|\n",
      "|2013|                           14|\n",
      "|2014|                            9|\n",
      "|2015|                           15|\n",
      "|2016|                           42|\n",
      "|2017|                           48|\n",
      "|2018|                           49|\n",
      "|2019|                           75|\n",
      "+----+-----------------------------+\n",
      "only showing top 16 rows\n",
      "\n",
      "+----+--------------------------+\n",
      "|Year|no_of_sales for Manual car|\n",
      "+----+--------------------------+\n",
      "|1994|                         1|\n",
      "|1999|                         3|\n",
      "|2000|                         5|\n",
      "|2001|                         2|\n",
      "|2002|                         7|\n",
      "|2003|                        10|\n",
      "|2004|                        12|\n",
      "|2005|                        24|\n",
      "|2006|                        22|\n",
      "|2007|                        26|\n",
      "|2008|                        42|\n",
      "|2009|                        66|\n",
      "|2010|                        91|\n",
      "|2011|                       146|\n",
      "|2012|                       154|\n",
      "|2013|                       160|\n",
      "|2014|                       135|\n",
      "|2015|                       185|\n",
      "|2016|                       183|\n",
      "|2017|                       208|\n",
      "|2018|                       138|\n",
      "|2019|                        79|\n",
      "|2020|                        15|\n",
      "+----+--------------------------+\n",
      "\n"
     ]
    }
   ],
   "source": [
    "car_sold_df = final_df.filter((final_df['Sold'] == 'Y') & (final_df['Transmission'] == 'Automatic')).\\\n",
    "groupBy(\"Year\").agg({'Sales_ID' : 'count'}).sort(psf.col(\"Year\")).\\\n",
    "withColumnRenamed(\"count(Sales_ID)\",\"no_of_sales for Automatic car\")\n",
    "car_sold_df.show(16)\n",
    "\n",
    "car_sold_df1 = final_df.filter((final_df['Sold'] == 'Y') & (final_df['Transmission'] == 'Manual')).\\\n",
    "groupBy(\"Year\").agg({'Sales_ID' : 'count'}).sort(psf.col(\"Year\")).\\\n",
    "withColumnRenamed(\"count(Sales_ID)\",\"no_of_sales for Manual car\")\n",
    "car_sold_df1.show(25)"
   ]
  },
  {
   "cell_type": "markdown",
   "id": "63ed9590",
   "metadata": {},
   "source": [
    "### Total sold cars according to Owner Type"
   ]
  },
  {
   "cell_type": "code",
   "execution_count": 33,
   "id": "85c81fe3",
   "metadata": {},
   "outputs": [
    {
     "name": "stdout",
     "output_type": "stream",
     "text": [
      "+--------------------+-----------+\n",
      "|               Owner|no_of_sales|\n",
      "+--------------------+-----------+\n",
      "|         First Owner|       1326|\n",
      "|        Second Owner|        490|\n",
      "|         Third Owner|        135|\n",
      "|Fourth & Above Owner|         49|\n",
      "+--------------------+-----------+\n",
      "\n"
     ]
    }
   ],
   "source": [
    "owner_df = final_df.filter(final_df['Sold'] == 'Y').groupBy(\"Owner\").agg({\"Sales_ID\":\"count\"}).\\\n",
    "sort(psf.col(\"count(Sales_ID)\").desc()).withColumnRenamed(\"count(Sales_ID)\",\"no_of_sales\")\n",
    "owner_df.show()"
   ]
  },
  {
   "cell_type": "markdown",
   "id": "52eded6a",
   "metadata": {},
   "source": [
    "Maximum People are prefering First owner car "
   ]
  },
  {
   "cell_type": "markdown",
   "id": "bd1f4cc9",
   "metadata": {},
   "source": [
    "### Total sold cars according to Fuel Type"
   ]
  },
  {
   "cell_type": "code",
   "execution_count": 34,
   "id": "b8a4bc31",
   "metadata": {},
   "outputs": [
    {
     "name": "stdout",
     "output_type": "stream",
     "text": [
      "+------+-----------+\n",
      "|  Fuel|no_of_sales|\n",
      "+------+-----------+\n",
      "|Diesel|       1052|\n",
      "|Petrol|        935|\n",
      "|   CNG|          7|\n",
      "|   LPG|          6|\n",
      "+------+-----------+\n",
      "\n"
     ]
    }
   ],
   "source": [
    "fuel_df = final_df.filter(final_df['Sold'] == 'Y').groupBy(\"Fuel\").agg({\"Sales_ID\":\"count\"}).\\\n",
    "sort(psf.col(\"count(Sales_ID)\").desc()).withColumnRenamed(\"count(Sales_ID)\",\"no_of_sales\")\n",
    "fuel_df.show()"
   ]
  },
  {
   "cell_type": "markdown",
   "id": "c1a54e94",
   "metadata": {},
   "source": [
    "Diesel type cars is the Highest in number of sold car."
   ]
  },
  {
   "cell_type": "markdown",
   "id": "2054dc3a",
   "metadata": {},
   "source": [
    "### Numbers of Cars sold according to the type of fuel in 5 year intervals starting from 2000"
   ]
  },
  {
   "cell_type": "code",
   "execution_count": 35,
   "id": "9540ab67",
   "metadata": {},
   "outputs": [
    {
     "name": "stdout",
     "output_type": "stream",
     "text": [
      "+------+-------------------------------+\n",
      "|  Fuel|count_of_sold_car(1999 to 2006)|\n",
      "+------+-------------------------------+\n",
      "|Petrol|                             52|\n",
      "|Diesel|                             10|\n",
      "+------+-------------------------------+\n",
      "\n",
      "+------+-------------------------------+\n",
      "|  Fuel|count_of_sold_car(2006 to 2010)|\n",
      "+------+-------------------------------+\n",
      "|Petrol|                            145|\n",
      "|Diesel|                            113|\n",
      "|   LPG|                              3|\n",
      "+------+-------------------------------+\n",
      "\n",
      "+------+-------------------------------+\n",
      "|  Fuel|count_of_sold_car(2011 to 2015)|\n",
      "+------+-------------------------------+\n",
      "|Diesel|                            527|\n",
      "|Petrol|                            301|\n",
      "|   LPG|                              3|\n",
      "|   CNG|                              1|\n",
      "+------+-------------------------------+\n",
      "\n",
      "+------+-------------------------------+\n",
      "|  Fuel|count_of_sold_car(2016 to 2020)|\n",
      "+------+-------------------------------+\n",
      "|Petrol|                            433|\n",
      "|Diesel|                            402|\n",
      "|   CNG|                              6|\n",
      "+------+-------------------------------+\n",
      "\n"
     ]
    }
   ],
   "source": [
    "df7 = final_df.filter((final_df['Sold'] == 'Y') & (final_df['Year']>1999) & (final_df['Year']<2006)).groupBy(\"Fuel\").\\\n",
    "agg({'Sales_ID' : 'count'}).withColumnRenamed(\"count(Sales_ID)\",\"count_of_sold_car(1999 to 2006)\")\n",
    "df7 = df7.sort(psf.col(\"count_of_sold_car(1999 to 2006)\").desc())\n",
    "df7.show()\n",
    "\n",
    "df7 = final_df.filter((final_df['Sold'] == 'Y') & (final_df['Year']>2005) & (final_df['Year']<2011)).groupBy(\"Fuel\").\\\n",
    "agg({'Sales_ID' : 'count'}).withColumnRenamed(\"count(Sales_ID)\",\"count_of_sold_car(2006 to 2010)\")\n",
    "df7 = df7.sort(psf.col(\"count_of_sold_car(2006 to 2010)\").desc())\n",
    "df7.show()\n",
    "\n",
    "df7 = final_df.filter((final_df['Sold'] == 'Y') & (final_df['Year']>2010) & (final_df['Year']<2016)).groupBy(\"Fuel\").\\\n",
    "agg({'Sales_ID' : 'count'}).withColumnRenamed(\"count(Sales_ID)\",\"count_of_sold_car(2011 to 2015)\")\n",
    "df7 = df7.sort(psf.col(\"count_of_sold_car(2011 to 2015)\").desc())\n",
    "df7.show()\n",
    "\n",
    "df7 = final_df.filter((final_df['Sold'] == 'Y') & (final_df['Year']>2015) & (final_df['Year']<2021)).groupBy(\"Fuel\").\\\n",
    "agg({'Sales_ID' : 'count'}).withColumnRenamed(\"count(Sales_ID)\",\"count_of_sold_car(2016 to 2020)\")\n",
    "df7 = df7.sort(psf.col(\"count_of_sold_car(2016 to 2020)\").desc())\n",
    "df7.show()"
   ]
  },
  {
   "cell_type": "markdown",
   "id": "838d9d01",
   "metadata": {},
   "source": [
    "### Variation in the fuel type of the top 5 most selling brands ???"
   ]
  },
  {
   "cell_type": "code",
   "execution_count": 36,
   "id": "8ea6f5ba",
   "metadata": {},
   "outputs": [
    {
     "name": "stdout",
     "output_type": "stream",
     "text": [
      "+------+----------------------+\n",
      "|  Fuel|no_of_sales for Maruti|\n",
      "+------+----------------------+\n",
      "|Petrol|                   384|\n",
      "|Diesel|                   201|\n",
      "|   CNG|                     7|\n",
      "|   LPG|                     5|\n",
      "+------+----------------------+\n",
      "\n",
      "+------+-----------------------+\n",
      "|  Fuel|no_of_sales for Hyundai|\n",
      "+------+-----------------------+\n",
      "|Petrol|                    207|\n",
      "|Diesel|                    124|\n",
      "|   LPG|                      1|\n",
      "+------+-----------------------+\n",
      "\n",
      "+------+---------------------+\n",
      "|  Fuel|no_of_sales for Honda|\n",
      "+------+---------------------+\n",
      "|Petrol|                   94|\n",
      "|Diesel|                   30|\n",
      "+------+---------------------+\n",
      "\n",
      "+------+------------------------+\n",
      "|  Fuel|no_of_sales for Mahindra|\n",
      "+------+------------------------+\n",
      "|Diesel|                     191|\n",
      "|Petrol|                      10|\n",
      "+------+------------------------+\n",
      "\n",
      "+------+--------------------+\n",
      "|  Fuel|no_of_sales for Tata|\n",
      "+------+--------------------+\n",
      "|Diesel|                 141|\n",
      "|Petrol|                  37|\n",
      "+------+--------------------+\n",
      "\n",
      "+------+----------------------+\n",
      "|  Fuel|no_of_sales for Toyota|\n",
      "+------+----------------------+\n",
      "|Diesel|                    88|\n",
      "|Petrol|                    38|\n",
      "+------+----------------------+\n",
      "\n"
     ]
    }
   ],
   "source": [
    "df8 = final_df.filter((final_df[\"Sold\"]==\"Y\") & (final_df[\"brand\"] == 'Maruti')).groupBy(\"Fuel\").\\\n",
    "agg({'Sales_ID' : 'count'}).withColumnRenamed(\"count(Sales_ID)\",\"no_of_sales for Maruti\")\n",
    "df8 = df8.sort(psf.col(\"no_of_sales for Maruti\").desc())\n",
    "df8.show()\n",
    "\n",
    "df8 = final_df.filter((final_df[\"Sold\"]==\"Y\") & (final_df[\"brand\"] == 'Hyundai')).groupBy(\"Fuel\").\\\n",
    "agg({'Sales_ID' : 'count'}).withColumnRenamed(\"count(Sales_ID)\",\"no_of_sales for Hyundai\")\n",
    "df8 = df8.sort(psf.col(\"no_of_sales for Hyundai\").desc())\n",
    "df8.show()\n",
    "\n",
    "df8 = final_df.filter((final_df[\"Sold\"]==\"Y\") & (final_df[\"brand\"] == 'Honda')).groupBy(\"Fuel\").\\\n",
    "agg({'Sales_ID' : 'count'}).withColumnRenamed(\"count(Sales_ID)\",\"no_of_sales for Honda\")\n",
    "df8 = df8.sort(psf.col(\"no_of_sales for Honda\").desc())\n",
    "df8.show()\n",
    "\n",
    "df8 = final_df.filter((final_df[\"Sold\"]==\"Y\") & (final_df[\"brand\"] == 'Mahindra')).groupBy(\"Fuel\").\\\n",
    "agg({'Sales_ID' : 'count'}).withColumnRenamed(\"count(Sales_ID)\",\"no_of_sales for Mahindra\")\n",
    "df8 = df8.sort(psf.col(\"no_of_sales for Mahindra\").desc())\n",
    "df8.show()\n",
    "\n",
    "df8 = final_df.filter((final_df[\"Sold\"]==\"Y\") & (final_df[\"brand\"] == 'Tata')).groupBy(\"Fuel\").\\\n",
    "agg({'Sales_ID' : 'count'}).withColumnRenamed(\"count(Sales_ID)\",\"no_of_sales for Tata\")\n",
    "df8 = df8.sort(psf.col(\"no_of_sales for Tata\").desc())\n",
    "df8.show()\n",
    "\n",
    "df8 = final_df.filter((final_df[\"Sold\"]==\"Y\") & (final_df[\"brand\"] == 'Toyota')).groupBy(\"Fuel\").\\\n",
    "agg({'Sales_ID' : 'count'}).withColumnRenamed(\"count(Sales_ID)\",\"no_of_sales for Toyota\")\n",
    "df8 = df8.sort(psf.col(\"no_of_sales for Toyota\").desc())\n",
    "df8.show()"
   ]
  },
  {
   "cell_type": "code",
   "execution_count": null,
   "id": "d0ac862f",
   "metadata": {},
   "outputs": [],
   "source": []
  }
 ],
 "metadata": {
  "kernelspec": {
   "display_name": "Python 3 (ipykernel)",
   "language": "python",
   "name": "python3"
  },
  "language_info": {
   "codemirror_mode": {
    "name": "ipython",
    "version": 3
   },
   "file_extension": ".py",
   "mimetype": "text/x-python",
   "name": "python",
   "nbconvert_exporter": "python",
   "pygments_lexer": "ipython3",
   "version": "3.9.12"
  }
 },
 "nbformat": 4,
 "nbformat_minor": 5
}
