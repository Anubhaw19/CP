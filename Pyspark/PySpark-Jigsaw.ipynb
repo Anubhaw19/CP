{
 "cells": [
  {
   "cell_type": "code",
   "execution_count": 2,
   "id": "dd6563eb",
   "metadata": {},
   "outputs": [
    {
     "name": "stdout",
     "output_type": "stream",
     "text": [
      "Defaulting to user installation because normal site-packages is not writeable\n",
      "Collecting findspark\n",
      "  Downloading findspark-2.0.1-py2.py3-none-any.whl (4.4 kB)\n",
      "Installing collected packages: findspark\n",
      "Successfully installed findspark-2.0.1\n"
     ]
    }
   ],
   "source": [
    "!pip install findspark"
   ]
  },
  {
   "cell_type": "code",
   "execution_count": 1,
   "id": "463e821d",
   "metadata": {},
   "outputs": [],
   "source": [
    "import findspark\n",
    "findspark.init()"
   ]
  },
  {
   "cell_type": "code",
   "execution_count": 45,
   "id": "a1b64c4d",
   "metadata": {},
   "outputs": [],
   "source": [
    "import pyspark\n",
    "sc=pyspark.SparkContext(appName='myApp')"
   ]
  },
  {
   "cell_type": "code",
   "execution_count": 46,
   "id": "3e4dd322",
   "metadata": {},
   "outputs": [
    {
     "data": {
      "text/plain": [
       "pyspark.rdd.RDD"
      ]
     },
     "execution_count": 46,
     "metadata": {},
     "output_type": "execute_result"
    }
   ],
   "source": [
    "lines=sc.textFile('sample.txt',2)\n",
    "type(lines)"
   ]
  },
  {
   "cell_type": "code",
   "execution_count": 4,
   "id": "a2a2e97a",
   "metadata": {},
   "outputs": [
    {
     "data": {
      "text/plain": [
       "3"
      ]
     },
     "execution_count": 4,
     "metadata": {},
     "output_type": "execute_result"
    }
   ],
   "source": [
    "lines.count()"
   ]
  },
  {
   "cell_type": "code",
   "execution_count": 5,
   "id": "e7807cc3",
   "metadata": {},
   "outputs": [
    {
     "data": {
      "text/plain": [
       "['Lorem Ipsum is simply dummy text of the printing and typesetting industry. Lorem Ipsum has ',\n",
       " \"been the industry's standard dummy text ever since the 1500s, when an unknown printer took a galley of type and scrambled it to make a type specimen book. It has survived not only five \",\n",
       " 'centuries, but also the leap into electronic typesetting, remaining essentially unchanged. It was popularised in the 1960s with the release of Letraset sheets containing Lorem Ipsum passages, and more recently with desktop publishing software like Aldus PageMaker including versions of Lorem Ipsum.']"
      ]
     },
     "execution_count": 5,
     "metadata": {},
     "output_type": "execute_result"
    }
   ],
   "source": [
    "lines.take(5)"
   ]
  },
  {
   "cell_type": "code",
   "execution_count": 6,
   "id": "664315e1",
   "metadata": {},
   "outputs": [
    {
     "data": {
      "text/plain": [
       "2"
      ]
     },
     "execution_count": 6,
     "metadata": {},
     "output_type": "execute_result"
    }
   ],
   "source": [
    "lines.getNumPartitions() "
   ]
  },
  {
   "cell_type": "code",
   "execution_count": 8,
   "id": "023869b5",
   "metadata": {},
   "outputs": [],
   "source": [
    "# def count_in_a_partition(iterator):\n",
    "#     yield sum(l for  _ in iterator)\n",
    "# lines.mapPartitions(count_in_a_partition).collect()\n"
   ]
  },
  {
   "cell_type": "code",
   "execution_count": 47,
   "id": "0867a0dd",
   "metadata": {},
   "outputs": [],
   "source": [
    "nonNullLines=lines.filter(lambda line:len(line)>0)"
   ]
  },
  {
   "cell_type": "code",
   "execution_count": 48,
   "id": "23bb1154",
   "metadata": {},
   "outputs": [
    {
     "data": {
      "text/plain": [
       "3"
      ]
     },
     "execution_count": 48,
     "metadata": {},
     "output_type": "execute_result"
    }
   ],
   "source": [
    "nonNullLines.count()"
   ]
  },
  {
   "cell_type": "code",
   "execution_count": 49,
   "id": "93eff559",
   "metadata": {},
   "outputs": [
    {
     "data": {
      "text/plain": [
       "['Lorem Ipsum is simply dummy text of the printing and typesetting industry. Lorem Ipsum has ',\n",
       " \"been the industry's standard dummy text ever since the 1500s, when an unknown printer took a galley of type and scrambled it to make a type specimen book. It has survived not only five \",\n",
       " 'centuries, but also the leap into electronic typesetting, remaining essentially unchanged. It was popularised in the 1960s with the release of Letraset sheets containing Lorem Ipsum passages, and more recently with desktop publishing software like Aldus PageMaker including versions of Lorem Ipsum.']"
      ]
     },
     "execution_count": 49,
     "metadata": {},
     "output_type": "execute_result"
    }
   ],
   "source": [
    "nonNullLines.take(5)"
   ]
  },
  {
   "cell_type": "code",
   "execution_count": 50,
   "id": "4a30229a",
   "metadata": {},
   "outputs": [],
   "source": [
    "words=nonNullLines.flatMap(lambda line:line.split())"
   ]
  },
  {
   "cell_type": "code",
   "execution_count": 51,
   "id": "74b27609",
   "metadata": {},
   "outputs": [
    {
     "data": {
      "text/plain": [
       "91"
      ]
     },
     "execution_count": 51,
     "metadata": {},
     "output_type": "execute_result"
    }
   ],
   "source": [
    "words.count()"
   ]
  },
  {
   "cell_type": "code",
   "execution_count": 52,
   "id": "2472cc9c",
   "metadata": {},
   "outputs": [
    {
     "data": {
      "text/plain": [
       "['Lorem', 'Ipsum', 'is', 'simply', 'dummy']"
      ]
     },
     "execution_count": 52,
     "metadata": {},
     "output_type": "execute_result"
    }
   ],
   "source": [
    "words.take(5)"
   ]
  },
  {
   "cell_type": "code",
   "execution_count": 53,
   "id": "41eb900c",
   "metadata": {},
   "outputs": [],
   "source": [
    "upperWords=words.map(lambda word:word.upper())"
   ]
  },
  {
   "cell_type": "code",
   "execution_count": 54,
   "id": "66ca7a69",
   "metadata": {},
   "outputs": [
    {
     "data": {
      "text/plain": [
       "91"
      ]
     },
     "execution_count": 54,
     "metadata": {},
     "output_type": "execute_result"
    }
   ],
   "source": [
    "upperWords.count()"
   ]
  },
  {
   "cell_type": "code",
   "execution_count": 55,
   "id": "a5d6c234",
   "metadata": {},
   "outputs": [
    {
     "data": {
      "text/plain": [
       "['LOREM', 'IPSUM', 'IS', 'SIMPLY', 'DUMMY']"
      ]
     },
     "execution_count": 55,
     "metadata": {},
     "output_type": "execute_result"
    }
   ],
   "source": [
    "upperWords.take(5)"
   ]
  },
  {
   "cell_type": "code",
   "execution_count": 56,
   "id": "9872e4cb",
   "metadata": {},
   "outputs": [],
   "source": [
    "pairedOnes=upperWords.map(lambda uw:(uw,1))"
   ]
  },
  {
   "cell_type": "code",
   "execution_count": 57,
   "id": "a867c9b3",
   "metadata": {},
   "outputs": [
    {
     "data": {
      "text/plain": [
       "91"
      ]
     },
     "execution_count": 57,
     "metadata": {},
     "output_type": "execute_result"
    }
   ],
   "source": [
    "pairedOnes.count()"
   ]
  },
  {
   "cell_type": "code",
   "execution_count": 58,
   "id": "b0d174cd",
   "metadata": {},
   "outputs": [
    {
     "data": {
      "text/plain": [
       "[('LOREM', 1), ('IPSUM', 1), ('IS', 1), ('SIMPLY', 1), ('DUMMY', 1)]"
      ]
     },
     "execution_count": 58,
     "metadata": {},
     "output_type": "execute_result"
    }
   ],
   "source": [
    "pairedOnes.take(5)"
   ]
  },
  {
   "cell_type": "code",
   "execution_count": 59,
   "id": "ddeb99cc",
   "metadata": {},
   "outputs": [],
   "source": [
    "wordCounts=pairedOnes.reduceByKey(lambda prev,next:prev+next)"
   ]
  },
  {
   "cell_type": "code",
   "execution_count": 60,
   "id": "07319182",
   "metadata": {},
   "outputs": [
    {
     "data": {
      "text/plain": [
       "68"
      ]
     },
     "execution_count": 60,
     "metadata": {},
     "output_type": "execute_result"
    }
   ],
   "source": [
    "wordCounts.count()"
   ]
  },
  {
   "cell_type": "code",
   "execution_count": 61,
   "id": "82c7ffdc",
   "metadata": {},
   "outputs": [
    {
     "data": {
      "text/plain": [
       "[('IS', 1), ('SIMPLY', 1), ('TEXT', 2), ('OF', 4), ('PRINTING', 1)]"
      ]
     },
     "execution_count": 61,
     "metadata": {},
     "output_type": "execute_result"
    }
   ],
   "source": [
    "wordCounts.take(5)"
   ]
  },
  {
   "cell_type": "code",
   "execution_count": 62,
   "id": "877af08f",
   "metadata": {},
   "outputs": [
    {
     "name": "stdout",
     "output_type": "stream",
     "text": [
      "***** ('IS', 1)\n",
      "***** ('SIMPLY', 1)\n",
      "***** ('TEXT', 2)\n",
      "***** ('OF', 4)\n",
      "***** ('PRINTING', 1)\n"
     ]
    }
   ],
   "source": [
    "for word in wordCounts.take(5):\n",
    "    print(\"*****\",word)"
   ]
  },
  {
   "cell_type": "markdown",
   "id": "6bdaf347",
   "metadata": {},
   "source": [
    "## NEW CODE:"
   ]
  },
  {
   "cell_type": "code",
   "execution_count": 43,
   "id": "b5afaeec",
   "metadata": {},
   "outputs": [],
   "source": [
    "sc.stop()"
   ]
  },
  {
   "cell_type": "code",
   "execution_count": 33,
   "id": "95c35119",
   "metadata": {},
   "outputs": [],
   "source": [
    "sc=pyspark.SparkContext(appName='myApp')"
   ]
  },
  {
   "cell_type": "code",
   "execution_count": 35,
   "id": "50c9dfcd",
   "metadata": {},
   "outputs": [],
   "source": [
    "data=[1,2,3,4,5]"
   ]
  },
  {
   "cell_type": "code",
   "execution_count": 36,
   "id": "cf68a964",
   "metadata": {},
   "outputs": [
    {
     "data": {
      "text/plain": [
       "list"
      ]
     },
     "execution_count": 36,
     "metadata": {},
     "output_type": "execute_result"
    }
   ],
   "source": [
    "type(data)"
   ]
  },
  {
   "cell_type": "code",
   "execution_count": 38,
   "id": "f66b400c",
   "metadata": {},
   "outputs": [],
   "source": [
    "disData=sc.parallelize(data,2)"
   ]
  },
  {
   "cell_type": "code",
   "execution_count": 39,
   "id": "dc3fb103",
   "metadata": {},
   "outputs": [
    {
     "data": {
      "text/plain": [
       "pyspark.rdd.RDD"
      ]
     },
     "execution_count": 39,
     "metadata": {},
     "output_type": "execute_result"
    }
   ],
   "source": [
    "type(disData)"
   ]
  },
  {
   "cell_type": "code",
   "execution_count": 40,
   "id": "d397573c",
   "metadata": {},
   "outputs": [
    {
     "data": {
      "text/plain": [
       "2"
      ]
     },
     "execution_count": 40,
     "metadata": {},
     "output_type": "execute_result"
    }
   ],
   "source": [
    "disData.getNumPartitions()"
   ]
  },
  {
   "cell_type": "code",
   "execution_count": 42,
   "id": "1cce5731",
   "metadata": {},
   "outputs": [
    {
     "data": {
      "text/plain": [
       "5"
      ]
     },
     "execution_count": 42,
     "metadata": {},
     "output_type": "execute_result"
    }
   ],
   "source": [
    "disData.count()"
   ]
  },
  {
   "cell_type": "code",
   "execution_count": null,
   "id": "7ce89697",
   "metadata": {},
   "outputs": [],
   "source": []
  },
  {
   "cell_type": "markdown",
   "id": "6e8c2bcf",
   "metadata": {},
   "source": [
    "## Accumulator :"
   ]
  },
  {
   "cell_type": "code",
   "execution_count": 1,
   "id": "9c5e15b2",
   "metadata": {},
   "outputs": [],
   "source": [
    "import findspark\n",
    "findspark.init()"
   ]
  },
  {
   "cell_type": "code",
   "execution_count": 29,
   "id": "454ea695",
   "metadata": {},
   "outputs": [],
   "source": [
    "import pyspark\n",
    "sc=pyspark.SparkContext(appName='accumulatorExample')"
   ]
  },
  {
   "cell_type": "code",
   "execution_count": 30,
   "id": "cac20db3",
   "metadata": {},
   "outputs": [],
   "source": [
    "file=sc.textFile('sample.txt',4)"
   ]
  },
  {
   "cell_type": "code",
   "execution_count": 31,
   "id": "2a4ae136",
   "metadata": {},
   "outputs": [],
   "source": [
    "# Create an Accumulator[int] initialized to 0\n",
    "blankLines=sc.accumulator(0) "
   ]
  },
  {
   "cell_type": "code",
   "execution_count": 32,
   "id": "34ac2370",
   "metadata": {},
   "outputs": [],
   "source": [
    "def extractTextLines(line):\n",
    "    global blankLines #make the global variable accessible\n",
    "    if(line==\"\"):\n",
    "        blankLines += 1\n",
    "    return line.split(\" \")"
   ]
  },
  {
   "cell_type": "code",
   "execution_count": 33,
   "id": "67c1f506",
   "metadata": {},
   "outputs": [],
   "source": [
    "textLines=file.flatMap(extractTextLines)"
   ]
  },
  {
   "cell_type": "code",
   "execution_count": 34,
   "id": "4b2347b8",
   "metadata": {
    "scrolled": false
   },
   "outputs": [],
   "source": [
    "# textLines.saveAsTextFile(\"textLinesoutput\")"
   ]
  },
  {
   "cell_type": "code",
   "execution_count": 35,
   "id": "dd64a38b",
   "metadata": {},
   "outputs": [
    {
     "data": {
      "text/plain": [
       "98"
      ]
     },
     "execution_count": 35,
     "metadata": {},
     "output_type": "execute_result"
    }
   ],
   "source": [
    "textLines.count()"
   ]
  },
  {
   "cell_type": "code",
   "execution_count": 36,
   "id": "e927ff99",
   "metadata": {},
   "outputs": [
    {
     "name": "stdout",
     "output_type": "stream",
     "text": [
      "Blank Lines  5\n"
     ]
    }
   ],
   "source": [
    "print(\"Blank Lines  %d\" %(blankLines.value))"
   ]
  },
  {
   "cell_type": "code",
   "execution_count": 28,
   "id": "4fdb4cfc",
   "metadata": {},
   "outputs": [],
   "source": [
    "sc.stop()"
   ]
  },
  {
   "cell_type": "code",
   "execution_count": null,
   "id": "402d6fc9",
   "metadata": {},
   "outputs": [],
   "source": []
  },
  {
   "cell_type": "code",
   "execution_count": null,
   "id": "a2cd1f34",
   "metadata": {},
   "outputs": [],
   "source": []
  },
  {
   "cell_type": "code",
   "execution_count": null,
   "id": "e0d2c889",
   "metadata": {},
   "outputs": [],
   "source": []
  },
  {
   "cell_type": "code",
   "execution_count": null,
   "id": "fa3dcc49",
   "metadata": {},
   "outputs": [],
   "source": []
  },
  {
   "cell_type": "code",
   "execution_count": null,
   "id": "8f6fcd9f",
   "metadata": {},
   "outputs": [],
   "source": []
  },
  {
   "cell_type": "code",
   "execution_count": null,
   "id": "386f93d4",
   "metadata": {},
   "outputs": [],
   "source": []
  },
  {
   "cell_type": "code",
   "execution_count": 41,
   "id": "37c762a9",
   "metadata": {},
   "outputs": [],
   "source": [
    "# import pyspark\n",
    "# sc = pyspark.SparkContext(appName='myApp')\n",
    "\n",
    "# # The above two lines are required to set the SparkContext\n",
    "\n",
    "# lines = sc.textFile(\"sample.txt\",2)\n",
    "# nonNullLines = lines.filter(lambda line: len(line)>0) \n",
    "# words = nonNullLines.flatMap(lambda line: line.split())\n",
    "# upperWords = words.map(lambda word: word.upper())\n",
    "# pairedOnes = upperWords.map(lambda uw: (uw, 1))\n",
    "# wordCounts = pairedOnes.reduceByKey(lambda prev, next: prev + next)\n",
    "\n",
    "# for word in wordCounts.take(15):\n",
    "#     print(\"*****\", word)\n",
    "\n",
    "# sc.stop()\n",
    "\n"
   ]
  },
  {
   "cell_type": "code",
   "execution_count": 25,
   "id": "48e2466f",
   "metadata": {},
   "outputs": [
    {
     "data": {
      "text/plain": [
       "'C:\\\\Users\\\\anubhaw.sharma\\\\AppData\\\\Roaming\\\\Python\\\\Python39\\\\site-packages\\\\pyspark'"
      ]
     },
     "execution_count": 25,
     "metadata": {},
     "output_type": "execute_result"
    }
   ],
   "source": [
    "findspark.find()"
   ]
  },
  {
   "cell_type": "code",
   "execution_count": null,
   "id": "f0d38237",
   "metadata": {},
   "outputs": [],
   "source": []
  },
  {
   "cell_type": "code",
   "execution_count": null,
   "id": "b04d20ca",
   "metadata": {},
   "outputs": [],
   "source": []
  }
 ],
 "metadata": {
  "kernelspec": {
   "display_name": "Python 3 (ipykernel)",
   "language": "python",
   "name": "python3"
  },
  "language_info": {
   "codemirror_mode": {
    "name": "ipython",
    "version": 3
   },
   "file_extension": ".py",
   "mimetype": "text/x-python",
   "name": "python",
   "nbconvert_exporter": "python",
   "pygments_lexer": "ipython3",
   "version": "3.9.12"
  }
 },
 "nbformat": 4,
 "nbformat_minor": 5
}
