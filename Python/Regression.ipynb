{
 "cells": [
  {
   "cell_type": "code",
   "execution_count": 2,
   "id": "4cddf29a",
   "metadata": {},
   "outputs": [],
   "source": [
    "import pandas as pd\n",
    "import numpy as np\n",
    "from sklearn import linear_model"
   ]
  },
  {
   "cell_type": "code",
   "execution_count": 3,
   "id": "8ea2a165",
   "metadata": {},
   "outputs": [],
   "source": [
    "df=pd.read_csv('Car_Sales_transactions.CSV')"
   ]
  },
  {
   "cell_type": "code",
   "execution_count": 20,
   "id": "c430804d",
   "metadata": {},
   "outputs": [
    {
     "data": {
      "text/html": [
       "<div>\n",
       "<style scoped>\n",
       "    .dataframe tbody tr th:only-of-type {\n",
       "        vertical-align: middle;\n",
       "    }\n",
       "\n",
       "    .dataframe tbody tr th {\n",
       "        vertical-align: top;\n",
       "    }\n",
       "\n",
       "    .dataframe thead th {\n",
       "        text-align: right;\n",
       "    }\n",
       "</style>\n",
       "<table border=\"1\" class=\"dataframe\">\n",
       "  <thead>\n",
       "    <tr style=\"text-align: right;\">\n",
       "      <th></th>\n",
       "      <th>Sales_ID</th>\n",
       "      <th>Name</th>\n",
       "      <th>Year</th>\n",
       "      <th>Selling_Price</th>\n",
       "      <th>km_Driven</th>\n",
       "      <th>City_Code</th>\n",
       "      <th>State_Code</th>\n",
       "      <th>Postal_Code</th>\n",
       "      <th>Fuel</th>\n",
       "      <th>Seller_Type</th>\n",
       "      <th>Transmission</th>\n",
       "      <th>Owner</th>\n",
       "      <th>Mileage</th>\n",
       "      <th>Engine</th>\n",
       "      <th>Max_Power</th>\n",
       "      <th>Seats</th>\n",
       "    </tr>\n",
       "  </thead>\n",
       "  <tbody>\n",
       "    <tr>\n",
       "      <th>0</th>\n",
       "      <td>1</td>\n",
       "      <td>Maruti Swift Dzire VDI</td>\n",
       "      <td>2014</td>\n",
       "      <td>450000</td>\n",
       "      <td>145500</td>\n",
       "      <td>CT01</td>\n",
       "      <td>ST15</td>\n",
       "      <td>400001</td>\n",
       "      <td>Diesel</td>\n",
       "      <td>Individual</td>\n",
       "      <td>Manual</td>\n",
       "      <td>First Owner</td>\n",
       "      <td>23.4 kmpl</td>\n",
       "      <td>1248 CC</td>\n",
       "      <td>74 bhp</td>\n",
       "      <td>5</td>\n",
       "    </tr>\n",
       "    <tr>\n",
       "      <th>1</th>\n",
       "      <td>2</td>\n",
       "      <td>Skoda Rapid 1.5 TDI Ambition</td>\n",
       "      <td>2014</td>\n",
       "      <td>370000</td>\n",
       "      <td>120000</td>\n",
       "      <td>CT28</td>\n",
       "      <td>ST11</td>\n",
       "      <td>834001</td>\n",
       "      <td>Diesel</td>\n",
       "      <td>Individual</td>\n",
       "      <td>Manual</td>\n",
       "      <td>Second Owner</td>\n",
       "      <td>21.14 kmpl</td>\n",
       "      <td>1498 CC</td>\n",
       "      <td>103.52 bhp</td>\n",
       "      <td>5</td>\n",
       "    </tr>\n",
       "    <tr>\n",
       "      <th>2</th>\n",
       "      <td>3</td>\n",
       "      <td>Honda City 2017-2020 EXi</td>\n",
       "      <td>2006</td>\n",
       "      <td>158000</td>\n",
       "      <td>140000</td>\n",
       "      <td>CT12</td>\n",
       "      <td>ST28</td>\n",
       "      <td>201301</td>\n",
       "      <td>Petrol</td>\n",
       "      <td>Individual</td>\n",
       "      <td>Manual</td>\n",
       "      <td>Third Owner</td>\n",
       "      <td>17.7 kmpl</td>\n",
       "      <td>1497 CC</td>\n",
       "      <td>78 bhp</td>\n",
       "      <td>5</td>\n",
       "    </tr>\n",
       "    <tr>\n",
       "      <th>3</th>\n",
       "      <td>4</td>\n",
       "      <td>Hyundai i20 Sportz Diesel</td>\n",
       "      <td>2010</td>\n",
       "      <td>225000</td>\n",
       "      <td>127000</td>\n",
       "      <td>CT21</td>\n",
       "      <td>ST27</td>\n",
       "      <td>248001</td>\n",
       "      <td>Diesel</td>\n",
       "      <td>Individual</td>\n",
       "      <td>Manual</td>\n",
       "      <td>First Owner</td>\n",
       "      <td>23.0 kmpl</td>\n",
       "      <td>1396 CC</td>\n",
       "      <td>90 bhp</td>\n",
       "      <td>5</td>\n",
       "    </tr>\n",
       "    <tr>\n",
       "      <th>4</th>\n",
       "      <td>5</td>\n",
       "      <td>Maruti Swift VXI BSIII</td>\n",
       "      <td>2007</td>\n",
       "      <td>130000</td>\n",
       "      <td>120000</td>\n",
       "      <td>CT03</td>\n",
       "      <td>ST24</td>\n",
       "      <td>600020</td>\n",
       "      <td>Petrol</td>\n",
       "      <td>Individual</td>\n",
       "      <td>Manual</td>\n",
       "      <td>First Owner</td>\n",
       "      <td>16.1 kmpl</td>\n",
       "      <td>1298 CC</td>\n",
       "      <td>88.2 bhp</td>\n",
       "      <td>5</td>\n",
       "    </tr>\n",
       "    <tr>\n",
       "      <th>...</th>\n",
       "      <td>...</td>\n",
       "      <td>...</td>\n",
       "      <td>...</td>\n",
       "      <td>...</td>\n",
       "      <td>...</td>\n",
       "      <td>...</td>\n",
       "      <td>...</td>\n",
       "      <td>...</td>\n",
       "      <td>...</td>\n",
       "      <td>...</td>\n",
       "      <td>...</td>\n",
       "      <td>...</td>\n",
       "      <td>...</td>\n",
       "      <td>...</td>\n",
       "      <td>...</td>\n",
       "      <td>...</td>\n",
       "    </tr>\n",
       "    <tr>\n",
       "      <th>7901</th>\n",
       "      <td>8124</td>\n",
       "      <td>Hyundai i20 Magna</td>\n",
       "      <td>2013</td>\n",
       "      <td>320000</td>\n",
       "      <td>110000</td>\n",
       "      <td>CT22</td>\n",
       "      <td>ST14</td>\n",
       "      <td>452010</td>\n",
       "      <td>Petrol</td>\n",
       "      <td>Individual</td>\n",
       "      <td>Manual</td>\n",
       "      <td>First Owner</td>\n",
       "      <td>18.5 kmpl</td>\n",
       "      <td>1197 CC</td>\n",
       "      <td>82.85 bhp</td>\n",
       "      <td>5</td>\n",
       "    </tr>\n",
       "    <tr>\n",
       "      <th>7902</th>\n",
       "      <td>8125</td>\n",
       "      <td>Hyundai Verna CRDi SX</td>\n",
       "      <td>2007</td>\n",
       "      <td>135000</td>\n",
       "      <td>119000</td>\n",
       "      <td>CT21</td>\n",
       "      <td>ST27</td>\n",
       "      <td>248001</td>\n",
       "      <td>Diesel</td>\n",
       "      <td>Individual</td>\n",
       "      <td>Manual</td>\n",
       "      <td>Fourth &amp; Above Owner</td>\n",
       "      <td>16.8 kmpl</td>\n",
       "      <td>1493 CC</td>\n",
       "      <td>110 bhp</td>\n",
       "      <td>5</td>\n",
       "    </tr>\n",
       "    <tr>\n",
       "      <th>7903</th>\n",
       "      <td>8126</td>\n",
       "      <td>Maruti Swift Dzire ZDi</td>\n",
       "      <td>2009</td>\n",
       "      <td>382000</td>\n",
       "      <td>120000</td>\n",
       "      <td>CT08</td>\n",
       "      <td>ST29</td>\n",
       "      <td>700005</td>\n",
       "      <td>Diesel</td>\n",
       "      <td>Individual</td>\n",
       "      <td>Manual</td>\n",
       "      <td>First Owner</td>\n",
       "      <td>19.3 kmpl</td>\n",
       "      <td>1248 CC</td>\n",
       "      <td>73.9 bhp</td>\n",
       "      <td>5</td>\n",
       "    </tr>\n",
       "    <tr>\n",
       "      <th>7904</th>\n",
       "      <td>8127</td>\n",
       "      <td>Tata Indigo CR4</td>\n",
       "      <td>2013</td>\n",
       "      <td>290000</td>\n",
       "      <td>25000</td>\n",
       "      <td>CT29</td>\n",
       "      <td>ST24</td>\n",
       "      <td>632001</td>\n",
       "      <td>Diesel</td>\n",
       "      <td>Individual</td>\n",
       "      <td>Manual</td>\n",
       "      <td>First Owner</td>\n",
       "      <td>23.57 kmpl</td>\n",
       "      <td>1396 CC</td>\n",
       "      <td>70 bhp</td>\n",
       "      <td>5</td>\n",
       "    </tr>\n",
       "    <tr>\n",
       "      <th>7905</th>\n",
       "      <td>8128</td>\n",
       "      <td>Tata Indigo CR4</td>\n",
       "      <td>2013</td>\n",
       "      <td>290000</td>\n",
       "      <td>25000</td>\n",
       "      <td>CT21</td>\n",
       "      <td>ST27</td>\n",
       "      <td>248001</td>\n",
       "      <td>Diesel</td>\n",
       "      <td>Individual</td>\n",
       "      <td>Manual</td>\n",
       "      <td>First Owner</td>\n",
       "      <td>23.57 kmpl</td>\n",
       "      <td>1396 CC</td>\n",
       "      <td>70 bhp</td>\n",
       "      <td>5</td>\n",
       "    </tr>\n",
       "  </tbody>\n",
       "</table>\n",
       "<p>7906 rows × 16 columns</p>\n",
       "</div>"
      ],
      "text/plain": [
       "      Sales_ID                          Name  Year  Selling_Price  km_Driven  \\\n",
       "0            1        Maruti Swift Dzire VDI  2014         450000     145500   \n",
       "1            2  Skoda Rapid 1.5 TDI Ambition  2014         370000     120000   \n",
       "2            3      Honda City 2017-2020 EXi  2006         158000     140000   \n",
       "3            4     Hyundai i20 Sportz Diesel  2010         225000     127000   \n",
       "4            5        Maruti Swift VXI BSIII  2007         130000     120000   \n",
       "...        ...                           ...   ...            ...        ...   \n",
       "7901      8124             Hyundai i20 Magna  2013         320000     110000   \n",
       "7902      8125         Hyundai Verna CRDi SX  2007         135000     119000   \n",
       "7903      8126        Maruti Swift Dzire ZDi  2009         382000     120000   \n",
       "7904      8127               Tata Indigo CR4  2013         290000      25000   \n",
       "7905      8128               Tata Indigo CR4  2013         290000      25000   \n",
       "\n",
       "     City_Code State_Code  Postal_Code    Fuel Seller_Type Transmission  \\\n",
       "0         CT01       ST15       400001  Diesel  Individual       Manual   \n",
       "1         CT28       ST11       834001  Diesel  Individual       Manual   \n",
       "2         CT12       ST28       201301  Petrol  Individual       Manual   \n",
       "3         CT21       ST27       248001  Diesel  Individual       Manual   \n",
       "4         CT03       ST24       600020  Petrol  Individual       Manual   \n",
       "...        ...        ...          ...     ...         ...          ...   \n",
       "7901      CT22       ST14       452010  Petrol  Individual       Manual   \n",
       "7902      CT21       ST27       248001  Diesel  Individual       Manual   \n",
       "7903      CT08       ST29       700005  Diesel  Individual       Manual   \n",
       "7904      CT29       ST24       632001  Diesel  Individual       Manual   \n",
       "7905      CT21       ST27       248001  Diesel  Individual       Manual   \n",
       "\n",
       "                     Owner     Mileage   Engine   Max_Power  Seats  \n",
       "0              First Owner   23.4 kmpl  1248 CC      74 bhp      5  \n",
       "1             Second Owner  21.14 kmpl  1498 CC  103.52 bhp      5  \n",
       "2              Third Owner   17.7 kmpl  1497 CC      78 bhp      5  \n",
       "3              First Owner   23.0 kmpl  1396 CC      90 bhp      5  \n",
       "4              First Owner   16.1 kmpl  1298 CC    88.2 bhp      5  \n",
       "...                    ...         ...      ...         ...    ...  \n",
       "7901           First Owner   18.5 kmpl  1197 CC   82.85 bhp      5  \n",
       "7902  Fourth & Above Owner   16.8 kmpl  1493 CC     110 bhp      5  \n",
       "7903           First Owner   19.3 kmpl  1248 CC    73.9 bhp      5  \n",
       "7904           First Owner  23.57 kmpl  1396 CC      70 bhp      5  \n",
       "7905           First Owner  23.57 kmpl  1396 CC      70 bhp      5  \n",
       "\n",
       "[7906 rows x 16 columns]"
      ]
     },
     "execution_count": 20,
     "metadata": {},
     "output_type": "execute_result"
    }
   ],
   "source": [
    "df"
   ]
  },
  {
   "cell_type": "code",
   "execution_count": 6,
   "id": "4c8cb613",
   "metadata": {},
   "outputs": [
    {
     "name": "stdout",
     "output_type": "stream",
     "text": [
      "<class 'pandas.core.frame.DataFrame'>\n",
      "RangeIndex: 7906 entries, 0 to 7905\n",
      "Data columns (total 16 columns):\n",
      " #   Column         Non-Null Count  Dtype \n",
      "---  ------         --------------  ----- \n",
      " 0   Sales_ID       7906 non-null   int64 \n",
      " 1   Name           7906 non-null   object\n",
      " 2   Year           7906 non-null   int64 \n",
      " 3   Selling_Price  7906 non-null   int64 \n",
      " 4   km_Driven      7906 non-null   int64 \n",
      " 5   City_Code      7906 non-null   object\n",
      " 6   State_Code     7906 non-null   object\n",
      " 7   Postal_Code    7906 non-null   int64 \n",
      " 8   Fuel           7906 non-null   object\n",
      " 9   Seller_Type    7906 non-null   object\n",
      " 10  Transmission   7906 non-null   object\n",
      " 11  Owner          7906 non-null   object\n",
      " 12  Mileage        7906 non-null   object\n",
      " 13  Engine         7906 non-null   object\n",
      " 14  Max_Power      7906 non-null   object\n",
      " 15  Seats          7906 non-null   int64 \n",
      "dtypes: int64(6), object(10)\n",
      "memory usage: 988.4+ KB\n"
     ]
    }
   ],
   "source": [
    "df.info()"
   ]
  },
  {
   "cell_type": "code",
   "execution_count": 16,
   "id": "86381e37",
   "metadata": {},
   "outputs": [],
   "source": [
    "# for insertinf g missing values if any by mean,median etc\n",
    "# df.Mileage=df.Mileage.fillna(df.Mileage.median())\n",
    "\n"
   ]
  },
  {
   "cell_type": "markdown",
   "id": "f30a9464",
   "metadata": {},
   "source": [
    "## DATA CLEANING:"
   ]
  },
  {
   "cell_type": "code",
   "execution_count": 33,
   "id": "bef78be7",
   "metadata": {},
   "outputs": [],
   "source": [
    "# reg=linear_model.LinearRegression()\n",
    "# reg.fit(df[['Year','km_Driven','Mileage','Max_Power','Seats']],df.Selling_Price)"
   ]
  },
  {
   "cell_type": "code",
   "execution_count": 32,
   "id": "d35f1c3c",
   "metadata": {},
   "outputs": [
    {
     "name": "stdout",
     "output_type": "stream",
     "text": [
      "236\n"
     ]
    }
   ],
   "source": [
    "# s='235 km'\n",
    "# print(int(s.split(' ')[0])+1)\n"
   ]
  },
  {
   "cell_type": "code",
   "execution_count": 68,
   "id": "e529c486",
   "metadata": {},
   "outputs": [],
   "source": [
    "# convert every columns to numeric data\n",
    "df2=df\n"
   ]
  },
  {
   "cell_type": "code",
   "execution_count": 69,
   "id": "53bfa310",
   "metadata": {},
   "outputs": [
    {
     "name": "stdout",
     "output_type": "stream",
     "text": [
      "<class 'pandas.core.frame.DataFrame'>\n",
      "RangeIndex: 7906 entries, 0 to 7905\n",
      "Data columns (total 16 columns):\n",
      " #   Column         Non-Null Count  Dtype  \n",
      "---  ------         --------------  -----  \n",
      " 0   Sales_ID       7906 non-null   int64  \n",
      " 1   Name           7906 non-null   object \n",
      " 2   Year           7906 non-null   int64  \n",
      " 3   Selling_Price  7906 non-null   int64  \n",
      " 4   km_Driven      7906 non-null   int64  \n",
      " 5   City_Code      7906 non-null   object \n",
      " 6   State_Code     7906 non-null   object \n",
      " 7   Postal_Code    7906 non-null   int64  \n",
      " 8   Fuel           7906 non-null   object \n",
      " 9   Seller_Type    7906 non-null   object \n",
      " 10  Transmission   7906 non-null   object \n",
      " 11  Owner          7906 non-null   object \n",
      " 12  Mileage        7906 non-null   float64\n",
      " 13  Engine         7906 non-null   object \n",
      " 14  Max_Power      7906 non-null   object \n",
      " 15  Seats          7906 non-null   int64  \n",
      "dtypes: float64(1), int64(6), object(9)\n",
      "memory usage: 988.4+ KB\n"
     ]
    }
   ],
   "source": [
    "df2.info()"
   ]
  },
  {
   "cell_type": "code",
   "execution_count": 78,
   "id": "37c5e981",
   "metadata": {},
   "outputs": [],
   "source": [
    "# df2.Mileage=df2.Mileage.str.split(' ').str[0].astype(float)\n",
    "# df2.Max_Power=df2.Max_Power.str.split(' ').str[0].astype(float)\n",
    "# df2.Engine=df2.Engine.str.split(' ').str[0].astype(float)\n"
   ]
  },
  {
   "cell_type": "code",
   "execution_count": 79,
   "id": "d38f0c95",
   "metadata": {},
   "outputs": [
    {
     "name": "stdout",
     "output_type": "stream",
     "text": [
      "<class 'pandas.core.frame.DataFrame'>\n",
      "RangeIndex: 7906 entries, 0 to 7905\n",
      "Data columns (total 16 columns):\n",
      " #   Column         Non-Null Count  Dtype  \n",
      "---  ------         --------------  -----  \n",
      " 0   Sales_ID       7906 non-null   int64  \n",
      " 1   Name           7906 non-null   object \n",
      " 2   Year           7906 non-null   int64  \n",
      " 3   Selling_Price  7906 non-null   int64  \n",
      " 4   km_Driven      7906 non-null   int64  \n",
      " 5   City_Code      7906 non-null   object \n",
      " 6   State_Code     7906 non-null   object \n",
      " 7   Postal_Code    7906 non-null   int64  \n",
      " 8   Fuel           7906 non-null   object \n",
      " 9   Seller_Type    7906 non-null   object \n",
      " 10  Transmission   7906 non-null   object \n",
      " 11  Owner          7906 non-null   object \n",
      " 12  Mileage        7906 non-null   float64\n",
      " 13  Engine         7906 non-null   float64\n",
      " 14  Max_Power      7906 non-null   float64\n",
      " 15  Seats          7906 non-null   int64  \n",
      "dtypes: float64(3), int64(6), object(7)\n",
      "memory usage: 988.4+ KB\n"
     ]
    }
   ],
   "source": [
    "df2.Mileage=df2.Mileage.astype(float)\n",
    "df2.info()"
   ]
  },
  {
   "cell_type": "code",
   "execution_count": 80,
   "id": "90fb3eeb",
   "metadata": {},
   "outputs": [
    {
     "data": {
      "text/html": [
       "<div>\n",
       "<style scoped>\n",
       "    .dataframe tbody tr th:only-of-type {\n",
       "        vertical-align: middle;\n",
       "    }\n",
       "\n",
       "    .dataframe tbody tr th {\n",
       "        vertical-align: top;\n",
       "    }\n",
       "\n",
       "    .dataframe thead th {\n",
       "        text-align: right;\n",
       "    }\n",
       "</style>\n",
       "<table border=\"1\" class=\"dataframe\">\n",
       "  <thead>\n",
       "    <tr style=\"text-align: right;\">\n",
       "      <th></th>\n",
       "      <th>Sales_ID</th>\n",
       "      <th>Name</th>\n",
       "      <th>Year</th>\n",
       "      <th>Selling_Price</th>\n",
       "      <th>km_Driven</th>\n",
       "      <th>City_Code</th>\n",
       "      <th>State_Code</th>\n",
       "      <th>Postal_Code</th>\n",
       "      <th>Fuel</th>\n",
       "      <th>Seller_Type</th>\n",
       "      <th>Transmission</th>\n",
       "      <th>Owner</th>\n",
       "      <th>Mileage</th>\n",
       "      <th>Engine</th>\n",
       "      <th>Max_Power</th>\n",
       "      <th>Seats</th>\n",
       "    </tr>\n",
       "  </thead>\n",
       "  <tbody>\n",
       "    <tr>\n",
       "      <th>0</th>\n",
       "      <td>1</td>\n",
       "      <td>Maruti Swift Dzire VDI</td>\n",
       "      <td>2014</td>\n",
       "      <td>450000</td>\n",
       "      <td>145500</td>\n",
       "      <td>CT01</td>\n",
       "      <td>ST15</td>\n",
       "      <td>400001</td>\n",
       "      <td>Diesel</td>\n",
       "      <td>Individual</td>\n",
       "      <td>Manual</td>\n",
       "      <td>First Owner</td>\n",
       "      <td>23.40</td>\n",
       "      <td>1248.0</td>\n",
       "      <td>74.00</td>\n",
       "      <td>5</td>\n",
       "    </tr>\n",
       "    <tr>\n",
       "      <th>1</th>\n",
       "      <td>2</td>\n",
       "      <td>Skoda Rapid 1.5 TDI Ambition</td>\n",
       "      <td>2014</td>\n",
       "      <td>370000</td>\n",
       "      <td>120000</td>\n",
       "      <td>CT28</td>\n",
       "      <td>ST11</td>\n",
       "      <td>834001</td>\n",
       "      <td>Diesel</td>\n",
       "      <td>Individual</td>\n",
       "      <td>Manual</td>\n",
       "      <td>Second Owner</td>\n",
       "      <td>21.14</td>\n",
       "      <td>1498.0</td>\n",
       "      <td>103.52</td>\n",
       "      <td>5</td>\n",
       "    </tr>\n",
       "    <tr>\n",
       "      <th>2</th>\n",
       "      <td>3</td>\n",
       "      <td>Honda City 2017-2020 EXi</td>\n",
       "      <td>2006</td>\n",
       "      <td>158000</td>\n",
       "      <td>140000</td>\n",
       "      <td>CT12</td>\n",
       "      <td>ST28</td>\n",
       "      <td>201301</td>\n",
       "      <td>Petrol</td>\n",
       "      <td>Individual</td>\n",
       "      <td>Manual</td>\n",
       "      <td>Third Owner</td>\n",
       "      <td>17.70</td>\n",
       "      <td>1497.0</td>\n",
       "      <td>78.00</td>\n",
       "      <td>5</td>\n",
       "    </tr>\n",
       "    <tr>\n",
       "      <th>3</th>\n",
       "      <td>4</td>\n",
       "      <td>Hyundai i20 Sportz Diesel</td>\n",
       "      <td>2010</td>\n",
       "      <td>225000</td>\n",
       "      <td>127000</td>\n",
       "      <td>CT21</td>\n",
       "      <td>ST27</td>\n",
       "      <td>248001</td>\n",
       "      <td>Diesel</td>\n",
       "      <td>Individual</td>\n",
       "      <td>Manual</td>\n",
       "      <td>First Owner</td>\n",
       "      <td>23.00</td>\n",
       "      <td>1396.0</td>\n",
       "      <td>90.00</td>\n",
       "      <td>5</td>\n",
       "    </tr>\n",
       "    <tr>\n",
       "      <th>4</th>\n",
       "      <td>5</td>\n",
       "      <td>Maruti Swift VXI BSIII</td>\n",
       "      <td>2007</td>\n",
       "      <td>130000</td>\n",
       "      <td>120000</td>\n",
       "      <td>CT03</td>\n",
       "      <td>ST24</td>\n",
       "      <td>600020</td>\n",
       "      <td>Petrol</td>\n",
       "      <td>Individual</td>\n",
       "      <td>Manual</td>\n",
       "      <td>First Owner</td>\n",
       "      <td>16.10</td>\n",
       "      <td>1298.0</td>\n",
       "      <td>88.20</td>\n",
       "      <td>5</td>\n",
       "    </tr>\n",
       "    <tr>\n",
       "      <th>...</th>\n",
       "      <td>...</td>\n",
       "      <td>...</td>\n",
       "      <td>...</td>\n",
       "      <td>...</td>\n",
       "      <td>...</td>\n",
       "      <td>...</td>\n",
       "      <td>...</td>\n",
       "      <td>...</td>\n",
       "      <td>...</td>\n",
       "      <td>...</td>\n",
       "      <td>...</td>\n",
       "      <td>...</td>\n",
       "      <td>...</td>\n",
       "      <td>...</td>\n",
       "      <td>...</td>\n",
       "      <td>...</td>\n",
       "    </tr>\n",
       "    <tr>\n",
       "      <th>7901</th>\n",
       "      <td>8124</td>\n",
       "      <td>Hyundai i20 Magna</td>\n",
       "      <td>2013</td>\n",
       "      <td>320000</td>\n",
       "      <td>110000</td>\n",
       "      <td>CT22</td>\n",
       "      <td>ST14</td>\n",
       "      <td>452010</td>\n",
       "      <td>Petrol</td>\n",
       "      <td>Individual</td>\n",
       "      <td>Manual</td>\n",
       "      <td>First Owner</td>\n",
       "      <td>18.50</td>\n",
       "      <td>1197.0</td>\n",
       "      <td>82.85</td>\n",
       "      <td>5</td>\n",
       "    </tr>\n",
       "    <tr>\n",
       "      <th>7902</th>\n",
       "      <td>8125</td>\n",
       "      <td>Hyundai Verna CRDi SX</td>\n",
       "      <td>2007</td>\n",
       "      <td>135000</td>\n",
       "      <td>119000</td>\n",
       "      <td>CT21</td>\n",
       "      <td>ST27</td>\n",
       "      <td>248001</td>\n",
       "      <td>Diesel</td>\n",
       "      <td>Individual</td>\n",
       "      <td>Manual</td>\n",
       "      <td>Fourth &amp; Above Owner</td>\n",
       "      <td>16.80</td>\n",
       "      <td>1493.0</td>\n",
       "      <td>110.00</td>\n",
       "      <td>5</td>\n",
       "    </tr>\n",
       "    <tr>\n",
       "      <th>7903</th>\n",
       "      <td>8126</td>\n",
       "      <td>Maruti Swift Dzire ZDi</td>\n",
       "      <td>2009</td>\n",
       "      <td>382000</td>\n",
       "      <td>120000</td>\n",
       "      <td>CT08</td>\n",
       "      <td>ST29</td>\n",
       "      <td>700005</td>\n",
       "      <td>Diesel</td>\n",
       "      <td>Individual</td>\n",
       "      <td>Manual</td>\n",
       "      <td>First Owner</td>\n",
       "      <td>19.30</td>\n",
       "      <td>1248.0</td>\n",
       "      <td>73.90</td>\n",
       "      <td>5</td>\n",
       "    </tr>\n",
       "    <tr>\n",
       "      <th>7904</th>\n",
       "      <td>8127</td>\n",
       "      <td>Tata Indigo CR4</td>\n",
       "      <td>2013</td>\n",
       "      <td>290000</td>\n",
       "      <td>25000</td>\n",
       "      <td>CT29</td>\n",
       "      <td>ST24</td>\n",
       "      <td>632001</td>\n",
       "      <td>Diesel</td>\n",
       "      <td>Individual</td>\n",
       "      <td>Manual</td>\n",
       "      <td>First Owner</td>\n",
       "      <td>23.57</td>\n",
       "      <td>1396.0</td>\n",
       "      <td>70.00</td>\n",
       "      <td>5</td>\n",
       "    </tr>\n",
       "    <tr>\n",
       "      <th>7905</th>\n",
       "      <td>8128</td>\n",
       "      <td>Tata Indigo CR4</td>\n",
       "      <td>2013</td>\n",
       "      <td>290000</td>\n",
       "      <td>25000</td>\n",
       "      <td>CT21</td>\n",
       "      <td>ST27</td>\n",
       "      <td>248001</td>\n",
       "      <td>Diesel</td>\n",
       "      <td>Individual</td>\n",
       "      <td>Manual</td>\n",
       "      <td>First Owner</td>\n",
       "      <td>23.57</td>\n",
       "      <td>1396.0</td>\n",
       "      <td>70.00</td>\n",
       "      <td>5</td>\n",
       "    </tr>\n",
       "  </tbody>\n",
       "</table>\n",
       "<p>7906 rows × 16 columns</p>\n",
       "</div>"
      ],
      "text/plain": [
       "      Sales_ID                          Name  Year  Selling_Price  km_Driven  \\\n",
       "0            1        Maruti Swift Dzire VDI  2014         450000     145500   \n",
       "1            2  Skoda Rapid 1.5 TDI Ambition  2014         370000     120000   \n",
       "2            3      Honda City 2017-2020 EXi  2006         158000     140000   \n",
       "3            4     Hyundai i20 Sportz Diesel  2010         225000     127000   \n",
       "4            5        Maruti Swift VXI BSIII  2007         130000     120000   \n",
       "...        ...                           ...   ...            ...        ...   \n",
       "7901      8124             Hyundai i20 Magna  2013         320000     110000   \n",
       "7902      8125         Hyundai Verna CRDi SX  2007         135000     119000   \n",
       "7903      8126        Maruti Swift Dzire ZDi  2009         382000     120000   \n",
       "7904      8127               Tata Indigo CR4  2013         290000      25000   \n",
       "7905      8128               Tata Indigo CR4  2013         290000      25000   \n",
       "\n",
       "     City_Code State_Code  Postal_Code    Fuel Seller_Type Transmission  \\\n",
       "0         CT01       ST15       400001  Diesel  Individual       Manual   \n",
       "1         CT28       ST11       834001  Diesel  Individual       Manual   \n",
       "2         CT12       ST28       201301  Petrol  Individual       Manual   \n",
       "3         CT21       ST27       248001  Diesel  Individual       Manual   \n",
       "4         CT03       ST24       600020  Petrol  Individual       Manual   \n",
       "...        ...        ...          ...     ...         ...          ...   \n",
       "7901      CT22       ST14       452010  Petrol  Individual       Manual   \n",
       "7902      CT21       ST27       248001  Diesel  Individual       Manual   \n",
       "7903      CT08       ST29       700005  Diesel  Individual       Manual   \n",
       "7904      CT29       ST24       632001  Diesel  Individual       Manual   \n",
       "7905      CT21       ST27       248001  Diesel  Individual       Manual   \n",
       "\n",
       "                     Owner  Mileage  Engine  Max_Power  Seats  \n",
       "0              First Owner    23.40  1248.0      74.00      5  \n",
       "1             Second Owner    21.14  1498.0     103.52      5  \n",
       "2              Third Owner    17.70  1497.0      78.00      5  \n",
       "3              First Owner    23.00  1396.0      90.00      5  \n",
       "4              First Owner    16.10  1298.0      88.20      5  \n",
       "...                    ...      ...     ...        ...    ...  \n",
       "7901           First Owner    18.50  1197.0      82.85      5  \n",
       "7902  Fourth & Above Owner    16.80  1493.0     110.00      5  \n",
       "7903           First Owner    19.30  1248.0      73.90      5  \n",
       "7904           First Owner    23.57  1396.0      70.00      5  \n",
       "7905           First Owner    23.57  1396.0      70.00      5  \n",
       "\n",
       "[7906 rows x 16 columns]"
      ]
     },
     "execution_count": 80,
     "metadata": {},
     "output_type": "execute_result"
    }
   ],
   "source": [
    "df2"
   ]
  },
  {
   "cell_type": "code",
   "execution_count": null,
   "id": "7dc47ce7",
   "metadata": {},
   "outputs": [],
   "source": []
  },
  {
   "cell_type": "markdown",
   "id": "1f3895b0",
   "metadata": {},
   "source": [
    "## Regression (Multi variant)"
   ]
  },
  {
   "cell_type": "code",
   "execution_count": 81,
   "id": "7db4ec6a",
   "metadata": {},
   "outputs": [
    {
     "data": {
      "text/plain": [
       "LinearRegression()"
      ]
     },
     "execution_count": 81,
     "metadata": {},
     "output_type": "execute_result"
    }
   ],
   "source": [
    "# y=a1X1+a2X2+a3X3+...+b\n",
    "reg=linear_model.LinearRegression()\n",
    "reg.fit(df2[['Year','km_Driven','Mileage','Engine','Max_Power']],df2.Selling_Price)"
   ]
  },
  {
   "cell_type": "code",
   "execution_count": 82,
   "id": "bd3850a7",
   "metadata": {},
   "outputs": [
    {
     "data": {
      "text/plain": [
       "array([ 3.74127567e+04, -1.51455554e+00,  1.43658927e+04, -2.06557829e-01,\n",
       "        1.66636719e+04])"
      ]
     },
     "execution_count": 82,
     "metadata": {},
     "output_type": "execute_result"
    }
   ],
   "source": [
    "reg.coef_"
   ]
  },
  {
   "cell_type": "code",
   "execution_count": 83,
   "id": "5dad908a",
   "metadata": {},
   "outputs": [
    {
     "data": {
      "text/plain": [
       "-76398951.50499529"
      ]
     },
     "execution_count": 83,
     "metadata": {},
     "output_type": "execute_result"
    }
   ],
   "source": [
    "reg.intercept_"
   ]
  },
  {
   "cell_type": "markdown",
   "id": "c817d6bc",
   "metadata": {},
   "source": [
    "## train and test model"
   ]
  },
  {
   "cell_type": "markdown",
   "id": "436bca20",
   "metadata": {},
   "source": [
    "### Define X and Y"
   ]
  },
  {
   "cell_type": "code",
   "execution_count": 85,
   "id": "7fdf8528",
   "metadata": {},
   "outputs": [
    {
     "name": "stdout",
     "output_type": "stream",
     "text": [
      "<class 'pandas.core.frame.DataFrame'>\n",
      "RangeIndex: 7906 entries, 0 to 7905\n",
      "Data columns (total 16 columns):\n",
      " #   Column         Non-Null Count  Dtype  \n",
      "---  ------         --------------  -----  \n",
      " 0   Sales_ID       7906 non-null   int64  \n",
      " 1   Name           7906 non-null   object \n",
      " 2   Year           7906 non-null   int64  \n",
      " 3   Selling_Price  7906 non-null   int64  \n",
      " 4   km_Driven      7906 non-null   int64  \n",
      " 5   City_Code      7906 non-null   object \n",
      " 6   State_Code     7906 non-null   object \n",
      " 7   Postal_Code    7906 non-null   int64  \n",
      " 8   Fuel           7906 non-null   object \n",
      " 9   Seller_Type    7906 non-null   object \n",
      " 10  Transmission   7906 non-null   object \n",
      " 11  Owner          7906 non-null   object \n",
      " 12  Mileage        7906 non-null   float64\n",
      " 13  Engine         7906 non-null   float64\n",
      " 14  Max_Power      7906 non-null   float64\n",
      " 15  Seats          7906 non-null   int64  \n",
      "dtypes: float64(3), int64(6), object(7)\n",
      "memory usage: 988.4+ KB\n"
     ]
    }
   ],
   "source": [
    "df.info()"
   ]
  },
  {
   "cell_type": "code",
   "execution_count": 124,
   "id": "8166c1e5",
   "metadata": {},
   "outputs": [
    {
     "name": "stdout",
     "output_type": "stream",
     "text": [
      "x=  [[2.0140e+03 1.4550e+05 2.3400e+01 1.2480e+03 7.4000e+01 5.0000e+00]\n",
      " [2.0140e+03 1.2000e+05 2.1140e+01 1.4980e+03 1.0352e+02 5.0000e+00]\n",
      " [2.0060e+03 1.4000e+05 1.7700e+01 1.4970e+03 7.8000e+01 5.0000e+00]\n",
      " ...\n",
      " [2.0090e+03 1.2000e+05 1.9300e+01 1.2480e+03 7.3900e+01 5.0000e+00]\n",
      " [2.0130e+03 2.5000e+04 2.3570e+01 1.3960e+03 7.0000e+01 5.0000e+00]\n",
      " [2.0130e+03 2.5000e+04 2.3570e+01 1.3960e+03 7.0000e+01 5.0000e+00]]\n",
      "y=  [450000 370000 158000 ... 382000 290000 290000]\n"
     ]
    }
   ],
   "source": [
    "# x=df2.drop(['Name','Selling_Price','City_Code','State_Code','Postal_Code','Fuel','Seller_Type','Transmission','Owner'],axis=1).values\n",
    "x=df2[['Year','km_Driven','Mileage','Engine','Max_Power','Seats']].values\n",
    "y=df2['Selling_Price'].values\n",
    "print('x= ',x)\n",
    "print('y= ',y)"
   ]
  },
  {
   "cell_type": "markdown",
   "id": "f5a6526f",
   "metadata": {},
   "source": [
    "### Split dataset in Training set and Test set"
   ]
  },
  {
   "cell_type": "code",
   "execution_count": 125,
   "id": "83eac28c",
   "metadata": {},
   "outputs": [],
   "source": [
    "from sklearn.model_selection import train_test_split\n",
    "x_train,x_test,y_train,y_test=train_test_split(x,y,test_size=0.3,random_state=0)"
   ]
  },
  {
   "cell_type": "markdown",
   "id": "4bb4de98",
   "metadata": {},
   "source": [
    "### Train the model on training set"
   ]
  },
  {
   "cell_type": "code",
   "execution_count": 126,
   "id": "be98ee25",
   "metadata": {},
   "outputs": [
    {
     "data": {
      "text/plain": [
       "LinearRegression()"
      ]
     },
     "execution_count": 126,
     "metadata": {},
     "output_type": "execute_result"
    }
   ],
   "source": [
    "from sklearn.linear_model import LinearRegression\n",
    "ml=LinearRegression()\n",
    "ml.fit(x_train,y_train)"
   ]
  },
  {
   "cell_type": "markdown",
   "id": "cd520fd0",
   "metadata": {},
   "source": [
    "### Predict the test result"
   ]
  },
  {
   "cell_type": "code",
   "execution_count": 127,
   "id": "524254c0",
   "metadata": {},
   "outputs": [
    {
     "name": "stdout",
     "output_type": "stream",
     "text": [
      "[ 737798.20706588  888234.1195382    92234.68547203 ...  250480.22710429\n",
      "  834275.64352486 1049408.47634324]\n"
     ]
    }
   ],
   "source": [
    "y_predict=ml.predict(x_test)\n",
    "print(y_predict)"
   ]
  },
  {
   "cell_type": "code",
   "execution_count": 128,
   "id": "41304d2f",
   "metadata": {},
   "outputs": [
    {
     "data": {
      "text/plain": [
       "array([1111542.69081645])"
      ]
     },
     "execution_count": 128,
     "metadata": {},
     "output_type": "execute_result"
    }
   ],
   "source": [
    "#  Predicting Selling_Price based on custom inputs\n",
    "# ['Year','km_Driven','Mileage','Engine','Max_Power','Seats']\n",
    "ml.predict([[2014,20000,20,1400,100,2]])"
   ]
  },
  {
   "cell_type": "markdown",
   "id": "8b1e5f67",
   "metadata": {},
   "source": [
    "### Evaluate the model -(based on R2 score)"
   ]
  },
  {
   "cell_type": "code",
   "execution_count": 129,
   "id": "f79a6077",
   "metadata": {},
   "outputs": [
    {
     "data": {
      "text/plain": [
       "0.631289218728732"
      ]
     },
     "execution_count": 129,
     "metadata": {},
     "output_type": "execute_result"
    }
   ],
   "source": [
    "from sklearn.metrics import r2_score\n",
    "r2_score(y_test,y_predict)"
   ]
  },
  {
   "cell_type": "markdown",
   "id": "7baff16e",
   "metadata": {},
   "source": [
    "### Plot the result"
   ]
  },
  {
   "cell_type": "code",
   "execution_count": 130,
   "id": "377261cf",
   "metadata": {},
   "outputs": [
    {
     "data": {
      "text/plain": [
       "Text(0.5, 1.0, 'Actual VS Predicted Price :')"
      ]
     },
     "execution_count": 130,
     "metadata": {},
     "output_type": "execute_result"
    },
    {
     "data": {
      "image/png": "[encoded data removed]",
      "text/plain": [
       "<Figure size 1080x720 with 1 Axes>"
      ]
     },
     "metadata": {
      "needs_background": "light"
     },
     "output_type": "display_data"
    }
   ],
   "source": [
    "import matplotlib.pyplot as plt\n",
    "plt.figure(figsize=(15,10))\n",
    "plt.scatter(y_test,y_predict)\n",
    "plt.xlabel('Actual')\n",
    "plt.ylabel('Predicted')\n",
    "plt.title('Actual VS Predicted Price :')"
   ]
  },
  {
   "cell_type": "markdown",
   "id": "9ec2b4df",
   "metadata": {},
   "source": [
    "### Predicted Values"
   ]
  },
  {
   "cell_type": "code",
   "execution_count": 132,
   "id": "85aee0fc",
   "metadata": {},
   "outputs": [
    {
     "data": {
      "text/html": [
       "<div>\n",
       "<style scoped>\n",
       "    .dataframe tbody tr th:only-of-type {\n",
       "        vertical-align: middle;\n",
       "    }\n",
       "\n",
       "    .dataframe tbody tr th {\n",
       "        vertical-align: top;\n",
       "    }\n",
       "\n",
       "    .dataframe thead th {\n",
       "        text-align: right;\n",
       "    }\n",
       "</style>\n",
       "<table border=\"1\" class=\"dataframe\">\n",
       "  <thead>\n",
       "    <tr style=\"text-align: right;\">\n",
       "      <th></th>\n",
       "      <th>Actual Value</th>\n",
       "      <th>Predicted value</th>\n",
       "      <th>Difference</th>\n",
       "    </tr>\n",
       "  </thead>\n",
       "  <tbody>\n",
       "    <tr>\n",
       "      <th>0</th>\n",
       "      <td>430000</td>\n",
       "      <td>7.377982e+05</td>\n",
       "      <td>-307798.207066</td>\n",
       "    </tr>\n",
       "    <tr>\n",
       "      <th>1</th>\n",
       "      <td>779000</td>\n",
       "      <td>8.882341e+05</td>\n",
       "      <td>-109234.119538</td>\n",
       "    </tr>\n",
       "    <tr>\n",
       "      <th>2</th>\n",
       "      <td>200000</td>\n",
       "      <td>9.223469e+04</td>\n",
       "      <td>107765.314528</td>\n",
       "    </tr>\n",
       "    <tr>\n",
       "      <th>3</th>\n",
       "      <td>800000</td>\n",
       "      <td>1.033700e+06</td>\n",
       "      <td>-233699.997829</td>\n",
       "    </tr>\n",
       "    <tr>\n",
       "      <th>4</th>\n",
       "      <td>390000</td>\n",
       "      <td>5.234069e+05</td>\n",
       "      <td>-133406.904060</td>\n",
       "    </tr>\n",
       "    <tr>\n",
       "      <th>5</th>\n",
       "      <td>800000</td>\n",
       "      <td>7.077502e+05</td>\n",
       "      <td>92249.760473</td>\n",
       "    </tr>\n",
       "    <tr>\n",
       "      <th>6</th>\n",
       "      <td>300000</td>\n",
       "      <td>-2.160022e+05</td>\n",
       "      <td>516002.200043</td>\n",
       "    </tr>\n",
       "    <tr>\n",
       "      <th>7</th>\n",
       "      <td>330000</td>\n",
       "      <td>3.310200e+05</td>\n",
       "      <td>-1020.041747</td>\n",
       "    </tr>\n",
       "    <tr>\n",
       "      <th>8</th>\n",
       "      <td>360000</td>\n",
       "      <td>9.091805e+05</td>\n",
       "      <td>-549180.534315</td>\n",
       "    </tr>\n",
       "    <tr>\n",
       "      <th>9</th>\n",
       "      <td>650000</td>\n",
       "      <td>5.612131e+05</td>\n",
       "      <td>88786.923847</td>\n",
       "    </tr>\n",
       "    <tr>\n",
       "      <th>10</th>\n",
       "      <td>325000</td>\n",
       "      <td>4.721500e+05</td>\n",
       "      <td>-147150.027882</td>\n",
       "    </tr>\n",
       "    <tr>\n",
       "      <th>11</th>\n",
       "      <td>465000</td>\n",
       "      <td>1.004413e+06</td>\n",
       "      <td>-539413.259320</td>\n",
       "    </tr>\n",
       "    <tr>\n",
       "      <th>12</th>\n",
       "      <td>370000</td>\n",
       "      <td>6.007587e+05</td>\n",
       "      <td>-230758.666524</td>\n",
       "    </tr>\n",
       "    <tr>\n",
       "      <th>13</th>\n",
       "      <td>45000</td>\n",
       "      <td>-7.179921e+05</td>\n",
       "      <td>762992.092559</td>\n",
       "    </tr>\n",
       "    <tr>\n",
       "      <th>14</th>\n",
       "      <td>775000</td>\n",
       "      <td>8.261826e+05</td>\n",
       "      <td>-51182.574404</td>\n",
       "    </tr>\n",
       "    <tr>\n",
       "      <th>15</th>\n",
       "      <td>650000</td>\n",
       "      <td>4.501240e+05</td>\n",
       "      <td>199876.011438</td>\n",
       "    </tr>\n",
       "    <tr>\n",
       "      <th>16</th>\n",
       "      <td>620000</td>\n",
       "      <td>1.391830e+06</td>\n",
       "      <td>-771829.595374</td>\n",
       "    </tr>\n",
       "    <tr>\n",
       "      <th>17</th>\n",
       "      <td>470000</td>\n",
       "      <td>5.435310e+05</td>\n",
       "      <td>-73531.035186</td>\n",
       "    </tr>\n",
       "    <tr>\n",
       "      <th>18</th>\n",
       "      <td>390000</td>\n",
       "      <td>6.091991e+05</td>\n",
       "      <td>-219199.054945</td>\n",
       "    </tr>\n",
       "    <tr>\n",
       "      <th>19</th>\n",
       "      <td>780000</td>\n",
       "      <td>4.214401e+05</td>\n",
       "      <td>358559.946433</td>\n",
       "    </tr>\n",
       "  </tbody>\n",
       "</table>\n",
       "</div>"
      ],
      "text/plain": [
       "    Actual Value  Predicted value     Difference\n",
       "0         430000     7.377982e+05 -307798.207066\n",
       "1         779000     8.882341e+05 -109234.119538\n",
       "2         200000     9.223469e+04  107765.314528\n",
       "3         800000     1.033700e+06 -233699.997829\n",
       "4         390000     5.234069e+05 -133406.904060\n",
       "5         800000     7.077502e+05   92249.760473\n",
       "6         300000    -2.160022e+05  516002.200043\n",
       "7         330000     3.310200e+05   -1020.041747\n",
       "8         360000     9.091805e+05 -549180.534315\n",
       "9         650000     5.612131e+05   88786.923847\n",
       "10        325000     4.721500e+05 -147150.027882\n",
       "11        465000     1.004413e+06 -539413.259320\n",
       "12        370000     6.007587e+05 -230758.666524\n",
       "13         45000    -7.179921e+05  762992.092559\n",
       "14        775000     8.261826e+05  -51182.574404\n",
       "15        650000     4.501240e+05  199876.011438\n",
       "16        620000     1.391830e+06 -771829.595374\n",
       "17        470000     5.435310e+05  -73531.035186\n",
       "18        390000     6.091991e+05 -219199.054945\n",
       "19        780000     4.214401e+05  358559.946433"
      ]
     },
     "execution_count": 132,
     "metadata": {},
     "output_type": "execute_result"
    }
   ],
   "source": [
    "pred_y_df=pd.DataFrame({'Actual Value':y_test,'Predicted value':y_predict,'Difference':y_test-y_predict})\n",
    "pred_y_df[0:20]"
   ]
  },
  {
   "cell_type": "code",
   "execution_count": null,
   "id": "38b4c82c",
   "metadata": {},
   "outputs": [],
   "source": []
  }
 ],
 "metadata": {
  "kernelspec": {
   "display_name": "Python 3 (ipykernel)",
   "language": "python",
   "name": "python3"
  },
  "language_info": {
   "codemirror_mode": {
    "name": "ipython",
    "version": 3
   },
   "file_extension": ".py",
   "mimetype": "text/x-python",
   "name": "python",
   "nbconvert_exporter": "python",
   "pygments_lexer": "ipython3",
   "version": "3.9.12"
  }
 },
 "nbformat": 4,
 "nbformat_minor": 5
}
