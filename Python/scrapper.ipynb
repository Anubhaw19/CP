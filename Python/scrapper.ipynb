{
 "cells": [
  {
   "cell_type": "code",
   "execution_count": 8,
   "id": "7ad9e8b1",
   "metadata": {},
   "outputs": [],
   "source": [
    "from bs4 import BeautifulSoup\n",
    "import requests\n",
    "import json\n",
    "\n",
    "# Send a GET request to the website you want to scrape\n",
    "url = 'https://www.cermati.com/karir'\n",
    "response = requests.get(url)\n",
    "\n",
    "# Create a BeautifulSoup object to parse the HTML content\n",
    "soup = BeautifulSoup(response.text, 'html.parser')\n",
    "\n",
    "# # Find specific elements on the page using CSS selectors\n",
    "# # For example, let's extract all the links on the page\n",
    "# links = soup.select('a')\n",
    "\n",
    "# # Print the href attribute of each link\n",
    "# for link in links:\n",
    "#     print(link.get('href'))\n",
    "json_data = soup.find('script', type='application/json',id=\"initials\")\n",
    "data = json.loads(json_data.string)\n",
    "\n",
    "# print(json.dumps(data[\"smartRecruiterResult\"][\"all\"][\"content\"], indent=2))  # Debugging print\n"
   ]
  },
  {
   "cell_type": "code",
   "execution_count": 33,
   "id": "79749ce7",
   "metadata": {},
   "outputs": [],
   "source": [
    "def parse_paragraph(text):\n",
    "    soup = BeautifulSoup(text, 'html.parser')\n",
    "    paragraph_tags = soup.find_all('p')\n",
    "    txt=''\n",
    "    for p in paragraph_tags:\n",
    "        txt+=\" \"+p.get_text()\n",
    "    my_list= txt.split('.')\n",
    "    return list(filter(None, my_list))\n",
    "    \n",
    "    \n",
    "    "
   ]
  },
  {
   "cell_type": "code",
   "execution_count": 38,
   "id": "bdd76d3b",
   "metadata": {},
   "outputs": [
    {
     "name": "stdout",
     "output_type": "stream",
     "text": [
      "{'id': '743999906322434', 'name': 'Collection Operation Manager - Desk / Field', 'uuid': '03489c0d-98da-4a96-88ef-ef10b89ddc93', 'jobId': '5a496432-a696-4879-bef6-2ab03a31a4dc', 'jobAdId': 'bc327d0f-672e-44bc-8f10-c6d09444618e', 'defaultJobAd': True, 'refNumber': 'REF132E', 'company': {'name': 'Cermati.com', 'identifier': 'Cermaticom'}, 'location': {'city': 'West Jakarta', 'region': 'Jakarta', 'country': 'id', 'remote': False, 'latitude': '-6.167430899999999', 'longitude': '106.76372390000006'}, 'customField': [{'fieldId': '58b7e4f7e4b0885c92cd99e1', 'fieldLabel': 'Brands', 'valueId': '372bb6f4-b3aa-4755-83e8-fd2a71a24afb', 'valueLabel': 'Indodana'}, {'fieldId': 'COUNTRY', 'fieldLabel': 'Country', 'valueId': 'id', 'valueLabel': 'Indonesia'}], 'releasedDate': '2023-05-10T02:39:27.342Z', 'creator': {'name': '', 'avatarUrl': ''}, 'postingUrl': 'https://jobs.smartrecruiters.com/Cermaticom/743999906322434-collection-operation-manager-desk-field', 'applyUrl': 'https://jobs.smartrecruiters.com/Cermaticom/743999906322434-collection-operation-manager-desk-field?oga=true', 'referralUrl': 'https://jobs.smartrecruiters.com/external-referrals/company/Cermaticom/publication/03489c0d-98da-4a96-88ef-ef10b89ddc93?dcr_id=DCRA1', 'jobAd': {'sections': {'companyDescription': {'title': 'Company Description', 'text': ''}, 'jobDescription': {'title': 'Job Description', 'text': '<p></p><ul><li>Manage and responsible for the Collection Operations of the company</li><li>Liaise with Superior (Risk Management Head) as well as other top management</li><li>Ensure that the company runs with legality and conformity to established regulations</li><li>Review regularly the efficiency of collection process, policies and people through data driven analysis, and apply improvements</li><li>Collaborate with various functions (Product, Engineering, HR, Finance, Marketing, Collection, Risk Modelling, and Business Intelligence) to boost efficiency and productivity</li><li>Review and adjust operational budgets to balance between cost vs credit loss (as well as company profitability)</li><li>Manage customer support processes and manage them to enhance customer satisfaction</li><li>Responsible for staffing, resource allocation, KPI &amp; Target setting and measurements. Ensure capacity of credit operation is planned well to meet the growth target of the company.</li></ul><p></p>'}, 'qualifications': {'title': 'Qualifications', 'text': '<p></p><ul><li>Hold Bachelor Degree (S1) from Reputable University</li><li>Have great persistence and endurance to meet operation target,</li><li>Highly self-managed &amp; motivated person, able to perfectly multi-task, have a high standard and excited to work in a collaborative environment</li><li>At least 3 years proven experience as Collection Operation Manager or equivalent position.</li><li>At least 3 years proven excellent organizational and leadership ability</li><li>Outstanding communication &amp;&#xa0;people management skill.</li><li>Sound knowledge of data analysis and performance/ operations metrics.</li><li>Preferably have experience in managing consumer lending products (e.g. Credit Card, KTA, Motorcycle Loan, Consumer Durables Loan, Payday Loan) or have experience in Fin-tech Company.</li><li>Excellent ability to make decisions, take actions, and make things happen.</li></ul><p></p>'}, 'additionalInformation': {'title': 'Additional Information', 'text': ''}}}, 'active': True, 'industry': {'id': 'internet', 'label': 'Internet'}, 'function': {'id': 'finance', 'label': 'Finance'}, 'experienceLevel': {'id': 'mid_senior_level', 'label': 'Mid-Senior Level'}, 'typeOfEmployment': {'id': 'permanent', 'label': 'Full-time'}, 'language': {'code': 'en', 'label': 'English', 'labelNative': 'English (US)'}}\n",
      "8\n"
     ]
    }
   ],
   "source": [
    "job_lib = {}\n",
    "data_job = data[\"smartRecruiterResult\"][\"all\"][\"content\"]\n",
    "for job in data_job:\n",
    "    job_info = requests.get(job['ref']).text\n",
    "    job_details = json.loads(job_info)\n",
    "    if \"department\" in job_details:\n",
    "        department = job_details['department']['label']\n",
    "        title = job_details['name']\n",
    "        if \"region\" in job_details['location']:\n",
    "            location = job_details['location']['city']+', '+ job_details['location']['region']\n",
    "        else:\n",
    "            location = job_details['location']['city']\n",
    "        description = parse_paragraph( job_details['jobAd']['sections']['jobDescription']['text'])\n",
    "        qualification = parse_paragraph(job_details['jobAd']['sections']['qualifications']['text'])\n",
    "        job_type = job_details['typeOfEmployment']['id']\n",
    "        posted_by = job_details['creator']['name']\n",
    "    else:\n",
    "        print(job_details, end=\"\\n\")\n",
    "        \n",
    "\n",
    "    \n",
    "    \n",
    "#     print(department,end='\\n')\n",
    "#     print(title,end='\\n')\n",
    "#     print(location,end='\\n')\n",
    "#     print(description,end='\\n')\n",
    "#     print(qualification,end='\\n')\n",
    "#     print(job_type,end='\\n')\n",
    "#     print(posted_by,end='\\n')\n",
    "    details = {\n",
    "        'title' : title,\n",
    "        'location' : location,\n",
    "        'description' : description,\n",
    "        'qualification'  : qualification,\n",
    "        'job_type'  : job_type,\n",
    "        'posted_by' : posted_by\n",
    "    }\n",
    "    if department in job_lib:\n",
    "        job_lib[department].append(details)\n",
    "    else:\n",
    "        job_lib[department]= []\n",
    "        job_lib[department].append(details)\n",
    "    \n",
    "\n",
    "print(len(job_lib))\n",
    "# print(job_lib)\n",
    "    \n",
    "    \n",
    "    \n",
    "    \n",
    "    \n",
    "\n",
    "with open('optput.txt','w') as f:\n",
    "    f.write(json.dumps(job_lib))\n",
    "#     f.write(data[\"smartRecruiterResult\"][\"all\"][\"content\"])\n"
   ]
  },
  {
   "cell_type": "code",
   "execution_count": 37,
   "id": "87f9edd8",
   "metadata": {},
   "outputs": [],
   "source": [
    "with open('optput.txt','w') as f:\n",
    "    f.write(json.dumps(job_lib))"
   ]
  },
  {
   "cell_type": "code",
   "execution_count": 14,
   "id": "15e8734d",
   "metadata": {},
   "outputs": [
    {
     "name": "stdout",
     "output_type": "stream",
     "text": [
      "8\n"
     ]
    }
   ],
   "source": [
    "print(len(job_lib))"
   ]
  },
  {
   "cell_type": "code",
   "execution_count": null,
   "id": "5f11b94b",
   "metadata": {},
   "outputs": [],
   "source": []
  },
  {
   "cell_type": "code",
   "execution_count": null,
   "id": "ab4ba3e9",
   "metadata": {},
   "outputs": [],
   "source": []
  },
  {
   "cell_type": "code",
   "execution_count": null,
   "id": "970811ff",
   "metadata": {},
   "outputs": [],
   "source": []
  },
  {
   "cell_type": "code",
   "execution_count": null,
   "id": "7a4daf1e",
   "metadata": {},
   "outputs": [],
   "source": []
  },
  {
   "cell_type": "code",
   "execution_count": 17,
   "id": "87ca51e1",
   "metadata": {},
   "outputs": [],
   "source": [
    "text = '''<p>The candidate should be able to design high performance, maintainable, extensible software architectures to solve abstract business problems. Here are some example business problems:<br>\\\"We want to reduce the time for productionizing experimental machine learning features to 1 day\\\"<br><br>\\\"We want to completely automate the credit approval process while maintaining an accuracy of &gt;90% when compared with manual approval\\\"<br><br>They should be able to translate the high level design into a series of tasks that can be executed by other software engineers working in parallel<br><br>The high level designs are usually design documents consisting of relevant block diagrams, UML diagrams meant to be consumed by other engineering leaders and software engineers<br><br>They must be able to work with international teams effectively. They will be required to communicate with:</p><ul><li>Clients who may not necessarily be software engineers (marketing teams, business development team etc)</li><li>Software engineers and tech leads to communicate the design in a simple yet accurate language without compromising details.</li></ul><p><br>They would be leading a team of talented but possibly inexperienced engineers who will look to you for mentorship. In a typical day, candidates would be spending<br>10% of the time project management, 20% of the time doing code review and mentorship, 20% of the time coding (evaluating technologies, doing PoC, etc) 50% of the time requirement gathering, high level design, low level design, roadmap etc</p><p><strong>In summary, We are looking for candidates with a \\u201ctech first\\u201d approach. Candidates must be first and foremost technically strong. They would need experience of people management as a secondary requirement.</strong></p>'''\n",
    "\n"
   ]
  },
  {
   "cell_type": "code",
   "execution_count": 19,
   "id": "04de7fbe",
   "metadata": {},
   "outputs": [
    {
     "name": "stdout",
     "output_type": "stream",
     "text": [
      "<p>\n",
      " The candidate should be able to design high performance, maintainable, extensible software architectures to solve abstract business problems. Here are some example business problems:\n",
      " <br/>\n",
      " \"We want to reduce the time for productionizing experimental machine learning features to 1 day\"\n",
      " <br/>\n",
      " <br/>\n",
      " \"We want to completely automate the credit approval process while maintaining an accuracy of &gt;90% when compared with manual approval\"\n",
      " <br/>\n",
      " <br/>\n",
      " They should be able to translate the high level design into a series of tasks that can be executed by other software engineers working in parallel\n",
      " <br/>\n",
      " <br/>\n",
      " The high level designs are usually design documents consisting of relevant block diagrams, UML diagrams meant to be consumed by other engineering leaders and software engineers\n",
      " <br/>\n",
      " <br/>\n",
      " They must be able to work with international teams effectively. They will be required to communicate with:\n",
      "</p>\n",
      "<ul>\n",
      " <li>\n",
      "  Clients who may not necessarily be software engineers (marketing teams, business development team etc)\n",
      " </li>\n",
      " <li>\n",
      "  Software engineers and tech leads to communicate the design in a simple yet accurate language without compromising details.\n",
      " </li>\n",
      "</ul>\n",
      "<p>\n",
      " <br/>\n",
      " They would be leading a team of talented but possibly inexperienced engineers who will look to you for mentorship. In a typical day, candidates would be spending\n",
      " <br/>\n",
      " 10% of the time project management, 20% of the time doing code review and mentorship, 20% of the time coding (evaluating technologies, doing PoC, etc) 50% of the time requirement gathering, high level design, low level design, roadmap etc\n",
      "</p>\n",
      "<p>\n",
      " <strong>\n",
      "  In summary, We are looking for candidates with a “tech first” approach. Candidates must be first and foremost technically strong. They would need experience of people management as a secondary requirement.\n",
      " </strong>\n",
      "</p>\n"
     ]
    }
   ],
   "source": [
    "from bs4 import BeautifulSoup\n",
    "soup = BeautifulSoup(text, 'html.parser')\n",
    "\n",
    "print(soup.prettify())"
   ]
  },
  {
   "cell_type": "code",
   "execution_count": 31,
   "id": "0d69e4f8",
   "metadata": {},
   "outputs": [
    {
     "name": "stdout",
     "output_type": "stream",
     "text": [
      "[' The candidate should be able to design high performance, maintainable, extensible software architectures to solve abstract business problems', ' Here are some example business problems:\"We want to reduce the time for productionizing experimental machine learning features to 1 day\"\"We want to completely automate the credit approval process while maintaining an accuracy of >90% when compared with manual approval\"They should be able to translate the high level design into a series of tasks that can be executed by other software engineers working in parallelThe high level designs are usually design documents consisting of relevant block diagrams, UML diagrams meant to be consumed by other engineering leaders and software engineersThey must be able to work with international teams effectively', ' They will be required to communicate with: They would be leading a team of talented but possibly inexperienced engineers who will look to you for mentorship', ' In a typical day, candidates would be spending10% of the time project management, 20% of the time doing code review and mentorship, 20% of the time coding (evaluating technologies, doing PoC, etc) 50% of the time requirement gathering, high level design, low level design, roadmap etc In summary, We are looking for candidates with a “tech first” approach', ' Candidates must be first and foremost technically strong', ' They would need experience of people management as a secondary requirement', '']\n",
      "\n",
      "[' The candidate should be able to design high performance, maintainable, extensible software architectures to solve abstract business problems', ' Here are some example business problems:\"We want to reduce the time for productionizing experimental machine learning features to 1 day\"\"We want to completely automate the credit approval process while maintaining an accuracy of >90% when compared with manual approval\"They should be able to translate the high level design into a series of tasks that can be executed by other software engineers working in parallelThe high level designs are usually design documents consisting of relevant block diagrams, UML diagrams meant to be consumed by other engineering leaders and software engineersThey must be able to work with international teams effectively', ' They will be required to communicate with: They would be leading a team of talented but possibly inexperienced engineers who will look to you for mentorship', ' In a typical day, candidates would be spending10% of the time project management, 20% of the time doing code review and mentorship, 20% of the time coding (evaluating technologies, doing PoC, etc) 50% of the time requirement gathering, high level design, low level design, roadmap etc In summary, We are looking for candidates with a “tech first” approach', ' Candidates must be first and foremost technically strong', ' They would need experience of people management as a secondary requirement']\n"
     ]
    }
   ],
   "source": [
    "paragraph_tags = soup.find_all('p')\n",
    "txt=''\n",
    "for p in paragraph_tags:\n",
    "    txt+=\" \"+p.get_text()\n",
    "#     print(p.get_text())\n",
    "#     print()\n",
    "my_list= txt.split('.')\n",
    "print(my_list)\n",
    "print()\n",
    "print(list(filter(None, my_list)))"
   ]
  },
  {
   "cell_type": "code",
   "execution_count": null,
   "id": "f77e211f",
   "metadata": {},
   "outputs": [],
   "source": []
  }
 ],
 "metadata": {
  "kernelspec": {
   "display_name": "Python 3 (ipykernel)",
   "language": "python",
   "name": "python3"
  },
  "language_info": {
   "codemirror_mode": {
    "name": "ipython",
    "version": 3
   },
   "file_extension": ".py",
   "mimetype": "text/x-python",
   "name": "python",
   "nbconvert_exporter": "python",
   "pygments_lexer": "ipython3",
   "version": "3.10.6"
  }
 },
 "nbformat": 4,
 "nbformat_minor": 5
}
